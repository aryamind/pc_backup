{
 "cells": [
  {
   "cell_type": "code",
   "execution_count": 16,
   "id": "7036fb82",
   "metadata": {},
   "outputs": [],
   "source": [
    "import numpy as np\n",
    "import torch\n",
    "import torch.nn.functional as F\n",
    "import torch.nn as nn\n",
    "import sys\n",
    "from torch.autograd import Variable\n",
    "import math"
   ]
  },
  {
   "cell_type": "code",
   "execution_count": 17,
   "id": "abb70759",
   "metadata": {},
   "outputs": [
    {
     "name": "stdout",
     "output_type": "stream",
     "text": [
      "tensor([[0, 1, 2],\n",
      "        [3, 4, 5]])\n",
      "False\n",
      "True\n"
     ]
    }
   ],
   "source": [
    "import torch\n",
    "\n",
    "a = torch.arange(6).reshape(2, 3)\n",
    "print(a)\n",
    "# tensor([[0, 1, 2],\n",
    "#         [3, 4, 5]])\n",
    "\n",
    "b = a.t()  # transpose\n",
    "print(b.is_contiguous())  \n",
    "# False, because the memory is now accessed in a different order\n",
    "\n",
    "c = b.contiguous()\n",
    "print(c.is_contiguous())  \n",
    "# True, it made a copy so the elements are laid out in memory without gaps\n"
   ]
  },
  {
   "cell_type": "code",
   "execution_count": 18,
   "id": "3b2a2d22",
   "metadata": {},
   "outputs": [],
   "source": [
    "def flip(x, dim):\n",
    "    xsize = x.size()\n",
    "    dim = x.dim() + dim if dim < 0 else dim\n",
    "    x = x.contiguous()\n",
    "    x = x.view(-1, *xsize[dim:])\n",
    "    x = x.view(x.size(0), x.size(1), -1)[:, getattr(torch.arange(x.size(1)-1, -1, -1), ('cpu','cuda')[x.is_cuda])().long(), :]\n",
    "    return x.view(xsize)"
   ]
  },
  {
   "cell_type": "code",
   "execution_count": 19,
   "id": "1b124b35",
   "metadata": {},
   "outputs": [
    {
     "name": "stdout",
     "output_type": "stream",
     "text": [
      "tensor([0, 1, 2, 3, 4, 5])\n"
     ]
    }
   ],
   "source": [
    "a = torch.arange(6)\n",
    "print(a)"
   ]
  },
  {
   "cell_type": "code",
   "execution_count": 20,
   "id": "48fa93fd",
   "metadata": {},
   "outputs": [],
   "source": [
    "asize=a.size()"
   ]
  },
  {
   "cell_type": "code",
   "execution_count": 21,
   "id": "7eb828c1",
   "metadata": {},
   "outputs": [
    {
     "data": {
      "text/plain": [
       "torch.Size([])"
      ]
     },
     "execution_count": 21,
     "metadata": {},
     "output_type": "execute_result"
    }
   ],
   "source": [
    "dim = a.dim()\n",
    "asize[dim:]"
   ]
  },
  {
   "cell_type": "code",
   "execution_count": 22,
   "id": "b570e6e0",
   "metadata": {},
   "outputs": [],
   "source": [
    "b=a.view(-1,*asize[dim:])"
   ]
  },
  {
   "cell_type": "code",
   "execution_count": 23,
   "id": "7592cc23",
   "metadata": {},
   "outputs": [
    {
     "data": {
      "text/plain": [
       "tensor([0, 1, 2, 3, 4, 5])"
      ]
     },
     "execution_count": 23,
     "metadata": {},
     "output_type": "execute_result"
    }
   ],
   "source": [
    "b"
   ]
  },
  {
   "cell_type": "code",
   "execution_count": 24,
   "id": "6e4d222e",
   "metadata": {},
   "outputs": [],
   "source": [
    "c = flip(a,0)"
   ]
  },
  {
   "cell_type": "code",
   "execution_count": 25,
   "id": "c369b975",
   "metadata": {},
   "outputs": [
    {
     "data": {
      "text/plain": [
       "tensor([5, 4, 3, 2, 1, 0])"
      ]
     },
     "execution_count": 25,
     "metadata": {},
     "output_type": "execute_result"
    }
   ],
   "source": [
    "c"
   ]
  },
  {
   "cell_type": "code",
   "execution_count": null,
   "id": "1e8b264c",
   "metadata": {},
   "outputs": [],
   "source": [
    "def sinc(band,t_right):\n",
    "    y_right= torch.sin(2*math.pi*band*t_right)/(2*math.pi*band*t_right)\n",
    "    y_left= flip(y_right,0)\n",
    "\n",
    "    y=torch.cat([y_left,torch.ones(1),y_right])\n",
    "\n",
    "    return y  "
   ]
  },
  {
   "cell_type": "code",
   "execution_count": 32,
   "id": "3afdc0f8",
   "metadata": {},
   "outputs": [
    {
     "name": "stdout",
     "output_type": "stream",
     "text": [
      "t_right: tensor([1., 2., 3., 4., 5.])\n",
      "y_right: tensor([ 6.3662e-01, -2.7828e-08, -2.1221e-01,  2.7828e-08,  1.2732e-01])\n",
      "y_left: tensor([ 1.2732e-01,  2.7828e-08, -2.1221e-01, -2.7828e-08,  6.3662e-01])\n",
      "sinc kernel: tensor([ 1.2732e-01,  2.7828e-08, -2.1221e-01, -2.7828e-08,  6.3662e-01,\n",
      "         1.0000e+00,  6.3662e-01, -2.7828e-08, -2.1221e-01,  2.7828e-08,\n",
      "         1.2732e-01])\n",
      "shape: torch.Size([11])\n"
     ]
    }
   ],
   "source": [
    "band = 0.25\n",
    "\n",
    "t_right = torch.arange(1, 6, dtype=torch.float32)\n",
    "\n",
    "y = sinc(band, t_right)\n",
    "\n",
    "print(\"t_right:\", t_right)\n",
    "print(\"y_right:\", torch.sin(2*math.pi*band*t_right)/(2*math.pi*band*t_right))\n",
    "print(\"y_left:\", flip(torch.sin(2*math.pi*band*t_right)/(2*math.pi*band*t_right),0))\n",
    "print(\"sinc kernel:\", y)\n",
    "print(\"shape:\", y.shape)\n"
   ]
  },
  {
   "cell_type": "code",
   "execution_count": 28,
   "id": "72e88d12",
   "metadata": {},
   "outputs": [],
   "source": [
    "class SincConv_fast(nn.Module):\n",
    "    @staticmethod\n",
    "    def to_mel(hz):\n",
    "        return 2595 * torch.log10(1 + hz / 700)\n",
    "\n",
    "    @staticmethod\n",
    "    def to_hz(mel):\n",
    "        return 700 * (10 ** (mel / 2595) - 1)\n",
    "\n",
    "    def __init__(self, out_channels, kernel_size, sample_rate=16000, in_channels=1, stride=1, padding=0, dilation=1, bias=False, groups=1, min_low_hz=50, min_band_hz=50):\n",
    "\n",
    "        super(SincConv_fast, self).__init__()\n",
    "        if in_channels !=1:\n",
    "            msg = \"SincConv only support one input channel (here, in_channels = {%i})\"%(in_channels)\n",
    "            raise ValueError(msg)\n",
    "\n",
    "        self.out_channels = out_channels\n",
    "        self.kernel_size = kernel_size\n",
    "\n",
    "        if kernel_size%2==0:\n",
    "            self.kernel_size = kernel_size+1\n",
    "        \n",
    "        self.stride = stride\n",
    "        self.padding = padding\n",
    "        self.dilation = dilation\n",
    "\n",
    "        if bias:\n",
    "            raise ValueError(\"SincConv does not bias\")\n",
    "        if groups >1:\n",
    "            raise ValueError('SincConv does not suppooer groups')\n",
    "\n",
    "        self.sample_rate = sample_rate\n",
    "        self.min_low_hz = min_low_hz\n",
    "        self.min_band_hz = min_band_hz\n",
    "\n",
    "        low_hz = 30\n",
    "        high_hz = self.sample_rate / 2 - (self.min_low_hz + self.min_band_hz)\n",
    "\n",
    "        mel = np.linspace(self.to_mel(low_hz),self.to_mel(high_hz),self.out_channels+1)\n",
    "        hz = self.to_hz(mel)\n",
    "        \n",
    "        # filter lower frequency (out_channels, 1)\n",
    "        self.low_hz_ = nn.Parameter(torch.Tensor(hz[:-1]).view(-1,1))\n",
    "\n",
    "        # filter frequency band (out_channels, 1)\n",
    "        self.band_hz_ = nn.Parameter(torch.Tensor(np.diff(hz)).view(-1,1))\n",
    "\n",
    "        # Hamming window\n",
    "        n_lin = torch.linspace(0, (self.kernel_size/2)-1, steps=int((self.kernel_size/2))) # computing only half of the window\n",
    "        self.window_ = 0.54-0.46*torch.cos(2*math.pi*n_lin/self.kernel_size)\n",
    "\n",
    "        # (1, kernel_size/2)\n",
    "        n = (self.kernel_size - 1) / 2.0\n",
    "        self.n_ = 2*math.pi*torch.arange(-n,0).view(1,-1) / self.sample_rate # due to symmerty, I only need half of the time axes\n",
    "\n",
    "    def forward(self, waveforms):\n",
    "        self.n_ = self.n_.to(waveforms.device)\n",
    "        self.window_ = self.window_.to(waveforms.device)\n",
    "\n",
    "        low = self.min_low_hz + torch.abs(self.low_hz_)\n",
    "\n",
    "        high = torch.clamp(low + self.min_band_hz + torch.abs(self.band_hz_),self.min_low_hz,self.sample_rate/2)\n",
    "        band=(high-low)[:,0]\n",
    "\n",
    "        f_times_t_low = torch.matmul(low,self.n_)\n",
    "        f_times_t_high = torch.matmul(high,self.n_)\n",
    "\n",
    "        band_pass_left = ((torch.sin(f_times_t_high)-torch.sin(f_times_t_low))/(self.n_/2))*self.window_\n",
    "        band_pass_center = 2*band.view(-1,1)\n",
    "        band_pass_right = torch.flip(band_pass_left,dims=[1])\n",
    "\n",
    "        band_pass = torch.cat([band_pass_left, band_pass_center, band_pass_right], dim=1)\n",
    "\n",
    "        band_pass = band_pass / (2*band[:,None])\n",
    "\n",
    "        self.filters = (band_pass).view(self.out_channels, 1, self.kernel_size)\n",
    "\n",
    "        return F.conv1d(waveforms, self.filters, stride=self.stride, padding=self.padding, dilation=self.dilation, bias=None, groups=1)\n",
    "\n",
    "        \n",
    "\n"
   ]
  },
  {
   "cell_type": "code",
   "execution_count": null,
   "id": "d21cf4a1",
   "metadata": {},
   "outputs": [],
   "source": [
    "class sinc_conv(nn.Module):\n",
    "\n",
    "    def __init__(self, N_filt, Filt_dim, fs):\n",
    "        super(sinc_conv,self).__init__()\n",
    "\n",
    "        low_freq_mel = 80\n",
    "        high_freq_mel = (2595 * np.log10(1 + (fs / 2) / 700)) # convert Hz to Mel\n",
    "        mel_points = np.linspace(low_freq_mel, high_freq_mel, N_filt) # Equally spaced in Mel scale\n",
    "        f_cos = (700 * (10**(mel_points / 2595) - 1)) # Convert Mel to Hz\n",
    "        b1 = np.roll(f_cos,1)\n",
    "        b2 = np.roll(f_cos,-1)\n",
    "        b1[0]=30\n",
    "        b2[-1]=(fs/2)-100\n",
    "\n",
    "        self.freq_scale = fs*1.0\n",
    "        self.filt_b1 = nn.Parameter(torch.from_numpy(b1/self.freq_scale))\n",
    "        self.filt_band = nn.Parameter(torch.from_numpy((b2-b1)/self.freq_scale))\n",
    "\n",
    "        self.N_filt = N_filt\n",
    "        self.Filt_dim = Filt_dim\n",
    "        self.fs = fs\n",
    "\n",
    "    def forward(self, x):\n",
    "\n",
    "        filters = torch.zeros(self.N_filt, self.Filt_dim)\n",
    "        N = self.Filt_dim\n",
    "        t_right = Variable(torch.linspace(1, (N-1)/2, steps=int((N-1)/2))/self.fs).cuda()\n",
    "        t_right = torch.linspace(1, (N-1)/2, step=int((N-1)/2)/self.fs)\n",
    "\n",
    "        min_freq = 50.0;\n",
    "        min_band = 50.0;\n",
    "\n",
    "        filt_beg_freq = torch.abs(self.filt_b1)+min_freq/self.freq_scale\n",
    "        filt_end_freq = filt_beg_freq+(torch.abs(self.filt_band)+min_band/self.freq_scale)\n",
    "\n",
    "        n = torch.linspace(0, N, steps=N)\n",
    "\n",
    "        window=0.54-0.46*torch.cos(2*math.pi*n/N);\n",
    "        # window=Variable(window.float().cuda())\n",
    "        window = window.float()\n",
    "\n",
    "\n",
    "        for i in range(self.N_filt):\n",
    "\n",
    "            low_pass1 = 2*filt_beg_freq[i].float()*sinc(filt_beg_freq[i].float()*self.freq_scale,t_right)\n",
    "            low_pass2 = 2*filt_end_freq[i].float()*sinc(filt_end_freq[i].float()*self.freq_scale,t_right)\n",
    "            band_pass=(low_pass2-low_pass1)\n",
    "\n",
    "            band_pass = band_pass/torch.max(band_pass)\n",
    "\n",
    "            filters[i,:] = band_pass.cuda()*window\n",
    "\n",
    "        out = F.conv1d(x, filter.view(self.N_filt,1,self.Filt_dim))\n",
    "\n",
    "        return out\n",
    "\n",
    "\n",
    "        "
   ]
  },
  {
   "cell_type": "code",
   "execution_count": 1,
   "id": "26a20d9d",
   "metadata": {},
   "outputs": [],
   "source": [
    "def act_fun(act_type):\n",
    "\n",
    "    if act_type==\"relu\":\n",
    "        return nn.ReLU()\n",
    "\n",
    "    if act_type==\"tanh\":\n",
    "        return nn.Tanh()\n",
    "\n",
    "    if act_type==\"sigmoid\":\n",
    "        return nn.Sigmoid()\n",
    "\n",
    "    if act_type==\"leaky_relu\":\n",
    "        return nn.LeakyReLU(0.2)\n",
    "\n",
    "    if act_type==\"elu\":\n",
    "        return nn.ELU()\n",
    "\n",
    "    if act_type==\"softmax\":\n",
    "        return nn.LogSoftmax(dim=1)\n",
    "\n",
    "    if act_type==\"linear\":\n",
    "        return nn.LeakyReLU(1)"
   ]
  },
  {
   "cell_type": "code",
   "execution_count": null,
   "id": "5ce746cb",
   "metadata": {},
   "outputs": [],
   "source": []
  }
 ],
 "metadata": {
  "kernelspec": {
   "display_name": "sinc",
   "language": "python",
   "name": "python3"
  },
  "language_info": {
   "codemirror_mode": {
    "name": "ipython",
    "version": 3
   },
   "file_extension": ".py",
   "mimetype": "text/x-python",
   "name": "python",
   "nbconvert_exporter": "python",
   "pygments_lexer": "ipython3",
   "version": "3.11.13"
  }
 },
 "nbformat": 4,
 "nbformat_minor": 5
}
