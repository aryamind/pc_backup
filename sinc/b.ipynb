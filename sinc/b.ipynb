{
 "cells": [
  {
   "cell_type": "code",
   "execution_count": null,
   "id": "dd597a69",
   "metadata": {},
   "outputs": [],
   "source": [
    "%pip install youtube-transcript-api\n"
   ]
  },
  {
   "cell_type": "code",
   "execution_count": 1,
   "id": "176b037d",
   "metadata": {},
   "outputs": [],
   "source": [
    "from langchain_community.document_loaders import YoutubeLoader"
   ]
  },
  {
   "cell_type": "code",
   "execution_count": 2,
   "id": "91d9c153",
   "metadata": {},
   "outputs": [
    {
     "name": "stdout",
     "output_type": "stream",
     "text": [
      "Note: you may need to restart the kernel to use updated packages.\n"
     ]
    }
   ],
   "source": [
    "%pip install --upgrade --quiet  youtube-transcript-api"
   ]
  },
  {
   "cell_type": "code",
   "execution_count": null,
   "id": "ef17cdbd",
   "metadata": {},
   "outputs": [],
   "source": [
    "loader = YoutubeLoader.from_youtube_url(\n",
    "    \"https://youtu.be/TKyDCwRQMLg?si=DhDLF6dLpc54jmhc\", add_video_info=False\n",
    ")"
   ]
  },
  {
   "cell_type": "code",
   "execution_count": 4,
   "id": "284f6f5d",
   "metadata": {},
   "outputs": [
    {
     "ename": "AttributeError",
     "evalue": "type object 'YouTubeTranscriptApi' has no attribute 'list_transcripts'",
     "output_type": "error",
     "traceback": [
      "\u001b[1;31m---------------------------------------------------------------------------\u001b[0m",
      "\u001b[1;31mAttributeError\u001b[0m                            Traceback (most recent call last)",
      "Cell \u001b[1;32mIn[4], line 1\u001b[0m\n\u001b[1;32m----> 1\u001b[0m \u001b[43mloader\u001b[49m\u001b[38;5;241;43m.\u001b[39;49m\u001b[43mload\u001b[49m\u001b[43m(\u001b[49m\u001b[43m)\u001b[49m\n",
      "File \u001b[1;32mc:\\Users\\DELL\\anaconda3\\envs\\langchain\\lib\\site-packages\\langchain_community\\document_loaders\\youtube.py:262\u001b[0m, in \u001b[0;36mYoutubeLoader.load\u001b[1;34m(self)\u001b[0m\n\u001b[0;32m    259\u001b[0m     \u001b[38;5;28mself\u001b[39m\u001b[38;5;241m.\u001b[39m_metadata\u001b[38;5;241m.\u001b[39mupdate(video_info)\n\u001b[0;32m    261\u001b[0m \u001b[38;5;28;01mtry\u001b[39;00m:\n\u001b[1;32m--> 262\u001b[0m     transcript_list \u001b[38;5;241m=\u001b[39m \u001b[43mYouTubeTranscriptApi\u001b[49m\u001b[38;5;241;43m.\u001b[39;49m\u001b[43mlist_transcripts\u001b[49m(\u001b[38;5;28mself\u001b[39m\u001b[38;5;241m.\u001b[39mvideo_id)\n\u001b[0;32m    263\u001b[0m \u001b[38;5;28;01mexcept\u001b[39;00m TranscriptsDisabled:\n\u001b[0;32m    264\u001b[0m     \u001b[38;5;28;01mreturn\u001b[39;00m []\n",
      "\u001b[1;31mAttributeError\u001b[0m: type object 'YouTubeTranscriptApi' has no attribute 'list_transcripts'"
     ]
    }
   ],
   "source": [
    "loader.load()"
   ]
  },
  {
   "cell_type": "code",
   "execution_count": null,
   "id": "29a54d97",
   "metadata": {},
   "outputs": [
    {
     "ename": "ImportError",
     "evalue": "Could not import \"pytube\" Python package. Please install it with `pip install pytube`.",
     "output_type": "error",
     "traceback": [
      "\u001b[1;31m---------------------------------------------------------------------------\u001b[0m",
      "\u001b[1;31mModuleNotFoundError\u001b[0m                       Traceback (most recent call last)",
      "File \u001b[1;32mc:\\Users\\DELL\\anaconda3\\envs\\langchain\\lib\\site-packages\\langchain_community\\document_loaders\\youtube.py:326\u001b[0m, in \u001b[0;36mYoutubeLoader._get_video_info\u001b[1;34m(self)\u001b[0m\n\u001b[0;32m    325\u001b[0m \u001b[38;5;28;01mtry\u001b[39;00m:\n\u001b[1;32m--> 326\u001b[0m     \u001b[38;5;28;01mfrom\u001b[39;00m\u001b[38;5;250m \u001b[39m\u001b[38;5;21;01mpytube\u001b[39;00m\u001b[38;5;250m \u001b[39m\u001b[38;5;28;01mimport\u001b[39;00m YouTube\n\u001b[0;32m    328\u001b[0m \u001b[38;5;28;01mexcept\u001b[39;00m \u001b[38;5;167;01mImportError\u001b[39;00m:\n",
      "\u001b[1;31mModuleNotFoundError\u001b[0m: No module named 'pytube'",
      "\nDuring handling of the above exception, another exception occurred:\n",
      "\u001b[1;31mImportError\u001b[0m                               Traceback (most recent call last)",
      "Cell \u001b[1;32mIn[9], line 7\u001b[0m\n\u001b[0;32m      1\u001b[0m \u001b[38;5;28;01mfrom\u001b[39;00m\u001b[38;5;250m \u001b[39m\u001b[38;5;21;01mlangchain_community\u001b[39;00m\u001b[38;5;21;01m.\u001b[39;00m\u001b[38;5;21;01mdocument_loaders\u001b[39;00m\u001b[38;5;250m \u001b[39m\u001b[38;5;28;01mimport\u001b[39;00m YoutubeLoader\n\u001b[0;32m      3\u001b[0m loader \u001b[38;5;241m=\u001b[39m YoutubeLoader\u001b[38;5;241m.\u001b[39mfrom_youtube_url(\n\u001b[0;32m      4\u001b[0m     \u001b[38;5;124m\"\u001b[39m\u001b[38;5;124mhttps://www.youtube.com/watch?v=QsYGlZkevEg\u001b[39m\u001b[38;5;124m\"\u001b[39m,\n\u001b[0;32m      5\u001b[0m     add_video_info\u001b[38;5;241m=\u001b[39m\u001b[38;5;28;01mTrue\u001b[39;00m\n\u001b[0;32m      6\u001b[0m )\n\u001b[1;32m----> 7\u001b[0m docs \u001b[38;5;241m=\u001b[39m \u001b[43mloader\u001b[49m\u001b[38;5;241;43m.\u001b[39;49m\u001b[43mload\u001b[49m\u001b[43m(\u001b[49m\u001b[43m)\u001b[49m\n\u001b[0;32m      8\u001b[0m \u001b[38;5;28mprint\u001b[39m(docs[\u001b[38;5;241m0\u001b[39m]\u001b[38;5;241m.\u001b[39mpage_content[:\u001b[38;5;241m500\u001b[39m])\n",
      "File \u001b[1;32mc:\\Users\\DELL\\anaconda3\\envs\\langchain\\lib\\site-packages\\langchain_community\\document_loaders\\youtube.py:258\u001b[0m, in \u001b[0;36mYoutubeLoader.load\u001b[1;34m(self)\u001b[0m\n\u001b[0;32m    250\u001b[0m     \u001b[38;5;28;01mraise\u001b[39;00m \u001b[38;5;167;01mImportError\u001b[39;00m(\n\u001b[0;32m    251\u001b[0m         \u001b[38;5;124m'\u001b[39m\u001b[38;5;124mCould not import \u001b[39m\u001b[38;5;124m\"\u001b[39m\u001b[38;5;124myoutube_transcript_api\u001b[39m\u001b[38;5;124m\"\u001b[39m\u001b[38;5;124m Python package. \u001b[39m\u001b[38;5;124m'\u001b[39m\n\u001b[0;32m    252\u001b[0m         \u001b[38;5;124m\"\u001b[39m\u001b[38;5;124mPlease install it with `pip install youtube-transcript-api`.\u001b[39m\u001b[38;5;124m\"\u001b[39m\n\u001b[0;32m    253\u001b[0m     )\n\u001b[0;32m    255\u001b[0m \u001b[38;5;28;01mif\u001b[39;00m \u001b[38;5;28mself\u001b[39m\u001b[38;5;241m.\u001b[39madd_video_info:\n\u001b[0;32m    256\u001b[0m     \u001b[38;5;66;03m# Get more video meta info\u001b[39;00m\n\u001b[0;32m    257\u001b[0m     \u001b[38;5;66;03m# Such as title, description, thumbnail url, publish_date\u001b[39;00m\n\u001b[1;32m--> 258\u001b[0m     video_info \u001b[38;5;241m=\u001b[39m \u001b[38;5;28;43mself\u001b[39;49m\u001b[38;5;241;43m.\u001b[39;49m\u001b[43m_get_video_info\u001b[49m\u001b[43m(\u001b[49m\u001b[43m)\u001b[49m\n\u001b[0;32m    259\u001b[0m     \u001b[38;5;28mself\u001b[39m\u001b[38;5;241m.\u001b[39m_metadata\u001b[38;5;241m.\u001b[39mupdate(video_info)\n\u001b[0;32m    261\u001b[0m \u001b[38;5;28;01mtry\u001b[39;00m:\n",
      "File \u001b[1;32mc:\\Users\\DELL\\anaconda3\\envs\\langchain\\lib\\site-packages\\langchain_community\\document_loaders\\youtube.py:329\u001b[0m, in \u001b[0;36mYoutubeLoader._get_video_info\u001b[1;34m(self)\u001b[0m\n\u001b[0;32m    326\u001b[0m     \u001b[38;5;28;01mfrom\u001b[39;00m\u001b[38;5;250m \u001b[39m\u001b[38;5;21;01mpytube\u001b[39;00m\u001b[38;5;250m \u001b[39m\u001b[38;5;28;01mimport\u001b[39;00m YouTube\n\u001b[0;32m    328\u001b[0m \u001b[38;5;28;01mexcept\u001b[39;00m \u001b[38;5;167;01mImportError\u001b[39;00m:\n\u001b[1;32m--> 329\u001b[0m     \u001b[38;5;28;01mraise\u001b[39;00m \u001b[38;5;167;01mImportError\u001b[39;00m(\n\u001b[0;32m    330\u001b[0m         \u001b[38;5;124m'\u001b[39m\u001b[38;5;124mCould not import \u001b[39m\u001b[38;5;124m\"\u001b[39m\u001b[38;5;124mpytube\u001b[39m\u001b[38;5;124m\"\u001b[39m\u001b[38;5;124m Python package. \u001b[39m\u001b[38;5;124m'\u001b[39m\n\u001b[0;32m    331\u001b[0m         \u001b[38;5;124m\"\u001b[39m\u001b[38;5;124mPlease install it with `pip install pytube`.\u001b[39m\u001b[38;5;124m\"\u001b[39m\n\u001b[0;32m    332\u001b[0m     )\n\u001b[0;32m    333\u001b[0m yt \u001b[38;5;241m=\u001b[39m YouTube(\u001b[38;5;124mf\u001b[39m\u001b[38;5;124m\"\u001b[39m\u001b[38;5;124mhttps://www.youtube.com/watch?v=\u001b[39m\u001b[38;5;132;01m{\u001b[39;00m\u001b[38;5;28mself\u001b[39m\u001b[38;5;241m.\u001b[39mvideo_id\u001b[38;5;132;01m}\u001b[39;00m\u001b[38;5;124m\"\u001b[39m)\n\u001b[0;32m    334\u001b[0m video_info \u001b[38;5;241m=\u001b[39m {\n\u001b[0;32m    335\u001b[0m     \u001b[38;5;124m\"\u001b[39m\u001b[38;5;124mtitle\u001b[39m\u001b[38;5;124m\"\u001b[39m: yt\u001b[38;5;241m.\u001b[39mtitle \u001b[38;5;129;01mor\u001b[39;00m \u001b[38;5;124m\"\u001b[39m\u001b[38;5;124mUnknown\u001b[39m\u001b[38;5;124m\"\u001b[39m,\n\u001b[0;32m    336\u001b[0m     \u001b[38;5;124m\"\u001b[39m\u001b[38;5;124mdescription\u001b[39m\u001b[38;5;124m\"\u001b[39m: yt\u001b[38;5;241m.\u001b[39mdescription \u001b[38;5;129;01mor\u001b[39;00m \u001b[38;5;124m\"\u001b[39m\u001b[38;5;124mUnknown\u001b[39m\u001b[38;5;124m\"\u001b[39m,\n\u001b[1;32m   (...)\u001b[0m\n\u001b[0;32m    343\u001b[0m     \u001b[38;5;124m\"\u001b[39m\u001b[38;5;124mauthor\u001b[39m\u001b[38;5;124m\"\u001b[39m: yt\u001b[38;5;241m.\u001b[39mauthor \u001b[38;5;129;01mor\u001b[39;00m \u001b[38;5;124m\"\u001b[39m\u001b[38;5;124mUnknown\u001b[39m\u001b[38;5;124m\"\u001b[39m,\n\u001b[0;32m    344\u001b[0m }\n",
      "\u001b[1;31mImportError\u001b[0m: Could not import \"pytube\" Python package. Please install it with `pip install pytube`."
     ]
    }
   ],
   "source": [
    "from langchain_community.document_loaders import YoutubeLoader\n",
    "\n",
    "loader = YoutubeLoader.from_youtube_url(\n",
    "    \"https://www.youtube.com/watch?v=QsYGlZkevEg\",\n",
    "    add_video_info=True\n",
    ")\n",
    "docs = loader.load()\n",
    "print(docs[0].page_content[:500])\n"
   ]
  },
  {
   "cell_type": "code",
   "execution_count": 7,
   "id": "183ce9a3",
   "metadata": {},
   "outputs": [
    {
     "ename": "AttributeError",
     "evalue": "'YouTubeTranscriptApi' object has no attribute 'fetch_captions'",
     "output_type": "error",
     "traceback": [
      "\u001b[1;31m---------------------------------------------------------------------------\u001b[0m",
      "\u001b[1;31mAttributeError\u001b[0m                            Traceback (most recent call last)",
      "Cell \u001b[1;32mIn[7], line 4\u001b[0m\n\u001b[0;32m      2\u001b[0m video_id\u001b[38;5;241m=\u001b[39m\u001b[38;5;124m\"\u001b[39m\u001b[38;5;124mTKyDCwRQMLg\u001b[39m\u001b[38;5;124m\"\u001b[39m\n\u001b[0;32m      3\u001b[0m ytt_api \u001b[38;5;241m=\u001b[39m YouTubeTranscriptApi()\n\u001b[1;32m----> 4\u001b[0m \u001b[43mytt_api\u001b[49m\u001b[38;5;241;43m.\u001b[39;49m\u001b[43mfetch_captions\u001b[49m(video_id)\n",
      "\u001b[1;31mAttributeError\u001b[0m: 'YouTubeTranscriptApi' object has no attribute 'fetch_captions'"
     ]
    }
   ],
   "source": [
    "from youtube_transcript_api import YouTubeTranscriptApi\n",
    "video_id=\"TKyDCwRQMLg\"\n",
    "ytt_api = YouTubeTranscriptApi()\n",
    "ytt_api.fetch_captions(video_id)"
   ]
  },
  {
   "cell_type": "code",
   "execution_count": null,
   "id": "95c6e49f",
   "metadata": {},
   "outputs": [
    {
     "name": "stdout",
     "output_type": "stream",
     "text": [
      "Error: type object 'YouTubeTranscriptApi' has no attribute 'list_transcripts'\n"
     ]
    }
   ],
   "source": [
    "from youtube_transcript_api import YouTubeTranscriptApi\n",
    "\n",
    "video_id = \"TKyDCwRQMLg\"\n",
    "\n",
    "# Try fetching transcript in English\n",
    "try:\n",
    "    a = YouTubeTranscriptApi.list_transcripts(video_id).find_transcript(['de', 'en']).fetch()\n",
    "    transcript = YouTubeTranscriptApi.get_transcript(video_id, languages=['en'])\n",
    "    for entry in transcript:\n",
    "        print(entry['text'])\n",
    "except Exception as e:\n",
    "    print(\"Error:\", e)\n"
   ]
  },
  {
   "cell_type": "code",
   "execution_count": 1,
   "id": "832efc5e",
   "metadata": {},
   "outputs": [
    {
     "ename": "AttributeError",
     "evalue": "type object 'YouTubeTranscriptApi' has no attribute 'list_transcripts'",
     "output_type": "error",
     "traceback": [
      "\u001b[31m---------------------------------------------------------------------------\u001b[39m",
      "\u001b[31mAttributeError\u001b[39m                            Traceback (most recent call last)",
      "\u001b[36mCell\u001b[39m\u001b[36m \u001b[39m\u001b[32mIn[1]\u001b[39m\u001b[32m, line 3\u001b[39m\n\u001b[32m      1\u001b[39m \u001b[38;5;28;01mfrom\u001b[39;00m\u001b[38;5;250m \u001b[39m\u001b[34;01myoutube_transcript_api\u001b[39;00m\u001b[38;5;250m \u001b[39m\u001b[38;5;28;01mimport\u001b[39;00m YouTubeTranscriptApi\n\u001b[32m----> \u001b[39m\u001b[32m3\u001b[39m \u001b[38;5;28mprint\u001b[39m(\u001b[43mYouTubeTranscriptApi\u001b[49m\u001b[43m.\u001b[49m\u001b[43mlist_transcripts\u001b[49m(\u001b[33m\"\u001b[39m\u001b[33mdQw4w9WgXcQ\u001b[39m\u001b[33m\"\u001b[39m))\n",
      "\u001b[31mAttributeError\u001b[39m: type object 'YouTubeTranscriptApi' has no attribute 'list_transcripts'"
     ]
    }
   ],
   "source": [
    "from youtube_transcript_api import YouTubeTranscriptApi\n",
    "\n",
    "print(YouTubeTranscriptApi.list_transcripts(\"dQw4w9WgXcQ\"))\n"
   ]
  },
  {
   "cell_type": "code",
   "execution_count": 16,
   "id": "e58a0d60",
   "metadata": {},
   "outputs": [
    {
     "name": "stdout",
     "output_type": "stream",
     "text": [
      "tensor([283.2299, 283.4678, 283.7058, 283.9438, 284.1817, 284.4197, 284.6576,\n",
      "        284.8956, 285.1335, 285.3715, 285.6095, 285.8474, 286.0854, 286.3233,\n",
      "        286.5613, 286.7993, 287.0372, 287.2752, 287.5131, 287.7511, 287.9890,\n",
      "        288.2270, 288.4650, 288.7029, 288.9409, 289.1788, 289.4168, 289.6547,\n",
      "        289.8927, 290.1306, 290.3686, 290.6066, 290.8445, 291.0825, 291.3204,\n",
      "        291.5584, 291.7964, 292.0343, 292.2723, 292.5102, 292.7482, 292.9861,\n",
      "        293.2241, 293.4621, 293.7000, 293.9380, 294.1759, 294.4139, 294.6519,\n",
      "        294.8898, 295.1277, 295.3657, 295.6037, 295.8416, 296.0796, 296.3175,\n",
      "        296.5555, 296.7935, 297.0314, 297.2694, 297.5073, 297.7453, 297.9832,\n",
      "        298.2212, 298.4592, 298.6971, 298.9351, 299.1730, 299.4110, 299.6490,\n",
      "        299.8869, 300.1248, 300.3628, 300.6008, 300.8387, 301.0767, 301.3146,\n",
      "        301.5526, 301.7906, 302.0285, 302.2665, 302.5044, 302.7424, 302.9803,\n",
      "        303.2183, 303.4563, 303.6942, 303.9322, 304.1701, 304.4081, 304.6461,\n",
      "        304.8840, 305.1220, 305.3599, 305.5979, 305.8358, 306.0738, 306.3118,\n",
      "        306.5497, 306.7877, 307.0256, 307.2636, 307.5015, 307.7395, 307.9774,\n",
      "        308.2154, 308.4534, 308.6913, 308.9293, 309.1672, 309.4052, 309.6432,\n",
      "        309.8811, 310.1191, 310.3570, 310.5950, 310.8329, 311.0709, 311.3089,\n",
      "        311.5468, 311.7848, 312.0227, 312.2607, 312.4987, 312.7366, 312.9745,\n",
      "        313.2125, 313.4505, 313.6884, 313.9264, 314.1643, 314.4023, 314.6403,\n",
      "        314.8782, 315.1162, 315.3541, 315.5921, 315.8300, 316.0680, 316.3060,\n",
      "        316.5439, 316.7819, 317.0198, 317.2578, 317.4958, 317.7337, 317.9717,\n",
      "        318.2096, 318.4476, 318.6855, 318.9235, 319.1614, 319.3994, 319.6374,\n",
      "        319.8753, 320.1133, 320.3512, 320.5892, 320.8271, 321.0651, 321.3031,\n",
      "        321.5410, 321.7790, 322.0169, 322.2549, 322.4929, 322.7308, 322.9688,\n",
      "        323.2067, 323.4447, 323.6826, 323.9206, 324.1586, 324.3965, 324.6345,\n",
      "        324.8724, 325.1104, 325.3483, 325.5863, 325.8242, 326.0622, 326.3002,\n",
      "        326.5381, 326.7761, 327.0140, 327.2520, 327.4900, 327.7279, 327.9659,\n",
      "        328.2038, 328.4418, 328.6797, 328.9177, 329.1557, 329.3936, 329.6316,\n",
      "        329.8695, 330.1075, 330.3455, 330.5834, 330.8214, 331.0593, 331.2973,\n",
      "        331.5352, 331.7732, 332.0111, 332.2491, 332.4871, 332.7250, 332.9630,\n",
      "        333.2009, 333.4389, 333.6768, 333.9148, 334.1528, 334.3907, 334.6287,\n",
      "        334.8666, 335.1046, 335.3426, 335.5805, 335.8185, 336.0564, 336.2944,\n",
      "        336.5323, 336.7703, 337.0082, 337.2462, 337.4842, 337.7221, 337.9601,\n",
      "        338.1980, 338.4360, 338.6740, 338.9119, 339.1499, 339.3878, 339.6258,\n",
      "        339.8637, 340.1017, 340.3397, 340.5776, 340.8156, 341.0535, 341.2915,\n",
      "        341.5294, 341.7674, 342.0054, 342.2433, 342.4813, 342.7192, 342.9572,\n",
      "        343.1951, 343.4331, 343.6711, 343.9090, 344.1470, 344.3849, 344.6229,\n",
      "        344.8608, 345.0988, 345.3368, 345.5747, 345.8127, 346.0506, 346.2886,\n",
      "        346.5266, 346.7645, 347.0025, 347.2404, 347.4784, 347.7163, 347.9543,\n",
      "        348.1923, 348.4302, 348.6682, 348.9061, 349.1441, 349.3820, 349.6200,\n",
      "        349.8579, 350.0959, 350.3339, 350.5718, 350.8098, 351.0477, 351.2857,\n",
      "        351.5237, 351.7616, 351.9996, 352.2375, 352.4755, 352.7134, 352.9514,\n",
      "        353.1894, 353.4273, 353.6653, 353.9032, 354.1412, 354.3792, 354.6171,\n",
      "        354.8550, 355.0930, 355.3310, 355.5689, 355.8069, 356.0448, 356.2828,\n",
      "        356.5208, 356.7587, 356.9967, 357.2346, 357.4726, 357.7105, 357.9485,\n",
      "        358.1865, 358.4244, 358.6624, 358.9003, 359.1383, 359.3763, 359.6142,\n",
      "        359.8522, 360.0901, 360.3281, 360.5660, 360.8040, 361.0419, 361.2799,\n",
      "        361.5179, 361.7558, 361.9938, 362.2317, 362.4697, 362.7076, 362.9456,\n",
      "        363.1836, 363.4215, 363.6595, 363.8974, 364.1354, 364.3734, 364.6113,\n",
      "        364.8493, 365.0872, 365.3252, 365.5631, 365.8011, 366.0391, 366.2770,\n",
      "        366.5150, 366.7529, 366.9909, 367.2288, 367.4668, 367.7047, 367.9427,\n",
      "        368.1807, 368.4186, 368.6566, 368.8945, 369.1325, 369.3705, 369.6084,\n",
      "        369.8464, 370.0843, 370.3223, 370.5602, 370.7982, 371.0362, 371.2741,\n",
      "        371.5121, 371.7500, 371.9880, 372.2260, 372.4639, 372.7018, 372.9398,\n",
      "        373.1778, 373.4157, 373.6537, 373.8916, 374.1296, 374.3676, 374.6055,\n",
      "        374.8435, 375.0814, 375.3194, 375.5573, 375.7953, 376.0333, 376.2712,\n",
      "        376.5092, 376.7471, 376.9851, 377.2231, 377.4610, 377.6990, 377.9369,\n",
      "        378.1749, 378.4128, 378.6508, 378.8887, 379.1267, 379.3647, 379.6026,\n",
      "        379.8406, 380.0785, 380.3165, 380.5544, 380.7924, 381.0304, 381.2683,\n",
      "        381.5063, 381.7442, 381.9822, 382.2202, 382.4581, 382.6961, 382.9340,\n",
      "        383.1720, 383.4099, 383.6479, 383.8859, 384.1238, 384.3618, 384.5997,\n",
      "        384.8377, 385.0757, 385.3136, 385.5515, 385.7895, 386.0275, 386.2654,\n",
      "        386.5034, 386.7413, 386.9793, 387.2173, 387.4552, 387.6932, 387.9311,\n",
      "        388.1691, 388.4070, 388.6450, 388.8830, 389.1209, 389.3589, 389.5968,\n",
      "        389.8348, 390.0728, 390.3107, 390.5486, 390.7866, 391.0246, 391.2625,\n",
      "        391.5005, 391.7384, 391.9764, 392.2144, 392.4523, 392.6903, 392.9282,\n",
      "        393.1662, 393.4041, 393.6421, 393.8801, 394.1180, 394.3560, 394.5939,\n",
      "        394.8319, 395.0699, 395.3078, 395.5458, 395.7837, 396.0217, 396.2596,\n",
      "        396.4976, 396.7355, 396.9735, 397.2115, 397.4494, 397.6874, 397.9253,\n",
      "        398.1633, 398.4012, 398.6392, 398.8772, 399.1151, 399.3531, 399.5910,\n",
      "        399.8290, 400.0670, 400.3049, 400.5429, 400.7808, 401.0188, 401.2567,\n",
      "        401.4947, 401.7327, 401.9706])\n"
     ]
    }
   ],
   "source": [
    "import torch\n",
    "\n",
    "def to_mel(hz):\n",
    "    hz = torch.tensor(hz, dtype=torch.float32)   # convert float → tensor\n",
    "    return 2595 * torch.log10(1 + hz / 700)\n",
    "\n",
    "def to_hz(mel):\n",
    "    mel = torch.tensor(mel, dtype=torch.float32)\n",
    "    return 700 * (10 ** (mel / 2595) - 1)\n",
    "\n",
    "mel = torch.linspace(to_mel(200), to_mel(300), 500)\n",
    "print(mel)\n"
   ]
  },
  {
   "cell_type": "code",
   "execution_count": 14,
   "id": "5a8a2ec7",
   "metadata": {},
   "outputs": [
    {
     "name": "stdout",
     "output_type": "stream",
     "text": [
      "[   0.           16.03206413   32.06412826   48.09619238   64.12825651\n",
      "   80.16032064   96.19238477  112.2244489   128.25651303  144.28857715\n",
      "  160.32064128  176.35270541  192.38476954  208.41683367  224.4488978\n",
      "  240.48096192  256.51302605  272.54509018  288.57715431  304.60921844\n",
      "  320.64128257  336.67334669  352.70541082  368.73747495  384.76953908\n",
      "  400.80160321  416.83366733  432.86573146  448.89779559  464.92985972\n",
      "  480.96192385  496.99398798  513.0260521   529.05811623  545.09018036\n",
      "  561.12224449  577.15430862  593.18637275  609.21843687  625.250501\n",
      "  641.28256513  657.31462926  673.34669339  689.37875752  705.41082164\n",
      "  721.44288577  737.4749499   753.50701403  769.53907816  785.57114228\n",
      "  801.60320641  817.63527054  833.66733467  849.6993988   865.73146293\n",
      "  881.76352705  897.79559118  913.82765531  929.85971944  945.89178357\n",
      "  961.9238477   977.95591182  993.98797595 1010.02004008 1026.05210421\n",
      " 1042.08416834 1058.11623246 1074.14829659 1090.18036072 1106.21242485\n",
      " 1122.24448898 1138.27655311 1154.30861723 1170.34068136 1186.37274549\n",
      " 1202.40480962 1218.43687375 1234.46893788 1250.501002   1266.53306613\n",
      " 1282.56513026 1298.59719439 1314.62925852 1330.66132265 1346.69338677\n",
      " 1362.7254509  1378.75751503 1394.78957916 1410.82164329 1426.85370741\n",
      " 1442.88577154 1458.91783567 1474.9498998  1490.98196393 1507.01402806\n",
      " 1523.04609218 1539.07815631 1555.11022044 1571.14228457 1587.1743487\n",
      " 1603.20641283 1619.23847695 1635.27054108 1651.30260521 1667.33466934\n",
      " 1683.36673347 1699.3987976  1715.43086172 1731.46292585 1747.49498998\n",
      " 1763.52705411 1779.55911824 1795.59118236 1811.62324649 1827.65531062\n",
      " 1843.68737475 1859.71943888 1875.75150301 1891.78356713 1907.81563126\n",
      " 1923.84769539 1939.87975952 1955.91182365 1971.94388778 1987.9759519\n",
      " 2004.00801603 2020.04008016 2036.07214429 2052.10420842 2068.13627255\n",
      " 2084.16833667 2100.2004008  2116.23246493 2132.26452906 2148.29659319\n",
      " 2164.32865731 2180.36072144 2196.39278557 2212.4248497  2228.45691383\n",
      " 2244.48897796 2260.52104208 2276.55310621 2292.58517034 2308.61723447\n",
      " 2324.6492986  2340.68136273 2356.71342685 2372.74549098 2388.77755511\n",
      " 2404.80961924 2420.84168337 2436.87374749 2452.90581162 2468.93787575\n",
      " 2484.96993988 2501.00200401 2517.03406814 2533.06613226 2549.09819639\n",
      " 2565.13026052 2581.16232465 2597.19438878 2613.22645291 2629.25851703\n",
      " 2645.29058116 2661.32264529 2677.35470942 2693.38677355 2709.41883768\n",
      " 2725.4509018  2741.48296593 2757.51503006 2773.54709419 2789.57915832\n",
      " 2805.61122244 2821.64328657 2837.6753507  2853.70741483 2869.73947896\n",
      " 2885.77154309 2901.80360721 2917.83567134 2933.86773547 2949.8997996\n",
      " 2965.93186373 2981.96392786 2997.99599198 3014.02805611 3030.06012024\n",
      " 3046.09218437 3062.1242485  3078.15631263 3094.18837675 3110.22044088\n",
      " 3126.25250501 3142.28456914 3158.31663327 3174.34869739 3190.38076152\n",
      " 3206.41282565 3222.44488978 3238.47695391 3254.50901804 3270.54108216\n",
      " 3286.57314629 3302.60521042 3318.63727455 3334.66933868 3350.70140281\n",
      " 3366.73346693 3382.76553106 3398.79759519 3414.82965932 3430.86172345\n",
      " 3446.89378758 3462.9258517  3478.95791583 3494.98997996 3511.02204409\n",
      " 3527.05410822 3543.08617234 3559.11823647 3575.1503006  3591.18236473\n",
      " 3607.21442886 3623.24649299 3639.27855711 3655.31062124 3671.34268537\n",
      " 3687.3747495  3703.40681363 3719.43887776 3735.47094188 3751.50300601\n",
      " 3767.53507014 3783.56713427 3799.5991984  3815.63126253 3831.66332665\n",
      " 3847.69539078 3863.72745491 3879.75951904 3895.79158317 3911.82364729\n",
      " 3927.85571142 3943.88777555 3959.91983968 3975.95190381 3991.98396794\n",
      " 4008.01603206 4024.04809619 4040.08016032 4056.11222445 4072.14428858\n",
      " 4088.17635271 4104.20841683 4120.24048096 4136.27254509 4152.30460922\n",
      " 4168.33667335 4184.36873747 4200.4008016  4216.43286573 4232.46492986\n",
      " 4248.49699399 4264.52905812 4280.56112224 4296.59318637 4312.6252505\n",
      " 4328.65731463 4344.68937876 4360.72144289 4376.75350701 4392.78557114\n",
      " 4408.81763527 4424.8496994  4440.88176353 4456.91382766 4472.94589178\n",
      " 4488.97795591 4505.01002004 4521.04208417 4537.0741483  4553.10621242\n",
      " 4569.13827655 4585.17034068 4601.20240481 4617.23446894 4633.26653307\n",
      " 4649.29859719 4665.33066132 4681.36272545 4697.39478958 4713.42685371\n",
      " 4729.45891784 4745.49098196 4761.52304609 4777.55511022 4793.58717435\n",
      " 4809.61923848 4825.65130261 4841.68336673 4857.71543086 4873.74749499\n",
      " 4889.77955912 4905.81162325 4921.84368737 4937.8757515  4953.90781563\n",
      " 4969.93987976 4985.97194389 5002.00400802 5018.03607214 5034.06813627\n",
      " 5050.1002004  5066.13226453 5082.16432866 5098.19639279 5114.22845691\n",
      " 5130.26052104 5146.29258517 5162.3246493  5178.35671343 5194.38877756\n",
      " 5210.42084168 5226.45290581 5242.48496994 5258.51703407 5274.5490982\n",
      " 5290.58116232 5306.61322645 5322.64529058 5338.67735471 5354.70941884\n",
      " 5370.74148297 5386.77354709 5402.80561122 5418.83767535 5434.86973948\n",
      " 5450.90180361 5466.93386774 5482.96593186 5498.99799599 5515.03006012\n",
      " 5531.06212425 5547.09418838 5563.12625251 5579.15831663 5595.19038076\n",
      " 5611.22244489 5627.25450902 5643.28657315 5659.31863727 5675.3507014\n",
      " 5691.38276553 5707.41482966 5723.44689379 5739.47895792 5755.51102204\n",
      " 5771.54308617 5787.5751503  5803.60721443 5819.63927856 5835.67134269\n",
      " 5851.70340681 5867.73547094 5883.76753507 5899.7995992  5915.83166333\n",
      " 5931.86372745 5947.89579158 5963.92785571 5979.95991984 5995.99198397\n",
      " 6012.0240481  6028.05611222 6044.08817635 6060.12024048 6076.15230461\n",
      " 6092.18436874 6108.21643287 6124.24849699 6140.28056112 6156.31262525\n",
      " 6172.34468938 6188.37675351 6204.40881764 6220.44088176 6236.47294589\n",
      " 6252.50501002 6268.53707415 6284.56913828 6300.6012024  6316.63326653\n",
      " 6332.66533066 6348.69739479 6364.72945892 6380.76152305 6396.79358717\n",
      " 6412.8256513  6428.85771543 6444.88977956 6460.92184369 6476.95390782\n",
      " 6492.98597194 6509.01803607 6525.0501002  6541.08216433 6557.11422846\n",
      " 6573.14629259 6589.17835671 6605.21042084 6621.24248497 6637.2745491\n",
      " 6653.30661323 6669.33867735 6685.37074148 6701.40280561 6717.43486974\n",
      " 6733.46693387 6749.498998   6765.53106212 6781.56312625 6797.59519038\n",
      " 6813.62725451 6829.65931864 6845.69138277 6861.72344689 6877.75551102\n",
      " 6893.78757515 6909.81963928 6925.85170341 6941.88376754 6957.91583166\n",
      " 6973.94789579 6989.97995992 7006.01202405 7022.04408818 7038.0761523\n",
      " 7054.10821643 7070.14028056 7086.17234469 7102.20440882 7118.23647295\n",
      " 7134.26853707 7150.3006012  7166.33266533 7182.36472946 7198.39679359\n",
      " 7214.42885772 7230.46092184 7246.49298597 7262.5250501  7278.55711423\n",
      " 7294.58917836 7310.62124248 7326.65330661 7342.68537074 7358.71743487\n",
      " 7374.749499   7390.78156313 7406.81362725 7422.84569138 7438.87775551\n",
      " 7454.90981964 7470.94188377 7486.9739479  7503.00601202 7519.03807615\n",
      " 7535.07014028 7551.10220441 7567.13426854 7583.16633267 7599.19839679\n",
      " 7615.23046092 7631.26252505 7647.29458918 7663.32665331 7679.35871743\n",
      " 7695.39078156 7711.42284569 7727.45490982 7743.48697395 7759.51903808\n",
      " 7775.5511022  7791.58316633 7807.61523046 7823.64729459 7839.67935872\n",
      " 7855.71142285 7871.74348697 7887.7755511  7903.80761523 7919.83967936\n",
      " 7935.87174349 7951.90380762 7967.93587174 7983.96793587 8000.        ]\n"
     ]
    },
    {
     "data": {
      "image/png": "[encoded data removed]",
      "text/plain": [
       "<Figure size 1000x500 with 1 Axes>"
      ]
     },
     "metadata": {},
     "output_type": "display_data"
    },
    {
     "name": "stdout",
     "output_type": "stream",
     "text": [
      "[   0.            5.69142895   11.3828579    17.07428685   22.76571581\n",
      "   28.45714476   34.14857371   39.84000266   45.53143161   51.22286056\n",
      "   56.91428951   62.60571846   68.29714742   73.98857637   79.68000532\n",
      "   85.37143427   91.06286322   96.75429217  102.44572112  108.13715008\n",
      "  113.82857903  119.52000798  125.21143693  130.90286588  136.59429483\n",
      "  142.28572378  147.97715273  153.66858169  159.36001064  165.05143959\n",
      "  170.74286854  176.43429749  182.12572644  187.81715539  193.50858434\n",
      "  199.2000133   204.89144225  210.5828712   216.27430015  221.9657291\n",
      "  227.65715805  233.348587    239.04001596  244.73144491  250.42287386\n",
      "  256.11430281  261.80573176  267.49716071  273.18858966  278.88001861\n",
      "  284.57144757  290.26287652  295.95430547  301.64573442  307.33716337\n",
      "  313.02859232  318.72002127  324.41145023  330.10287918  335.79430813\n",
      "  341.48573708  347.17716603  352.86859498  358.56002393  364.25145288\n",
      "  369.94288184  375.63431079  381.32573974  387.01716869  392.70859764\n",
      "  398.40002659  404.09145554  409.78288449  415.47431345  421.1657424\n",
      "  426.85717135  432.5486003   438.24002925  443.9314582   449.62288715\n",
      "  455.31431611  461.00574506  466.69717401  472.38860296  478.08003191\n",
      "  483.77146086  489.46288981  495.15431876  500.84574772  506.53717667\n",
      "  512.22860562  517.92003457  523.61146352  529.30289247  534.99432142\n",
      "  540.68575038  546.37717933  552.06860828  557.76003723  563.45146618\n",
      "  569.14289513  574.83432408  580.52575303  586.21718199  591.90861094\n",
      "  597.60003989  603.29146884  608.98289779  614.67432674  620.36575569\n",
      "  626.05718465  631.7486136   637.44004255  643.1314715   648.82290045\n",
      "  654.5143294   660.20575835  665.8971873   671.58861626  677.28004521\n",
      "  682.97147416  688.66290311  694.35433206  700.04576101  705.73718996\n",
      "  711.42861891  717.12004787  722.81147682  728.50290577  734.19433472\n",
      "  739.88576367  745.57719262  751.26862157  756.96005053  762.65147948\n",
      "  768.34290843  774.03433738  779.72576633  785.41719528  791.10862423\n",
      "  796.80005318  802.49148214  808.18291109  813.87434004  819.56576899\n",
      "  825.25719794  830.94862689  836.64005584  842.3314848   848.02291375\n",
      "  853.7143427   859.40577165  865.0972006   870.78862955  876.4800585\n",
      "  882.17148745  887.86291641  893.55434536  899.24577431  904.93720326\n",
      "  910.62863221  916.32006116  922.01149011  927.70291907  933.39434802\n",
      "  939.08577697  944.77720592  950.46863487  956.16006382  961.85149277\n",
      "  967.54292172  973.23435068  978.92577963  984.61720858  990.30863753\n",
      "  996.00006648 1001.69149543 1007.38292438 1013.07435333 1018.76578229\n",
      " 1024.45721124 1030.14864019 1035.84006914 1041.53149809 1047.22292704\n",
      " 1052.91435599 1058.60578495 1064.2972139  1069.98864285 1075.6800718\n",
      " 1081.37150075 1087.0629297  1092.75435865 1098.4457876  1104.13721656\n",
      " 1109.82864551 1115.52007446 1121.21150341 1126.90293236 1132.59436131\n",
      " 1138.28579026 1143.97721922 1149.66864817 1155.36007712 1161.05150607\n",
      " 1166.74293502 1172.43436397 1178.12579292 1183.81722187 1189.50865083\n",
      " 1195.20007978 1200.89150873 1206.58293768 1212.27436663 1217.96579558\n",
      " 1223.65722453 1229.34865348 1235.04008244 1240.73151139 1246.42294034\n",
      " 1252.11436929 1257.80579824 1263.49722719 1269.18865614 1274.8800851\n",
      " 1280.57151405 1286.262943   1291.95437195 1297.6458009  1303.33722985\n",
      " 1309.0286588  1314.72008775 1320.41151671 1326.10294566 1331.79437461\n",
      " 1337.48580356 1343.17723251 1348.86866146 1354.56009041 1360.25151937\n",
      " 1365.94294832 1371.63437727 1377.32580622 1383.01723517 1388.70866412\n",
      " 1394.40009307 1400.09152202 1405.78295098 1411.47437993 1417.16580888\n",
      " 1422.85723783 1428.54866678 1434.24009573 1439.93152468 1445.62295364\n",
      " 1451.31438259 1457.00581154 1462.69724049 1468.38866944 1474.08009839\n",
      " 1479.77152734 1485.46295629 1491.15438525 1496.8458142  1502.53724315\n",
      " 1508.2286721  1513.92010105 1519.61153    1525.30295895 1530.9943879\n",
      " 1536.68581686 1542.37724581 1548.06867476 1553.76010371 1559.45153266\n",
      " 1565.14296161 1570.83439056 1576.52581952 1582.21724847 1587.90867742\n",
      " 1593.60010637 1599.29153532 1604.98296427 1610.67439322 1616.36582217\n",
      " 1622.05725113 1627.74868008 1633.44010903 1639.13153798 1644.82296693\n",
      " 1650.51439588 1656.20582483 1661.89725379 1667.58868274 1673.28011169\n",
      " 1678.97154064 1684.66296959 1690.35439854 1696.04582749 1701.73725644\n",
      " 1707.4286854  1713.12011435 1718.8115433  1724.50297225 1730.1944012\n",
      " 1735.88583015 1741.5772591  1747.26868806 1752.96011701 1758.65154596\n",
      " 1764.34297491 1770.03440386 1775.72583281 1781.41726176 1787.10869071\n",
      " 1792.80011967 1798.49154862 1804.18297757 1809.87440652 1815.56583547\n",
      " 1821.25726442 1826.94869337 1832.64012232 1838.33155128 1844.02298023\n",
      " 1849.71440918 1855.40583813 1861.09726708 1866.78869603 1872.48012498\n",
      " 1878.17155394 1883.86298289 1889.55441184 1895.24584079 1900.93726974\n",
      " 1906.62869869 1912.32012764 1918.01155659 1923.70298555 1929.3944145\n",
      " 1935.08584345 1940.7772724  1946.46870135 1952.1601303  1957.85155925\n",
      " 1963.54298821 1969.23441716 1974.92584611 1980.61727506 1986.30870401\n",
      " 1992.00013296 1997.69156191 2003.38299086 2009.07441982 2014.76584877\n",
      " 2020.45727772 2026.14870667 2031.84013562 2037.53156457 2043.22299352\n",
      " 2048.91442247 2054.60585143 2060.29728038 2065.98870933 2071.68013828\n",
      " 2077.37156723 2083.06299618 2088.75442513 2094.44585409 2100.13728304\n",
      " 2105.82871199 2111.52014094 2117.21156989 2122.90299884 2128.59442779\n",
      " 2134.28585674 2139.9772857  2145.66871465 2151.3601436  2157.05157255\n",
      " 2162.7430015  2168.43443045 2174.1258594  2179.81728836 2185.50871731\n",
      " 2191.20014626 2196.89157521 2202.58300416 2208.27443311 2213.96586206\n",
      " 2219.65729101 2225.34871997 2231.04014892 2236.73157787 2242.42300682\n",
      " 2248.11443577 2253.80586472 2259.49729367 2265.18872263 2270.88015158\n",
      " 2276.57158053 2282.26300948 2287.95443843 2293.64586738 2299.33729633\n",
      " 2305.02872528 2310.72015424 2316.41158319 2322.10301214 2327.79444109\n",
      " 2333.48587004 2339.17729899 2344.86872794 2350.56015689 2356.25158585\n",
      " 2361.9430148  2367.63444375 2373.3258727  2379.01730165 2384.7087306\n",
      " 2390.40015955 2396.09158851 2401.78301746 2407.47444641 2413.16587536\n",
      " 2418.85730431 2424.54873326 2430.24016221 2435.93159116 2441.62302012\n",
      " 2447.31444907 2453.00587802 2458.69730697 2464.38873592 2470.08016487\n",
      " 2475.77159382 2481.46302278 2487.15445173 2492.84588068 2498.53730963\n",
      " 2504.22873858 2509.92016753 2515.61159648 2521.30302543 2526.99445439\n",
      " 2532.68588334 2538.37731229 2544.06874124 2549.76017019 2555.45159914\n",
      " 2561.14302809 2566.83445704 2572.525886   2578.21731495 2583.9087439\n",
      " 2589.60017285 2595.2916018  2600.98303075 2606.6744597  2612.36588866\n",
      " 2618.05731761 2623.74874656 2629.44017551 2635.13160446 2640.82303341\n",
      " 2646.51446236 2652.20589131 2657.89732027 2663.58874922 2669.28017817\n",
      " 2674.97160712 2680.66303607 2686.35446502 2692.04589397 2697.73732293\n",
      " 2703.42875188 2709.12018083 2714.81160978 2720.50303873 2726.19446768\n",
      " 2731.88589663 2737.57732558 2743.26875454 2748.96018349 2754.65161244\n",
      " 2760.34304139 2766.03447034 2771.72589929 2777.41732824 2783.1087572\n",
      " 2788.80018615 2794.4916151  2800.18304405 2805.874473   2811.56590195\n",
      " 2817.2573309  2822.94875985 2828.64018881 2834.33161776 2840.02304671]\n"
     ]
    },
    {
     "data": {
      "image/png": "[encoded data removed]",
      "text/plain": [
       "<Figure size 1000x500 with 1 Axes>"
      ]
     },
     "metadata": {},
     "output_type": "display_data"
    }
   ],
   "source": [
    "import numpy as np\n",
    "import matplotlib.pyplot as plt\n",
    "\n",
    "# NumPy versions for visualization\n",
    "def to_mel(hz):\n",
    "    return 2595 * np.log10(1 + hz / 700)\n",
    "\n",
    "def to_hz(mel):\n",
    "    return 700 * (10 ** (mel / 2595) - 1)\n",
    "\n",
    "# Frequency range (0 Hz to 8000 Hz, like in speech processing)\n",
    "hz = np.linspace(0, 8000, 500)\n",
    "print(hz)\n",
    "mel = to_mel(hz)\n",
    "\n",
    "# Plot Hz → Mel\n",
    "plt.figure(figsize=(10, 5))\n",
    "plt.plot(hz, mel, label=\"Hz → Mel\")\n",
    "plt.xlabel(\"Frequency (Hz)\")\n",
    "plt.ylabel(\"Mel scale\")\n",
    "plt.title(\"Mel scale conversion\")\n",
    "plt.grid(True)\n",
    "plt.legend()\n",
    "plt.show()\n",
    "\n",
    "# Plot Mel → Hz\n",
    "mel_range = np.linspace(0, to_mel(8000), 500)\n",
    "print(mel_range)\n",
    "hz_back = to_hz(mel_range)\n",
    "\n",
    "plt.figure(figsize=(10, 5))\n",
    "plt.plot(mel_range, hz_back, color=\"orange\", label=\"Mel → Hz\")\n",
    "plt.xlabel(\"Mel scale\")\n",
    "plt.ylabel(\"Frequency (Hz)\")\n",
    "plt.title(\"Inverse Mel scale conversion\")\n",
    "plt.grid(True)\n",
    "plt.legend()\n",
    "plt.show()\n"
   ]
  },
  {
   "cell_type": "code",
   "execution_count": 17,
   "id": "5c7db886",
   "metadata": {},
   "outputs": [],
   "source": [
    "import torch\n",
    "import torch.nn as nn\n",
    "import torch.optim as optim\n",
    "\n",
    "X = torch.tensor([\n",
    "    [0., 0.],\n",
    "    [0., 1.],\n",
    "    [1., 0.],\n",
    "    [1., 1.]\n",
    "])\n",
    "y = torch.tensor([0., 1., 1., 0.]).unsqueeze(1)"
   ]
  },
  {
   "cell_type": "code",
   "execution_count": 20,
   "id": "75ab45c9",
   "metadata": {},
   "outputs": [],
   "source": [
    "class SimpleANN(nn.Module):\n",
    "    def __init__(self):\n",
    "        super(SimpleANN, self).__init__()\n",
    "        self.layer1 = nn.Linear(2,4)\n",
    "        self.layer2 = nn.Linear(4,1)\n",
    "        self.activation = nn.Sigmoid()\n",
    "\n",
    "    def forward(self, x):\n",
    "        x = torch.relu(self.layer1(x))\n",
    "        x = self.activation(self.layer2(x))\n",
    "\n",
    "        return x"
   ]
  },
  {
   "cell_type": "code",
   "execution_count": 21,
   "id": "956b12a5",
   "metadata": {},
   "outputs": [],
   "source": [
    "model = SimpleANN()"
   ]
  },
  {
   "cell_type": "code",
   "execution_count": 22,
   "id": "ff2315df",
   "metadata": {},
   "outputs": [],
   "source": [
    "criterion = nn.BCELoss()\n",
    "optimizer = optim.Adam(model.parameters(), lr=0.1)"
   ]
  },
  {
   "cell_type": "code",
   "execution_count": 23,
   "id": "00cda69a",
   "metadata": {},
   "outputs": [
    {
     "name": "stdout",
     "output_type": "stream",
     "text": [
      "Epoch [200/1000], Loss: 0.4775\n",
      "Epoch [400/1000], Loss: 0.4779\n",
      "Epoch [600/1000], Loss: 0.4774\n",
      "Epoch [800/1000], Loss: 0.4774\n",
      "Epoch [1000/1000], Loss: 0.4774\n"
     ]
    }
   ],
   "source": [
    "for epoch in range(1000):\n",
    "    # Forward pass\n",
    "    outputs = model(X)\n",
    "    loss = criterion(outputs, y)\n",
    "\n",
    "    # Backward pass\n",
    "    optimizer.zero_grad()\n",
    "    loss.backward()\n",
    "    optimizer.step()\n",
    "\n",
    "    if (epoch+1) % 200 == 0:\n",
    "        print(f\"Epoch [{epoch+1}/1000], Loss: {loss.item():.4f}\")\n",
    "\n"
   ]
  },
  {
   "cell_type": "code",
   "execution_count": 24,
   "id": "92a2cdb5",
   "metadata": {},
   "outputs": [
    {
     "name": "stdout",
     "output_type": "stream",
     "text": [
      "\n",
      "Predictions:\n",
      "tensor([[0.],\n",
      "        [0.],\n",
      "        [1.],\n",
      "        [0.]])\n"
     ]
    }
   ],
   "source": [
    "with torch.no_grad():\n",
    "    preds = model(X)\n",
    "    print(\"\\nPredictions:\")\n",
    "    print(preds.round())"
   ]
  },
  {
   "cell_type": "code",
   "execution_count": null,
   "id": "0de7f2a1",
   "metadata": {},
   "outputs": [],
   "source": []
  }
 ],
 "metadata": {
  "kernelspec": {
   "display_name": "sinc",
   "language": "python",
   "name": "python3"
  },
  "language_info": {
   "codemirror_mode": {
    "name": "ipython",
    "version": 3
   },
   "file_extension": ".py",
   "mimetype": "text/x-python",
   "name": "python",
   "nbconvert_exporter": "python",
   "pygments_lexer": "ipython3",
   "version": "3.11.13"
  }
 },
 "nbformat": 4,
 "nbformat_minor": 5
}
