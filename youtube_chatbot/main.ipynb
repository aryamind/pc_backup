{
 "cells": [
  {
   "cell_type": "code",
   "execution_count": null,
   "id": "4bc4e507",
   "metadata": {},
   "outputs": [],
   "source": [
    "import os\n",
    "os.environ[\"GOOGLE_API_KEY\"] = \"AIzaSyDfxDVxpCteBrQCUb8BwQST8VHUoShN\""
   ]
  },
  {
   "cell_type": "code",
   "execution_count": 309,
   "id": "9972760e",
   "metadata": {},
   "outputs": [],
   "source": [
    "from youtube_transcript_api import YouTubeTranscriptApi, TranscriptsDisabled\n",
    "from langchain.text_splitter import RecursiveCharacterTextSplitter\n",
    "from langchain_google_genai import ChatGoogleGenerativeAI\n",
    "from sentence_transformers import SentenceTransformer\n",
    "from langchain_huggingface import HuggingFaceEmbeddings\n",
    "from langchain_community.vectorstores import FAISS\n",
    "from langchain_core.prompts import PromptTemplate\n",
    "from bs4 import BeautifulSoup"
   ]
  },
  {
   "cell_type": "markdown",
   "id": "3a09a639",
   "metadata": {},
   "source": [
    "## Step 1a - Indexing (Document Ingestion)"
   ]
  },
  {
   "cell_type": "code",
   "execution_count": 310,
   "id": "12a24930",
   "metadata": {},
   "outputs": [
    {
     "name": "stdout",
     "output_type": "stream",
     "text": [
      "1\n",
      "An Overview of Speaker Recognition With Sincnet | by Akash Singh | Saarthi.ai | MediumSitemapOpen in appSign upSign inMedium LogoWriteSign upSign inSaarthi.ai·Multilingual virtual AI assistants fluent in spoken languages for a complete omnichannel customer communication.An Overview of Speaker Recognition With SincnetAkash Singh8 min read·Dec 5, 2019--3ListenSharePress enter or click to view image in full sizePhoto by Thomas Le on UnsplashThis article will help you deep-dive into Speaker Recognition, and learn everything about handling audio data.We will look into SPEAKER RECOGNITION FROM RAW WAVEFORM WITH SINCNET, an approach that converges fast on small training data.By training with only 15 seconds of audio from a single individual, we will make a Speaker identification model that can differentiate between users that it has seen while training.Speaker Recognition models capture characteristics of the voice of an individual.Here, we identify “Who is speaking?”.Two crucial parts of the process of speaker recognition are Speaker Verification and Speaker Identification.Speaker Verification: It is a one on one matching process. Here we have prior information that this is speaker “X” (This is verification phase), then the voice is matched to the speaker “X” (Which we get from enrollment phase) voice print only. Based on the amount of similarity we can set the threshold for matching.Speaker Identification: It is a one on n matching process. Here when a speaker comes, his voice is matched to n speakers and based on that a prediction is made as to “Who is Speaking?”.Deep Learning has Accelerated Speech DevelopmentPress enter or click to view image in full sizePhoto by Randall Bruder on UnsplashEarlier, there were handcrafted features for a speech like MFCC and FBANK, but we cannot use these features in all speech-related tasks.Recently, however, speech development has been accelerated with the help of Deep Learning.Convolutional Neural Network in the mix:CNN (Convolutional Neural Networks) has also come into the mix to capture important speech-features, exhibiting better performance than the aforementioned hand-crafted features.When we feed in the raw speech inputs in CNN, it learns to capture low-level speech representations, which helps in learning important narrow-band speaker characteristics such as pitch and formants.Speaker related information is captured at a lower frequency region. Thus, CNN should be designed in a way that it can capture meaningful features.According to the paper published on Sincnet, the first Convolution layer of the current waveform CNN is the most important as it gets high dimensional inputs. It also gets affected by the Vanishing Gradient.To overcome this in Sincnet, we have parametrized sinc functions to implement band-pass filters.The low and high cutoff frequencies are the only parameters of the filter learned from data. This solution still offers considerable flexibility, but forces the network to focus on high-level tunable parameters with a broad impact on the shape and bandwidth of the resulting filter.In the next section, we will see how Sincnet is designed to work efficiently.Breaking down the Architecture of SincnetWe take a standard CNN which performs time-domain convolutions(Convolution in time domain equals multiplication in the frequency domain) between input waveform and some Finite Impulse Response (FIR) filters as given below.Here,x[n] = chunk of speech signal,h[n] is a filter of length L,y[n] is the output.We can keep this chunk based on experiments with the dataset and all L elements of each filter are learned from the data.Sincnet performs its convolutions on function g which depends on Theta.In digital signal processing, g is defined such that a filter-bank composed of rectangular bandpass filters is employed. In the frequency domain, the magnitude of a generic bandpass filter can be written as the difference between two low-pass filters.Here f1 and f2 are the learned low and high cutoff frequencies, and rect(·) is the rectangular function in the magnitude frequency domain.Press enter or click to view image in full sizeSinc function is defined as sinc(x) = sin(x)/x.After returning to the time domain(using the inverse Fourier transform), the reference function g becomes:The major features which determine a unique speaker are captured in the lower frequency range. In the above equation, fs is equal to the sampling frequency of the input signal and cut-off frequency is initialized randomly in the range [0, fs/2].The sampling frequency may vary with the type of data you are experimenting with. An IVR system has a sampling frequency of 8Khz, whereas, a stereo system has a sampling frequency of 44khz.We can initialize the filters based on the cut-off frequencies of the mel-scale filter-bank. The major advantage of assigning filters this way is that it has the advantage of directly allocating more filters at the lower part of the spectrum which has unique information of speaker voices.To ensure f1 ≥ 0 and f2 ≥ f1, the previous equation is fed by the following parameters:Here we keep no bounds on f2, i.e., no force is imposed on f2 to be smaller than the Nyquist frequency(the minimum rate at which a signal can be sampled without introducing errors, which is twice the highest frequency present in the signal) as the model learns this while training. Different subsequent layers decide to give more or less importance to each filter output.An infinite number of elements L are required by an ideal bandpass filter. An ideal bandpass filter is where the passband is perfectly flat, and the attenuation in the stopband is infinite. Any truncation of g thus inevitably leads to an approximation of the ideal filter, characterized by ripples in the passband and limited attenuation in the stopband.So, windowing is performed to solve this issue. It is performed just by multiplying the truncated function g with a window function w, which aims to smooth out the abrupt discontinuities at the ends of g:This paper uses the popular Hamming window, defined as follows:We can get high-frequency selectivity with the use of the Hamming window. We can use other windows too. One important note here is that due to the symmetry, the filters can be computed efficiently by considering one half of the filter and inheriting the results for the other half.Training a model like this leads to fast Convergence, fewer parameters for training, interpretability.Fast Convergence: Sincnet is designed in such a way that it forces the network to focus on filter parameters which impacts it performace. This style of filtring technique helps to adapt to data while capturing knowledge just like feature extraction techniques on audio data. This prior knowledge makes learning the filter characteristics much easier, helping SincNet to converge significantly faster to a better solution. We get fast convergence within first 10–15 epochs.Less Number of parameters for training:SincNet drastically reduces the number of parameters in the first convolutional layer. For instance, if we consider a layer composed of F filters of length L, a standard CNN employs F · L parameters, against the 2F considered by SincNet. If F = 80 and L = 100, we employ 8k parameters for the CNN and only 160 for SincNet. Moreover, if we double the filter length L, a standard CNN doubles its parameter count (e.g., we go from 8k to 16k), while SincNet has an unchanged parameter count (only two parameters are employed for each filter, regardless its length L). This offers the possibility to derive very selective filters with many taps, without actually adding parameters to the optimization problem. Moreover, the compactness of the SincNet architecture makes it suitable in the few sample regime.Interpretability: The SincNet feature maps obtained in the first convolutional layer are definitely more interpretable and human-readable than other approaches. The filter bank, in fact, only depends on parameters with a clear physical meaning.Filter AnalysisPress enter or click to view image in full sizeIn the figures above, we can easily see how CNN and Sincnet filters learn differently. This filter was learned using the Librispeech dataset (the frequency response is plotted between 0 and 4 kHz). We can see that a normal CNN learn noisy filters.Press enter or click to view image in full sizeIn the two figure figures, we can see which frequency bands are covered by CNN and Sincnet.We can see the first peak corresponds to the pitch region (the average pitch is 133 Hz for a male and 234Hz for a female).The second peak (approximatively located at 500 Hz) mainly captures first formants, whose average value over various English vowels is indeed 500 Hz.Finally, the third peak (ranging from 900 to 1400 Hz) captures some important second formants, such as the second formant of the vowel /a/, which is located on average at 1100 Hz.SincNet learns filters that are, on average, more selective than CNN ones, allow it to better capture narrow-band speaker clues.Using the same model for Speaker VerificationOnce we are done with the speaker identification part we can use the same model for speaker verification.As the model learns to identify the unique features of a speaker, before the classification layer we get unique features of the audio that is passed through the network we can use that as speaker embeddings or d-vector.This d-vector is used in verifying whether the new speaker is said speaker or not. Let’s break this into two parts as Speaker Enrollment and speaker verification.Speaker Enrollment: In this phase when a new user comes into the system there voice samples are stored and d-vector is calculated of all the samples and an average is taken and stored as that users voice print. so that when next time the sam user comes we can match it with this stored voice print. Here longer voice samples help to capture features better and more number the number of samples help to show variation of the users voice. A good voice sample falls in the range 3–5 seconds.Speaker Verification: In verification phase we already have that users stored voice print and again when it comes for verifcation and says something we take its d-vector and compare it with the previously stored voice print. We can use cosine similarity to match the voice prints.ConclusionDealing with audio requires careful examination of the data, and trials over what the best ways for our use-cases are.One should understand what impact dividing the data based on gender, age, etc, could have.I have tried separating data based on gender, and it gave me better results by reducing the search space.Try to play with different sampling rates, noise and other things that can improve performance.Remember, the best solution arrives after tedious experimentationHappy Playing!!Machine LearningSpeech RecognitionDeep LearningData ScienceDeveloper----3Published in Saarthi.ai571 followers·Last published Jun 24, 2020Multilingual virtual AI assistants fluent in spoken languages for a complete omnichannel customer communication.Written by Akash Singh71 followers·28 followingConversational AI EngineerResponses (3)See all responsesHelpStatusAboutCareersPressBlogPrivacyRulesTermsText to speech\n",
      "\n",
      "\n",
      "\n",
      "\n",
      "\n",
      "\n",
      "\n",
      "\n",
      "\n",
      "\n",
      "\n",
      "\n",
      "\n",
      "\n",
      "\n",
      "\n",
      "\n",
      "\n",
      "\n",
      "\n",
      "\n",
      "\n",
      "\n",
      "\n",
      "\n",
      "\n",
      "\n",
      "\n",
      "\n",
      "\n",
      "\n",
      "\n",
      "\n",
      "\n",
      "\n",
      "\n",
      "\n",
      "\n"
     ]
    }
   ],
   "source": [
    "from langchain_community.document_loaders import WebBaseLoader\n",
    "\n",
    "# can extract multiple urls\n",
    "\n",
    "url = 'https://medium.com/saarthi-ai/an-overview-of-speaker-recognition-with-sincnet-2a613a072ae5'\n",
    "loader = WebBaseLoader(url)\n",
    "\n",
    "docs = loader.load()\n",
    "\n",
    "print(len(docs))\n",
    "\n",
    "print(docs[0].page_content)"
   ]
  },
  {
   "cell_type": "code",
   "execution_count": 311,
   "id": "acbc4802",
   "metadata": {},
   "outputs": [
    {
     "data": {
      "text/plain": [
       "[Document(metadata={'source': 'https://medium.com/saarthi-ai/an-overview-of-speaker-recognition-with-sincnet-2a613a072ae5', 'title': 'An Overview of Speaker Recognition With Sincnet | by Akash Singh | Saarthi.ai | Medium', 'description': 'This article will help you deep-dive into Speaker Recognition, and learn everything about handling audio data.', 'language': 'en'}, page_content='An Overview of Speaker Recognition With Sincnet | by Akash Singh | Saarthi.ai | MediumSitemapOpen in appSign upSign inMedium LogoWriteSign upSign inSaarthi.ai·Multilingual virtual AI assistants fluent in spoken languages for a complete omnichannel customer communication.An Overview of Speaker Recognition With SincnetAkash Singh8 min read·Dec 5, 2019--3ListenSharePress enter or click to view image in full sizePhoto by Thomas Le on UnsplashThis article will help you deep-dive into Speaker Recognition, and learn everything about handling audio data.We will look into SPEAKER RECOGNITION FROM RAW WAVEFORM WITH SINCNET, an approach that converges fast on small training data.By training with only 15 seconds of audio from a single individual, we will make a Speaker identification model that can differentiate between users that it has seen while training.Speaker Recognition models capture characteristics of the voice of an individual.Here, we identify “Who is speaking?”.Two crucial parts of the process of speaker recognition are Speaker Verification and Speaker Identification.Speaker Verification: It is a one on one matching process. Here we have prior information that this is speaker “X” (This is verification phase), then the voice is matched to the speaker “X” (Which we get from enrollment phase) voice print only. Based on the amount of similarity we can set the threshold for matching.Speaker Identification: It is a one on n matching process. Here when a speaker comes, his voice is matched to n speakers and based on that a prediction is made as to “Who is Speaking?”.Deep Learning has Accelerated Speech DevelopmentPress enter or click to view image in full sizePhoto by Randall Bruder on UnsplashEarlier, there were handcrafted features for a speech like MFCC and FBANK, but we cannot use these features in all speech-related tasks.Recently, however, speech development has been accelerated with the help of Deep Learning.Convolutional Neural Network in the mix:CNN (Convolutional Neural Networks) has also come into the mix to capture important speech-features, exhibiting better performance than the aforementioned hand-crafted features.When we feed in the raw speech inputs in CNN, it learns to capture low-level speech representations, which helps in learning important narrow-band speaker characteristics such as pitch and formants.Speaker related information is captured at a lower frequency region. Thus, CNN should be designed in a way that it can capture meaningful features.According to the paper published on Sincnet, the first Convolution layer of the current waveform CNN is the most important as it gets high dimensional inputs. It also gets affected by the Vanishing Gradient.To overcome this in Sincnet, we have parametrized sinc functions to implement band-pass filters.The low and high cutoff frequencies are the only parameters of the filter learned from data. This solution still offers considerable flexibility, but forces the network to focus on high-level tunable parameters with a broad impact on the shape and bandwidth of the resulting filter.In the next section, we will see how Sincnet is designed to work efficiently.Breaking down the Architecture of SincnetWe take a standard CNN which performs time-domain convolutions(Convolution in time domain equals multiplication in the frequency domain) between input waveform and some Finite Impulse Response (FIR) filters as given below.Here,x[n] = chunk of speech signal,h[n] is a filter of length L,y[n] is the output.We can keep this chunk based on experiments with the dataset and all L elements of each filter are learned from the data.Sincnet performs its convolutions on function g which depends on Theta.In digital signal processing, g is defined such that a filter-bank composed of rectangular bandpass filters is employed. In the frequency domain, the magnitude of a generic bandpass filter can be written as the difference between two low-pass filters.Here f1 and f2 are the learned low and high cutoff frequencies, and rect(·) is the rectangular function in the magnitude frequency domain.Press enter or click to view image in full sizeSinc function is defined as sinc(x) = sin(x)/x.After returning to the time domain(using the inverse Fourier transform), the reference function g becomes:The major features which determine a unique speaker are captured in the lower frequency range. In the above equation, fs is equal to the sampling frequency of the input signal and cut-off frequency is initialized randomly in the range [0, fs/2].The sampling frequency may vary with the type of data you are experimenting with. An IVR system has a sampling frequency of 8Khz, whereas, a stereo system has a sampling frequency of 44khz.We can initialize the filters based on the cut-off frequencies of the mel-scale filter-bank. The major advantage of assigning filters this way is that it has the advantage of directly allocating more filters at the lower part of the spectrum which has unique information of speaker voices.To ensure f1 ≥ 0 and f2 ≥ f1, the previous equation is fed by the following parameters:Here we keep no bounds on f2, i.e., no force is imposed on f2 to be smaller than the Nyquist frequency(the minimum rate at which a signal can be sampled without introducing errors, which is twice the highest frequency present in the signal) as the model learns this while training. Different subsequent layers decide to give more or less importance to each filter output.An infinite number of elements L are required by an ideal bandpass filter. An ideal bandpass filter is where the passband is perfectly flat, and the attenuation in the stopband is infinite. Any truncation of g thus inevitably leads to an approximation of the ideal filter, characterized by ripples in the passband and limited attenuation in the stopband.So, windowing is performed to solve this issue. It is performed just by multiplying the truncated function g with a window function w, which aims to smooth out the abrupt discontinuities at the ends of g:This paper uses the popular Hamming window, defined as follows:We can get high-frequency selectivity with the use of the Hamming window. We can use other windows too. One important note here is that due to the symmetry, the filters can be computed efficiently by considering one half of the filter and inheriting the results for the other half.Training a model like this leads to fast Convergence, fewer parameters for training, interpretability.Fast Convergence: Sincnet is designed in such a way that it forces the network to focus on filter parameters which impacts it performace. This style of filtring technique helps to adapt to data while capturing knowledge just like feature extraction techniques on audio data. This prior knowledge makes learning the filter characteristics much easier, helping SincNet to converge significantly faster to a better solution. We get fast convergence within first 10–15 epochs.Less Number of parameters for training:SincNet drastically reduces the number of parameters in the first convolutional layer. For instance, if we consider a layer composed of F filters of length L, a standard CNN employs F · L parameters, against the 2F considered by SincNet. If F = 80 and L = 100, we employ 8k parameters for the CNN and only 160 for SincNet. Moreover, if we double the filter length L, a standard CNN doubles its parameter count (e.g., we go from 8k to 16k), while SincNet has an unchanged parameter count (only two parameters are employed for each filter, regardless its length L). This offers the possibility to derive very selective filters with many taps, without actually adding parameters to the optimization problem. Moreover, the compactness of the SincNet architecture makes it suitable in the few sample regime.Interpretability: The SincNet feature maps obtained in the first convolutional layer are definitely more interpretable and human-readable than other approaches. The filter bank, in fact, only depends on parameters with a clear physical meaning.Filter AnalysisPress enter or click to view image in full sizeIn the figures above, we can easily see how CNN and Sincnet filters learn differently. This filter was learned using the Librispeech dataset (the frequency response is plotted between 0 and 4 kHz). We can see that a normal CNN learn noisy filters.Press enter or click to view image in full sizeIn the two figure figures, we can see which frequency bands are covered by CNN and Sincnet.We can see the first peak corresponds to the pitch region (the average pitch is 133 Hz for a male and 234Hz for a female).The second peak (approximatively located at 500 Hz) mainly captures first formants, whose average value over various English vowels is indeed 500 Hz.Finally, the third peak (ranging from 900 to 1400 Hz) captures some important second formants, such as the second formant of the vowel /a/, which is located on average at 1100 Hz.SincNet learns filters that are, on average, more selective than CNN ones, allow it to better capture narrow-band speaker clues.Using the same model for Speaker VerificationOnce we are done with the speaker identification part we can use the same model for speaker verification.As the model learns to identify the unique features of a speaker, before the classification layer we get unique features of the audio that is passed through the network we can use that as speaker embeddings or d-vector.This d-vector is used in verifying whether the new speaker is said speaker or not. Let’s break this into two parts as Speaker Enrollment and speaker verification.Speaker Enrollment: In this phase when a new user comes into the system there voice samples are stored and d-vector is calculated of all the samples and an average is taken and stored as that users voice print. so that when next time the sam user comes we can match it with this stored voice print. Here longer voice samples help to capture features better and more number the number of samples help to show variation of the users voice. A good voice sample falls in the range 3–5 seconds.Speaker Verification: In verification phase we already have that users stored voice print and again when it comes for verifcation and says something we take its d-vector and compare it with the previously stored voice print. We can use cosine similarity to match the voice prints.ConclusionDealing with audio requires careful examination of the data, and trials over what the best ways for our use-cases are.One should understand what impact dividing the data based on gender, age, etc, could have.I have tried separating data based on gender, and it gave me better results by reducing the search space.Try to play with different sampling rates, noise and other things that can improve performance.Remember, the best solution arrives after tedious experimentationHappy Playing!!Machine LearningSpeech RecognitionDeep LearningData ScienceDeveloper----3Published in Saarthi.ai571 followers·Last published\\xa0Jun 24, 2020Multilingual virtual AI assistants fluent in spoken languages for a complete omnichannel customer communication.Written by Akash Singh71 followers·28 followingConversational AI EngineerResponses (3)See all responsesHelpStatusAboutCareersPressBlogPrivacyRulesTermsText to speech\\n\\n\\n\\n\\n\\n\\n\\n\\n\\n\\n\\n\\n\\n\\n\\n\\n\\n\\n\\n\\n\\n\\n\\n\\n\\n\\n\\n\\n\\n\\n\\n\\n\\n\\n\\n\\n\\n')]"
      ]
     },
     "execution_count": 311,
     "metadata": {},
     "output_type": "execute_result"
    }
   ],
   "source": [
    "docs"
   ]
  },
  {
   "cell_type": "markdown",
   "id": "06201bda",
   "metadata": {},
   "source": [
    "## Step 1b - Indexing (Text Splitting)"
   ]
  },
  {
   "cell_type": "code",
   "execution_count": 312,
   "id": "e705fb60",
   "metadata": {},
   "outputs": [],
   "source": [
    "splitter = RecursiveCharacterTextSplitter(chunk_size=1000, chunk_overlap=200)\n",
    "chunks = splitter.split_documents(docs)"
   ]
  },
  {
   "cell_type": "code",
   "execution_count": 313,
   "id": "7cf3596d",
   "metadata": {},
   "outputs": [
    {
     "data": {
      "text/plain": [
       "14"
      ]
     },
     "execution_count": 313,
     "metadata": {},
     "output_type": "execute_result"
    }
   ],
   "source": [
    "len(chunks)"
   ]
  },
  {
   "cell_type": "code",
   "execution_count": 314,
   "id": "43a81930",
   "metadata": {},
   "outputs": [
    {
     "data": {
      "text/plain": [
       "Document(metadata={'source': 'https://medium.com/saarthi-ai/an-overview-of-speaker-recognition-with-sincnet-2a613a072ae5', 'title': 'An Overview of Speaker Recognition With Sincnet | by Akash Singh | Saarthi.ai | Medium', 'description': 'This article will help you deep-dive into Speaker Recognition, and learn everything about handling audio data.', 'language': 'en'}, page_content='physical meaning.Filter AnalysisPress enter or click to view image in full sizeIn the figures above, we can easily see how CNN and Sincnet filters learn differently. This filter was learned using the Librispeech dataset (the frequency response is plotted between 0 and 4 kHz). We can see that a normal CNN learn noisy filters.Press enter or click to view image in full sizeIn the two figure figures, we can see which frequency bands are covered by CNN and Sincnet.We can see the first peak corresponds to the pitch region (the average pitch is 133 Hz for a male and 234Hz for a female).The second peak (approximatively located at 500 Hz) mainly captures first formants, whose average value over various English vowels is indeed 500 Hz.Finally, the third peak (ranging from 900 to 1400 Hz) captures some important second formants, such as the second formant of the vowel /a/, which is located on average at 1100 Hz.SincNet learns filters that are, on average, more selective than CNN ones, allow it')"
      ]
     },
     "execution_count": 314,
     "metadata": {},
     "output_type": "execute_result"
    }
   ],
   "source": [
    "chunks[10]"
   ]
  },
  {
   "cell_type": "markdown",
   "id": "1d35387d",
   "metadata": {},
   "source": [
    "## Step 1c & 1d - Indexing (Embedding Generation and Storing in Vector Store)"
   ]
  },
  {
   "cell_type": "code",
   "execution_count": 315,
   "id": "404016c3",
   "metadata": {},
   "outputs": [],
   "source": [
    "embedding = HuggingFaceEmbeddings(model_name=\"sentence-transformers/all-MiniLM-L6-v2\")\n",
    "vector_store = FAISS.from_documents(chunks, embedding)"
   ]
  },
  {
   "cell_type": "code",
   "execution_count": 316,
   "id": "a59958ef",
   "metadata": {},
   "outputs": [
    {
     "data": {
      "text/plain": [
       "{0: 'cc67ba64-1d98-4c71-80ab-5af8d0ebf469',\n",
       " 1: '54ff1bb4-2424-47ca-a93c-ca224aacc4e4',\n",
       " 2: '2d711619-1d5c-4bcc-b0ce-23ab44ba80b9',\n",
       " 3: '6095afdc-efad-4d2d-ac08-fc0df594a2d6',\n",
       " 4: '304f3409-fd8d-4a10-bf49-b909aef1755b',\n",
       " 5: 'bc6c4d32-2f41-44c0-a621-6a8e7086123b',\n",
       " 6: '4580f96a-942c-4825-b534-9143759577a0',\n",
       " 7: 'ff455d94-9a9b-4adc-91c7-b74f58fe184e',\n",
       " 8: 'c5cda482-867a-4959-869b-bec7be3acc76',\n",
       " 9: '25945ec7-acc9-4b4f-a348-4af9127e253a',\n",
       " 10: '3f8e3344-5939-4b26-b5d2-a65e27163c5b',\n",
       " 11: 'c65550d8-493e-4a53-ae29-67d3f6c3f374',\n",
       " 12: 'faac63ed-0459-43c8-8966-dcf3e883bfb0',\n",
       " 13: '06043799-0150-4701-bee1-c08166e2b2e8'}"
      ]
     },
     "execution_count": 316,
     "metadata": {},
     "output_type": "execute_result"
    }
   ],
   "source": [
    "vector_store.index_to_docstore_id"
   ]
  },
  {
   "cell_type": "code",
   "execution_count": 317,
   "id": "bd1e0e7a",
   "metadata": {},
   "outputs": [
    {
     "data": {
      "text/plain": [
       "[]"
      ]
     },
     "execution_count": 317,
     "metadata": {},
     "output_type": "execute_result"
    }
   ],
   "source": [
    "vector_store.get_by_ids(['8e59cf2f-252f-474d-8942-cc16b4bf576b'])"
   ]
  },
  {
   "cell_type": "markdown",
   "id": "80d4c696",
   "metadata": {},
   "source": [
    "## Step 2 - Retrieval"
   ]
  },
  {
   "cell_type": "code",
   "execution_count": 318,
   "id": "aadf9b51",
   "metadata": {},
   "outputs": [],
   "source": [
    "retriever = vector_store.as_retriever(search_type=\"similarity\",search_kwargs={\"k\": 1})"
   ]
  },
  {
   "cell_type": "code",
   "execution_count": 319,
   "id": "8aa98e63",
   "metadata": {},
   "outputs": [
    {
     "data": {
      "text/plain": [
       "VectorStoreRetriever(tags=['FAISS', 'HuggingFaceEmbeddings'], vectorstore=<langchain_community.vectorstores.faiss.FAISS object at 0x00000203AE3F0D00>, search_kwargs={'k': 1})"
      ]
     },
     "execution_count": 319,
     "metadata": {},
     "output_type": "execute_result"
    }
   ],
   "source": [
    "retriever"
   ]
  },
  {
   "cell_type": "code",
   "execution_count": 320,
   "id": "0471d75c",
   "metadata": {},
   "outputs": [
    {
     "data": {
      "text/plain": [
       "[Document(id='6095afdc-efad-4d2d-ac08-fc0df594a2d6', metadata={'source': 'https://medium.com/saarthi-ai/an-overview-of-speaker-recognition-with-sincnet-2a613a072ae5', 'title': 'An Overview of Speaker Recognition With Sincnet | by Akash Singh | Saarthi.ai | Medium', 'description': 'This article will help you deep-dive into Speaker Recognition, and learn everything about handling audio data.', 'language': 'en'}, page_content='region. Thus, CNN should be designed in a way that it can capture meaningful features.According to the paper published on Sincnet, the first Convolution layer of the current waveform CNN is the most important as it gets high dimensional inputs. It also gets affected by the Vanishing Gradient.To overcome this in Sincnet, we have parametrized sinc functions to implement band-pass filters.The low and high cutoff frequencies are the only parameters of the filter learned from data. This solution still offers considerable flexibility, but forces the network to focus on high-level tunable parameters with a broad impact on the shape and bandwidth of the resulting filter.In the next section, we will see how Sincnet is designed to work efficiently.Breaking down the Architecture of SincnetWe take a standard CNN which performs time-domain convolutions(Convolution in time domain equals multiplication in the frequency domain) between input waveform and some Finite Impulse Response (FIR) filters as')]"
      ]
     },
     "execution_count": 320,
     "metadata": {},
     "output_type": "execute_result"
    }
   ],
   "source": [
    "retriever.invoke('What is SincNet?')"
   ]
  },
  {
   "cell_type": "markdown",
   "id": "9082afab",
   "metadata": {},
   "source": [
    "## Step 3 - Augmentation"
   ]
  },
  {
   "cell_type": "code",
   "execution_count": 321,
   "id": "afdfc8a6",
   "metadata": {},
   "outputs": [],
   "source": [
    "llm = ChatGoogleGenerativeAI(model=\"gemini-1.5-flash\", temperature=0.2)"
   ]
  },
  {
   "cell_type": "code",
   "execution_count": 322,
   "id": "342f5b7f",
   "metadata": {},
   "outputs": [],
   "source": [
    "prompt = PromptTemplate(\n",
    "    template=\"\"\"\n",
    "      You are a helpful assistant.\n",
    "      Answer ONLY from the provided transcript context.\n",
    "      If the context is insufficient, just say you don't know.\n",
    "\n",
    "      {context}\n",
    "      Question: {question}\n",
    "    \"\"\",\n",
    "    input_variables = ['context', 'question']\n",
    ")"
   ]
  },
  {
   "cell_type": "code",
   "execution_count": 323,
   "id": "ff53b713",
   "metadata": {},
   "outputs": [],
   "source": [
    "question          = \"is the topic of sincnet discussed in this video? if yes then what was discussed\"\n",
    "retrieved_docs    = retriever.invoke(question)"
   ]
  },
  {
   "cell_type": "code",
   "execution_count": 324,
   "id": "61629dce",
   "metadata": {},
   "outputs": [
    {
     "data": {
      "text/plain": [
       "[Document(id='6095afdc-efad-4d2d-ac08-fc0df594a2d6', metadata={'source': 'https://medium.com/saarthi-ai/an-overview-of-speaker-recognition-with-sincnet-2a613a072ae5', 'title': 'An Overview of Speaker Recognition With Sincnet | by Akash Singh | Saarthi.ai | Medium', 'description': 'This article will help you deep-dive into Speaker Recognition, and learn everything about handling audio data.', 'language': 'en'}, page_content='region. Thus, CNN should be designed in a way that it can capture meaningful features.According to the paper published on Sincnet, the first Convolution layer of the current waveform CNN is the most important as it gets high dimensional inputs. It also gets affected by the Vanishing Gradient.To overcome this in Sincnet, we have parametrized sinc functions to implement band-pass filters.The low and high cutoff frequencies are the only parameters of the filter learned from data. This solution still offers considerable flexibility, but forces the network to focus on high-level tunable parameters with a broad impact on the shape and bandwidth of the resulting filter.In the next section, we will see how Sincnet is designed to work efficiently.Breaking down the Architecture of SincnetWe take a standard CNN which performs time-domain convolutions(Convolution in time domain equals multiplication in the frequency domain) between input waveform and some Finite Impulse Response (FIR) filters as')]"
      ]
     },
     "execution_count": 324,
     "metadata": {},
     "output_type": "execute_result"
    }
   ],
   "source": [
    "retrieved_docs"
   ]
  },
  {
   "cell_type": "code",
   "execution_count": 325,
   "id": "06c29273",
   "metadata": {},
   "outputs": [
    {
     "data": {
      "text/plain": [
       "'region. Thus, CNN should be designed in a way that it can capture meaningful features.According to the paper published on Sincnet, the first Convolution layer of the current waveform CNN is the most important as it gets high dimensional inputs. It also gets affected by the Vanishing Gradient.To overcome this in Sincnet, we have parametrized sinc functions to implement band-pass filters.The low and high cutoff frequencies are the only parameters of the filter learned from data. This solution still offers considerable flexibility, but forces the network to focus on high-level tunable parameters with a broad impact on the shape and bandwidth of the resulting filter.In the next section, we will see how Sincnet is designed to work efficiently.Breaking down the Architecture of SincnetWe take a standard CNN which performs time-domain convolutions(Convolution in time domain equals multiplication in the frequency domain) between input waveform and some Finite Impulse Response (FIR) filters as'"
      ]
     },
     "execution_count": 325,
     "metadata": {},
     "output_type": "execute_result"
    }
   ],
   "source": [
    "context_text = \"\\n\\n\".join(doc.page_content for doc in retrieved_docs)\n",
    "context_text"
   ]
  },
  {
   "cell_type": "code",
   "execution_count": 326,
   "id": "0befd268",
   "metadata": {},
   "outputs": [],
   "source": [
    "final_prompt = prompt.invoke({\"context\": context_text, \"question\": question})"
   ]
  },
  {
   "cell_type": "code",
   "execution_count": 327,
   "id": "4d060900",
   "metadata": {},
   "outputs": [
    {
     "data": {
      "text/plain": [
       "StringPromptValue(text=\"\\n      You are a helpful assistant.\\n      Answer ONLY from the provided transcript context.\\n      If the context is insufficient, just say you don't know.\\n\\n      region. Thus, CNN should be designed in a way that it can capture meaningful features.According to the paper published on Sincnet, the first Convolution layer of the current waveform CNN is the most important as it gets high dimensional inputs. It also gets affected by the Vanishing Gradient.To overcome this in Sincnet, we have parametrized sinc functions to implement band-pass filters.The low and high cutoff frequencies are the only parameters of the filter learned from data. This solution still offers considerable flexibility, but forces the network to focus on high-level tunable parameters with a broad impact on the shape and bandwidth of the resulting filter.In the next section, we will see how Sincnet is designed to work efficiently.Breaking down the Architecture of SincnetWe take a standard CNN which performs time-domain convolutions(Convolution in time domain equals multiplication in the frequency domain) between input waveform and some Finite Impulse Response (FIR) filters as\\n      Question: is the topic of sincnet discussed in this video? if yes then what was discussed\\n    \")"
      ]
     },
     "execution_count": 327,
     "metadata": {},
     "output_type": "execute_result"
    }
   ],
   "source": [
    "final_prompt"
   ]
  },
  {
   "cell_type": "markdown",
   "id": "f54b8ff4",
   "metadata": {},
   "source": [
    "## Step 4 - Generation"
   ]
  },
  {
   "cell_type": "code",
   "execution_count": 328,
   "id": "b61c23f5",
   "metadata": {},
   "outputs": [
    {
     "name": "stderr",
     "output_type": "stream",
     "text": [
      "Retrying langchain_google_genai.chat_models._chat_with_retry.<locals>._chat_with_retry in 2.0 seconds as it raised ResourceExhausted: 429 You exceeded your current quota, please check your plan and billing details. For more information on this error, head to: https://ai.google.dev/gemini-api/docs/rate-limits. [violations {\n",
      "  quota_metric: \"generativelanguage.googleapis.com/generate_content_free_tier_requests\"\n",
      "  quota_id: \"GenerateRequestsPerDayPerProjectPerModel-FreeTier\"\n",
      "  quota_dimensions {\n",
      "    key: \"model\"\n",
      "    value: \"gemini-1.5-flash\"\n",
      "  }\n",
      "  quota_dimensions {\n",
      "    key: \"location\"\n",
      "    value: \"global\"\n",
      "  }\n",
      "  quota_value: 50\n",
      "}\n",
      ", links {\n",
      "  description: \"Learn more about Gemini API quotas\"\n",
      "  url: \"https://ai.google.dev/gemini-api/docs/rate-limits\"\n",
      "}\n",
      ", retry_delay {\n",
      "  seconds: 7\n",
      "}\n",
      "].\n",
      "Retrying langchain_google_genai.chat_models._chat_with_retry.<locals>._chat_with_retry in 4.0 seconds as it raised ResourceExhausted: 429 You exceeded your current quota, please check your plan and billing details. For more information on this error, head to: https://ai.google.dev/gemini-api/docs/rate-limits. [violations {\n",
      "  quota_metric: \"generativelanguage.googleapis.com/generate_content_free_tier_requests\"\n",
      "  quota_id: \"GenerateRequestsPerDayPerProjectPerModel-FreeTier\"\n",
      "  quota_dimensions {\n",
      "    key: \"model\"\n",
      "    value: \"gemini-1.5-flash\"\n",
      "  }\n",
      "  quota_dimensions {\n",
      "    key: \"location\"\n",
      "    value: \"global\"\n",
      "  }\n",
      "  quota_value: 50\n",
      "}\n",
      ", links {\n",
      "  description: \"Learn more about Gemini API quotas\"\n",
      "  url: \"https://ai.google.dev/gemini-api/docs/rate-limits\"\n",
      "}\n",
      ", retry_delay {\n",
      "  seconds: 4\n",
      "}\n",
      "].\n",
      "Retrying langchain_google_genai.chat_models._chat_with_retry.<locals>._chat_with_retry in 8.0 seconds as it raised ResourceExhausted: 429 You exceeded your current quota, please check your plan and billing details. For more information on this error, head to: https://ai.google.dev/gemini-api/docs/rate-limits. [violations {\n",
      "  quota_metric: \"generativelanguage.googleapis.com/generate_content_free_tier_requests\"\n",
      "  quota_id: \"GenerateRequestsPerDayPerProjectPerModel-FreeTier\"\n",
      "  quota_dimensions {\n",
      "    key: \"model\"\n",
      "    value: \"gemini-1.5-flash\"\n",
      "  }\n",
      "  quota_dimensions {\n",
      "    key: \"location\"\n",
      "    value: \"global\"\n",
      "  }\n",
      "  quota_value: 50\n",
      "}\n",
      ", links {\n",
      "  description: \"Learn more about Gemini API quotas\"\n",
      "  url: \"https://ai.google.dev/gemini-api/docs/rate-limits\"\n",
      "}\n",
      ", retry_delay {\n",
      "}\n",
      "].\n",
      "Retrying langchain_google_genai.chat_models._chat_with_retry.<locals>._chat_with_retry in 16.0 seconds as it raised ResourceExhausted: 429 You exceeded your current quota, please check your plan and billing details. For more information on this error, head to: https://ai.google.dev/gemini-api/docs/rate-limits. [violations {\n",
      "  quota_metric: \"generativelanguage.googleapis.com/generate_content_free_tier_requests\"\n",
      "  quota_id: \"GenerateRequestsPerDayPerProjectPerModel-FreeTier\"\n",
      "  quota_dimensions {\n",
      "    key: \"model\"\n",
      "    value: \"gemini-1.5-flash\"\n",
      "  }\n",
      "  quota_dimensions {\n",
      "    key: \"location\"\n",
      "    value: \"global\"\n",
      "  }\n",
      "  quota_value: 50\n",
      "}\n",
      ", links {\n",
      "  description: \"Learn more about Gemini API quotas\"\n",
      "  url: \"https://ai.google.dev/gemini-api/docs/rate-limits\"\n",
      "}\n",
      ", retry_delay {\n",
      "  seconds: 52\n",
      "}\n",
      "].\n",
      "Retrying langchain_google_genai.chat_models._chat_with_retry.<locals>._chat_with_retry in 32.0 seconds as it raised ResourceExhausted: 429 You exceeded your current quota, please check your plan and billing details. For more information on this error, head to: https://ai.google.dev/gemini-api/docs/rate-limits. [violations {\n",
      "  quota_metric: \"generativelanguage.googleapis.com/generate_content_free_tier_requests\"\n",
      "  quota_id: \"GenerateRequestsPerDayPerProjectPerModel-FreeTier\"\n",
      "  quota_dimensions {\n",
      "    key: \"model\"\n",
      "    value: \"gemini-1.5-flash\"\n",
      "  }\n",
      "  quota_dimensions {\n",
      "    key: \"location\"\n",
      "    value: \"global\"\n",
      "  }\n",
      "  quota_value: 50\n",
      "}\n",
      ", links {\n",
      "  description: \"Learn more about Gemini API quotas\"\n",
      "  url: \"https://ai.google.dev/gemini-api/docs/rate-limits\"\n",
      "}\n",
      ", retry_delay {\n",
      "  seconds: 36\n",
      "}\n",
      "].\n"
     ]
    },
    {
     "ename": "ResourceExhausted",
     "evalue": "429 You exceeded your current quota, please check your plan and billing details. For more information on this error, head to: https://ai.google.dev/gemini-api/docs/rate-limits. [violations {\n  quota_metric: \"generativelanguage.googleapis.com/generate_content_free_tier_requests\"\n  quota_id: \"GenerateRequestsPerDayPerProjectPerModel-FreeTier\"\n  quota_dimensions {\n    key: \"model\"\n    value: \"gemini-1.5-flash\"\n  }\n  quota_dimensions {\n    key: \"location\"\n    value: \"global\"\n  }\n  quota_value: 50\n}\n, links {\n  description: \"Learn more about Gemini API quotas\"\n  url: \"https://ai.google.dev/gemini-api/docs/rate-limits\"\n}\n, retry_delay {\n  seconds: 3\n}\n]",
     "output_type": "error",
     "traceback": [
      "\u001b[1;31m---------------------------------------------------------------------------\u001b[0m",
      "\u001b[1;31mResourceExhausted\u001b[0m                         Traceback (most recent call last)",
      "Cell \u001b[1;32mIn[328], line 1\u001b[0m\n\u001b[1;32m----> 1\u001b[0m answer \u001b[38;5;241m=\u001b[39m \u001b[43mllm\u001b[49m\u001b[38;5;241;43m.\u001b[39;49m\u001b[43minvoke\u001b[49m\u001b[43m(\u001b[49m\u001b[43mfinal_prompt\u001b[49m\u001b[43m)\u001b[49m\n\u001b[0;32m      2\u001b[0m \u001b[38;5;28mprint\u001b[39m(answer\u001b[38;5;241m.\u001b[39mcontent)\n",
      "File \u001b[1;32mc:\\Users\\DELL\\anaconda3\\envs\\langchain\\lib\\site-packages\\langchain_google_genai\\chat_models.py:1488\u001b[0m, in \u001b[0;36mChatGoogleGenerativeAI.invoke\u001b[1;34m(self, input, config, code_execution, stop, **kwargs)\u001b[0m\n\u001b[0;32m   1483\u001b[0m     \u001b[38;5;28;01melse\u001b[39;00m:\n\u001b[0;32m   1484\u001b[0m         \u001b[38;5;28;01mraise\u001b[39;00m \u001b[38;5;167;01mValueError\u001b[39;00m(\n\u001b[0;32m   1485\u001b[0m             \u001b[38;5;124m\"\u001b[39m\u001b[38;5;124mTools are already defined.code_execution tool can\u001b[39m\u001b[38;5;124m'\u001b[39m\u001b[38;5;124mt be defined\u001b[39m\u001b[38;5;124m\"\u001b[39m\n\u001b[0;32m   1486\u001b[0m         )\n\u001b[1;32m-> 1488\u001b[0m \u001b[38;5;28;01mreturn\u001b[39;00m \u001b[38;5;28msuper\u001b[39m()\u001b[38;5;241m.\u001b[39minvoke(\u001b[38;5;28minput\u001b[39m, config, stop\u001b[38;5;241m=\u001b[39mstop, \u001b[38;5;241m*\u001b[39m\u001b[38;5;241m*\u001b[39mkwargs)\n",
      "File \u001b[1;32mc:\\Users\\DELL\\anaconda3\\envs\\langchain\\lib\\site-packages\\langchain_core\\language_models\\chat_models.py:383\u001b[0m, in \u001b[0;36mBaseChatModel.invoke\u001b[1;34m(self, input, config, stop, **kwargs)\u001b[0m\n\u001b[0;32m    371\u001b[0m \u001b[38;5;129m@override\u001b[39m\n\u001b[0;32m    372\u001b[0m \u001b[38;5;28;01mdef\u001b[39;00m\u001b[38;5;250m \u001b[39m\u001b[38;5;21minvoke\u001b[39m(\n\u001b[0;32m    373\u001b[0m     \u001b[38;5;28mself\u001b[39m,\n\u001b[1;32m   (...)\u001b[0m\n\u001b[0;32m    378\u001b[0m     \u001b[38;5;241m*\u001b[39m\u001b[38;5;241m*\u001b[39mkwargs: Any,\n\u001b[0;32m    379\u001b[0m ) \u001b[38;5;241m-\u001b[39m\u001b[38;5;241m>\u001b[39m BaseMessage:\n\u001b[0;32m    380\u001b[0m     config \u001b[38;5;241m=\u001b[39m ensure_config(config)\n\u001b[0;32m    381\u001b[0m     \u001b[38;5;28;01mreturn\u001b[39;00m cast(\n\u001b[0;32m    382\u001b[0m         \u001b[38;5;124m\"\u001b[39m\u001b[38;5;124mChatGeneration\u001b[39m\u001b[38;5;124m\"\u001b[39m,\n\u001b[1;32m--> 383\u001b[0m         \u001b[38;5;28mself\u001b[39m\u001b[38;5;241m.\u001b[39mgenerate_prompt(\n\u001b[0;32m    384\u001b[0m             [\u001b[38;5;28mself\u001b[39m\u001b[38;5;241m.\u001b[39m_convert_input(\u001b[38;5;28minput\u001b[39m)],\n\u001b[0;32m    385\u001b[0m             stop\u001b[38;5;241m=\u001b[39mstop,\n\u001b[0;32m    386\u001b[0m             callbacks\u001b[38;5;241m=\u001b[39mconfig\u001b[38;5;241m.\u001b[39mget(\u001b[38;5;124m\"\u001b[39m\u001b[38;5;124mcallbacks\u001b[39m\u001b[38;5;124m\"\u001b[39m),\n\u001b[0;32m    387\u001b[0m             tags\u001b[38;5;241m=\u001b[39mconfig\u001b[38;5;241m.\u001b[39mget(\u001b[38;5;124m\"\u001b[39m\u001b[38;5;124mtags\u001b[39m\u001b[38;5;124m\"\u001b[39m),\n\u001b[0;32m    388\u001b[0m             metadata\u001b[38;5;241m=\u001b[39mconfig\u001b[38;5;241m.\u001b[39mget(\u001b[38;5;124m\"\u001b[39m\u001b[38;5;124mmetadata\u001b[39m\u001b[38;5;124m\"\u001b[39m),\n\u001b[0;32m    389\u001b[0m             run_name\u001b[38;5;241m=\u001b[39mconfig\u001b[38;5;241m.\u001b[39mget(\u001b[38;5;124m\"\u001b[39m\u001b[38;5;124mrun_name\u001b[39m\u001b[38;5;124m\"\u001b[39m),\n\u001b[0;32m    390\u001b[0m             run_id\u001b[38;5;241m=\u001b[39mconfig\u001b[38;5;241m.\u001b[39mpop(\u001b[38;5;124m\"\u001b[39m\u001b[38;5;124mrun_id\u001b[39m\u001b[38;5;124m\"\u001b[39m, \u001b[38;5;28;01mNone\u001b[39;00m),\n\u001b[0;32m    391\u001b[0m             \u001b[38;5;241m*\u001b[39m\u001b[38;5;241m*\u001b[39mkwargs,\n\u001b[0;32m    392\u001b[0m         )\u001b[38;5;241m.\u001b[39mgenerations[\u001b[38;5;241m0\u001b[39m][\u001b[38;5;241m0\u001b[39m],\n\u001b[0;32m    393\u001b[0m     )\u001b[38;5;241m.\u001b[39mmessage\n",
      "File \u001b[1;32mc:\\Users\\DELL\\anaconda3\\envs\\langchain\\lib\\site-packages\\langchain_core\\language_models\\chat_models.py:1006\u001b[0m, in \u001b[0;36mBaseChatModel.generate_prompt\u001b[1;34m(self, prompts, stop, callbacks, **kwargs)\u001b[0m\n\u001b[0;32m    997\u001b[0m \u001b[38;5;129m@override\u001b[39m\n\u001b[0;32m    998\u001b[0m \u001b[38;5;28;01mdef\u001b[39;00m\u001b[38;5;250m \u001b[39m\u001b[38;5;21mgenerate_prompt\u001b[39m(\n\u001b[0;32m    999\u001b[0m     \u001b[38;5;28mself\u001b[39m,\n\u001b[1;32m   (...)\u001b[0m\n\u001b[0;32m   1003\u001b[0m     \u001b[38;5;241m*\u001b[39m\u001b[38;5;241m*\u001b[39mkwargs: Any,\n\u001b[0;32m   1004\u001b[0m ) \u001b[38;5;241m-\u001b[39m\u001b[38;5;241m>\u001b[39m LLMResult:\n\u001b[0;32m   1005\u001b[0m     prompt_messages \u001b[38;5;241m=\u001b[39m [p\u001b[38;5;241m.\u001b[39mto_messages() \u001b[38;5;28;01mfor\u001b[39;00m p \u001b[38;5;129;01min\u001b[39;00m prompts]\n\u001b[1;32m-> 1006\u001b[0m     \u001b[38;5;28;01mreturn\u001b[39;00m \u001b[38;5;28mself\u001b[39m\u001b[38;5;241m.\u001b[39mgenerate(prompt_messages, stop\u001b[38;5;241m=\u001b[39mstop, callbacks\u001b[38;5;241m=\u001b[39mcallbacks, \u001b[38;5;241m*\u001b[39m\u001b[38;5;241m*\u001b[39mkwargs)\n",
      "File \u001b[1;32mc:\\Users\\DELL\\anaconda3\\envs\\langchain\\lib\\site-packages\\langchain_core\\language_models\\chat_models.py:825\u001b[0m, in \u001b[0;36mBaseChatModel.generate\u001b[1;34m(self, messages, stop, callbacks, tags, metadata, run_name, run_id, **kwargs)\u001b[0m\n\u001b[0;32m    822\u001b[0m \u001b[38;5;28;01mfor\u001b[39;00m i, m \u001b[38;5;129;01min\u001b[39;00m \u001b[38;5;28menumerate\u001b[39m(input_messages):\n\u001b[0;32m    823\u001b[0m     \u001b[38;5;28;01mtry\u001b[39;00m:\n\u001b[0;32m    824\u001b[0m         results\u001b[38;5;241m.\u001b[39mappend(\n\u001b[1;32m--> 825\u001b[0m             \u001b[38;5;28mself\u001b[39m\u001b[38;5;241m.\u001b[39m_generate_with_cache(\n\u001b[0;32m    826\u001b[0m                 m,\n\u001b[0;32m    827\u001b[0m                 stop\u001b[38;5;241m=\u001b[39mstop,\n\u001b[0;32m    828\u001b[0m                 run_manager\u001b[38;5;241m=\u001b[39mrun_managers[i] \u001b[38;5;28;01mif\u001b[39;00m run_managers \u001b[38;5;28;01melse\u001b[39;00m \u001b[38;5;28;01mNone\u001b[39;00m,\n\u001b[0;32m    829\u001b[0m                 \u001b[38;5;241m*\u001b[39m\u001b[38;5;241m*\u001b[39mkwargs,\n\u001b[0;32m    830\u001b[0m             )\n\u001b[0;32m    831\u001b[0m         )\n\u001b[0;32m    832\u001b[0m     \u001b[38;5;28;01mexcept\u001b[39;00m \u001b[38;5;167;01mBaseException\u001b[39;00m \u001b[38;5;28;01mas\u001b[39;00m e:\n\u001b[0;32m    833\u001b[0m         \u001b[38;5;28;01mif\u001b[39;00m run_managers:\n",
      "File \u001b[1;32mc:\\Users\\DELL\\anaconda3\\envs\\langchain\\lib\\site-packages\\langchain_core\\language_models\\chat_models.py:1072\u001b[0m, in \u001b[0;36mBaseChatModel._generate_with_cache\u001b[1;34m(self, messages, stop, run_manager, **kwargs)\u001b[0m\n\u001b[0;32m   1070\u001b[0m     result \u001b[38;5;241m=\u001b[39m generate_from_stream(\u001b[38;5;28miter\u001b[39m(chunks))\n\u001b[0;32m   1071\u001b[0m \u001b[38;5;28;01melif\u001b[39;00m inspect\u001b[38;5;241m.\u001b[39msignature(\u001b[38;5;28mself\u001b[39m\u001b[38;5;241m.\u001b[39m_generate)\u001b[38;5;241m.\u001b[39mparameters\u001b[38;5;241m.\u001b[39mget(\u001b[38;5;124m\"\u001b[39m\u001b[38;5;124mrun_manager\u001b[39m\u001b[38;5;124m\"\u001b[39m):\n\u001b[1;32m-> 1072\u001b[0m     result \u001b[38;5;241m=\u001b[39m \u001b[38;5;28mself\u001b[39m\u001b[38;5;241m.\u001b[39m_generate(\n\u001b[0;32m   1073\u001b[0m         messages, stop\u001b[38;5;241m=\u001b[39mstop, run_manager\u001b[38;5;241m=\u001b[39mrun_manager, \u001b[38;5;241m*\u001b[39m\u001b[38;5;241m*\u001b[39mkwargs\n\u001b[0;32m   1074\u001b[0m     )\n\u001b[0;32m   1075\u001b[0m \u001b[38;5;28;01melse\u001b[39;00m:\n\u001b[0;32m   1076\u001b[0m     result \u001b[38;5;241m=\u001b[39m \u001b[38;5;28mself\u001b[39m\u001b[38;5;241m.\u001b[39m_generate(messages, stop\u001b[38;5;241m=\u001b[39mstop, \u001b[38;5;241m*\u001b[39m\u001b[38;5;241m*\u001b[39mkwargs)\n",
      "File \u001b[1;32mc:\\Users\\DELL\\anaconda3\\envs\\langchain\\lib\\site-packages\\langchain_google_genai\\chat_models.py:1595\u001b[0m, in \u001b[0;36mChatGoogleGenerativeAI._generate\u001b[1;34m(self, messages, stop, run_manager, tools, functions, safety_settings, tool_config, generation_config, cached_content, tool_choice, **kwargs)\u001b[0m\n\u001b[0;32m   1568\u001b[0m \u001b[38;5;28;01mdef\u001b[39;00m\u001b[38;5;250m \u001b[39m\u001b[38;5;21m_generate\u001b[39m(\n\u001b[0;32m   1569\u001b[0m     \u001b[38;5;28mself\u001b[39m,\n\u001b[0;32m   1570\u001b[0m     messages: List[BaseMessage],\n\u001b[1;32m   (...)\u001b[0m\n\u001b[0;32m   1581\u001b[0m     \u001b[38;5;241m*\u001b[39m\u001b[38;5;241m*\u001b[39mkwargs: Any,\n\u001b[0;32m   1582\u001b[0m ) \u001b[38;5;241m-\u001b[39m\u001b[38;5;241m>\u001b[39m ChatResult:\n\u001b[0;32m   1583\u001b[0m     request \u001b[38;5;241m=\u001b[39m \u001b[38;5;28mself\u001b[39m\u001b[38;5;241m.\u001b[39m_prepare_request(\n\u001b[0;32m   1584\u001b[0m         messages,\n\u001b[0;32m   1585\u001b[0m         stop\u001b[38;5;241m=\u001b[39mstop,\n\u001b[1;32m   (...)\u001b[0m\n\u001b[0;32m   1593\u001b[0m         \u001b[38;5;241m*\u001b[39m\u001b[38;5;241m*\u001b[39mkwargs,\n\u001b[0;32m   1594\u001b[0m     )\n\u001b[1;32m-> 1595\u001b[0m     response: GenerateContentResponse \u001b[38;5;241m=\u001b[39m _chat_with_retry(\n\u001b[0;32m   1596\u001b[0m         request\u001b[38;5;241m=\u001b[39mrequest,\n\u001b[0;32m   1597\u001b[0m         \u001b[38;5;241m*\u001b[39m\u001b[38;5;241m*\u001b[39mkwargs,\n\u001b[0;32m   1598\u001b[0m         generation_method\u001b[38;5;241m=\u001b[39m\u001b[38;5;28mself\u001b[39m\u001b[38;5;241m.\u001b[39mclient\u001b[38;5;241m.\u001b[39mgenerate_content,\n\u001b[0;32m   1599\u001b[0m         metadata\u001b[38;5;241m=\u001b[39m\u001b[38;5;28mself\u001b[39m\u001b[38;5;241m.\u001b[39mdefault_metadata,\n\u001b[0;32m   1600\u001b[0m     )\n\u001b[0;32m   1601\u001b[0m     \u001b[38;5;28;01mreturn\u001b[39;00m _response_to_result(response)\n",
      "File \u001b[1;32mc:\\Users\\DELL\\anaconda3\\envs\\langchain\\lib\\site-packages\\langchain_google_genai\\chat_models.py:247\u001b[0m, in \u001b[0;36m_chat_with_retry\u001b[1;34m(generation_method, **kwargs)\u001b[0m\n\u001b[0;32m    238\u001b[0m         \u001b[38;5;28;01mraise\u001b[39;00m e\n\u001b[0;32m    240\u001b[0m params \u001b[38;5;241m=\u001b[39m (\n\u001b[0;32m    241\u001b[0m     {k: v \u001b[38;5;28;01mfor\u001b[39;00m k, v \u001b[38;5;129;01min\u001b[39;00m kwargs\u001b[38;5;241m.\u001b[39mitems() \u001b[38;5;28;01mif\u001b[39;00m k \u001b[38;5;129;01min\u001b[39;00m _allowed_params_prediction_service}\n\u001b[0;32m    242\u001b[0m     \u001b[38;5;28;01mif\u001b[39;00m (request \u001b[38;5;241m:=\u001b[39m kwargs\u001b[38;5;241m.\u001b[39mget(\u001b[38;5;124m\"\u001b[39m\u001b[38;5;124mrequest\u001b[39m\u001b[38;5;124m\"\u001b[39m))\n\u001b[1;32m   (...)\u001b[0m\n\u001b[0;32m    245\u001b[0m     \u001b[38;5;28;01melse\u001b[39;00m kwargs\n\u001b[0;32m    246\u001b[0m )\n\u001b[1;32m--> 247\u001b[0m \u001b[38;5;28;01mreturn\u001b[39;00m _chat_with_retry(\u001b[38;5;241m*\u001b[39m\u001b[38;5;241m*\u001b[39mparams)\n",
      "File \u001b[1;32mc:\\Users\\DELL\\anaconda3\\envs\\langchain\\lib\\site-packages\\tenacity\\__init__.py:338\u001b[0m, in \u001b[0;36mBaseRetrying.wraps.<locals>.wrapped_f\u001b[1;34m(*args, **kw)\u001b[0m\n\u001b[0;32m    336\u001b[0m copy \u001b[38;5;241m=\u001b[39m \u001b[38;5;28mself\u001b[39m\u001b[38;5;241m.\u001b[39mcopy()\n\u001b[0;32m    337\u001b[0m wrapped_f\u001b[38;5;241m.\u001b[39mstatistics \u001b[38;5;241m=\u001b[39m copy\u001b[38;5;241m.\u001b[39mstatistics  \u001b[38;5;66;03m# type: ignore[attr-defined]\u001b[39;00m\n\u001b[1;32m--> 338\u001b[0m \u001b[38;5;28;01mreturn\u001b[39;00m copy(f, \u001b[38;5;241m*\u001b[39margs, \u001b[38;5;241m*\u001b[39m\u001b[38;5;241m*\u001b[39mkw)\n",
      "File \u001b[1;32mc:\\Users\\DELL\\anaconda3\\envs\\langchain\\lib\\site-packages\\tenacity\\__init__.py:477\u001b[0m, in \u001b[0;36mRetrying.__call__\u001b[1;34m(self, fn, *args, **kwargs)\u001b[0m\n\u001b[0;32m    475\u001b[0m retry_state \u001b[38;5;241m=\u001b[39m RetryCallState(retry_object\u001b[38;5;241m=\u001b[39m\u001b[38;5;28mself\u001b[39m, fn\u001b[38;5;241m=\u001b[39mfn, args\u001b[38;5;241m=\u001b[39margs, kwargs\u001b[38;5;241m=\u001b[39mkwargs)\n\u001b[0;32m    476\u001b[0m \u001b[38;5;28;01mwhile\u001b[39;00m \u001b[38;5;28;01mTrue\u001b[39;00m:\n\u001b[1;32m--> 477\u001b[0m     do \u001b[38;5;241m=\u001b[39m \u001b[38;5;28;43mself\u001b[39;49m\u001b[38;5;241;43m.\u001b[39;49m\u001b[43miter\u001b[49m\u001b[43m(\u001b[49m\u001b[43mretry_state\u001b[49m\u001b[38;5;241;43m=\u001b[39;49m\u001b[43mretry_state\u001b[49m\u001b[43m)\u001b[49m\n\u001b[0;32m    478\u001b[0m     \u001b[38;5;28;01mif\u001b[39;00m \u001b[38;5;28misinstance\u001b[39m(do, DoAttempt):\n\u001b[0;32m    479\u001b[0m         \u001b[38;5;28;01mtry\u001b[39;00m:\n",
      "File \u001b[1;32mc:\\Users\\DELL\\anaconda3\\envs\\langchain\\lib\\site-packages\\tenacity\\__init__.py:378\u001b[0m, in \u001b[0;36mBaseRetrying.iter\u001b[1;34m(self, retry_state)\u001b[0m\n\u001b[0;32m    376\u001b[0m result \u001b[38;5;241m=\u001b[39m \u001b[38;5;28;01mNone\u001b[39;00m\n\u001b[0;32m    377\u001b[0m \u001b[38;5;28;01mfor\u001b[39;00m action \u001b[38;5;129;01min\u001b[39;00m \u001b[38;5;28mself\u001b[39m\u001b[38;5;241m.\u001b[39miter_state\u001b[38;5;241m.\u001b[39mactions:\n\u001b[1;32m--> 378\u001b[0m     result \u001b[38;5;241m=\u001b[39m \u001b[43maction\u001b[49m\u001b[43m(\u001b[49m\u001b[43mretry_state\u001b[49m\u001b[43m)\u001b[49m\n\u001b[0;32m    379\u001b[0m \u001b[38;5;28;01mreturn\u001b[39;00m result\n",
      "File \u001b[1;32mc:\\Users\\DELL\\anaconda3\\envs\\langchain\\lib\\site-packages\\tenacity\\__init__.py:420\u001b[0m, in \u001b[0;36mBaseRetrying._post_stop_check_actions.<locals>.exc_check\u001b[1;34m(rs)\u001b[0m\n\u001b[0;32m    418\u001b[0m retry_exc \u001b[38;5;241m=\u001b[39m \u001b[38;5;28mself\u001b[39m\u001b[38;5;241m.\u001b[39mretry_error_cls(fut)\n\u001b[0;32m    419\u001b[0m \u001b[38;5;28;01mif\u001b[39;00m \u001b[38;5;28mself\u001b[39m\u001b[38;5;241m.\u001b[39mreraise:\n\u001b[1;32m--> 420\u001b[0m     \u001b[38;5;28;01mraise\u001b[39;00m \u001b[43mretry_exc\u001b[49m\u001b[38;5;241;43m.\u001b[39;49m\u001b[43mreraise\u001b[49m\u001b[43m(\u001b[49m\u001b[43m)\u001b[49m\n\u001b[0;32m    421\u001b[0m \u001b[38;5;28;01mraise\u001b[39;00m retry_exc \u001b[38;5;28;01mfrom\u001b[39;00m\u001b[38;5;250m \u001b[39m\u001b[38;5;21;01mfut\u001b[39;00m\u001b[38;5;21;01m.\u001b[39;00m\u001b[38;5;21;01mexception\u001b[39;00m()\n",
      "File \u001b[1;32mc:\\Users\\DELL\\anaconda3\\envs\\langchain\\lib\\site-packages\\tenacity\\__init__.py:187\u001b[0m, in \u001b[0;36mRetryError.reraise\u001b[1;34m(self)\u001b[0m\n\u001b[0;32m    185\u001b[0m \u001b[38;5;28;01mdef\u001b[39;00m\u001b[38;5;250m \u001b[39m\u001b[38;5;21mreraise\u001b[39m(\u001b[38;5;28mself\u001b[39m) \u001b[38;5;241m-\u001b[39m\u001b[38;5;241m>\u001b[39m t\u001b[38;5;241m.\u001b[39mNoReturn:\n\u001b[0;32m    186\u001b[0m     \u001b[38;5;28;01mif\u001b[39;00m \u001b[38;5;28mself\u001b[39m\u001b[38;5;241m.\u001b[39mlast_attempt\u001b[38;5;241m.\u001b[39mfailed:\n\u001b[1;32m--> 187\u001b[0m         \u001b[38;5;28;01mraise\u001b[39;00m \u001b[38;5;28;43mself\u001b[39;49m\u001b[38;5;241;43m.\u001b[39;49m\u001b[43mlast_attempt\u001b[49m\u001b[38;5;241;43m.\u001b[39;49m\u001b[43mresult\u001b[49m\u001b[43m(\u001b[49m\u001b[43m)\u001b[49m\n\u001b[0;32m    188\u001b[0m     \u001b[38;5;28;01mraise\u001b[39;00m \u001b[38;5;28mself\u001b[39m\n",
      "File \u001b[1;32mc:\\Users\\DELL\\anaconda3\\envs\\langchain\\lib\\concurrent\\futures\\_base.py:451\u001b[0m, in \u001b[0;36mFuture.result\u001b[1;34m(self, timeout)\u001b[0m\n\u001b[0;32m    449\u001b[0m     \u001b[38;5;28;01mraise\u001b[39;00m CancelledError()\n\u001b[0;32m    450\u001b[0m \u001b[38;5;28;01melif\u001b[39;00m \u001b[38;5;28mself\u001b[39m\u001b[38;5;241m.\u001b[39m_state \u001b[38;5;241m==\u001b[39m FINISHED:\n\u001b[1;32m--> 451\u001b[0m     \u001b[38;5;28;01mreturn\u001b[39;00m \u001b[38;5;28;43mself\u001b[39;49m\u001b[38;5;241;43m.\u001b[39;49m\u001b[43m__get_result\u001b[49m\u001b[43m(\u001b[49m\u001b[43m)\u001b[49m\n\u001b[0;32m    453\u001b[0m \u001b[38;5;28mself\u001b[39m\u001b[38;5;241m.\u001b[39m_condition\u001b[38;5;241m.\u001b[39mwait(timeout)\n\u001b[0;32m    455\u001b[0m \u001b[38;5;28;01mif\u001b[39;00m \u001b[38;5;28mself\u001b[39m\u001b[38;5;241m.\u001b[39m_state \u001b[38;5;129;01min\u001b[39;00m [CANCELLED, CANCELLED_AND_NOTIFIED]:\n",
      "File \u001b[1;32mc:\\Users\\DELL\\anaconda3\\envs\\langchain\\lib\\concurrent\\futures\\_base.py:403\u001b[0m, in \u001b[0;36mFuture.__get_result\u001b[1;34m(self)\u001b[0m\n\u001b[0;32m    401\u001b[0m \u001b[38;5;28;01mif\u001b[39;00m \u001b[38;5;28mself\u001b[39m\u001b[38;5;241m.\u001b[39m_exception:\n\u001b[0;32m    402\u001b[0m     \u001b[38;5;28;01mtry\u001b[39;00m:\n\u001b[1;32m--> 403\u001b[0m         \u001b[38;5;28;01mraise\u001b[39;00m \u001b[38;5;28mself\u001b[39m\u001b[38;5;241m.\u001b[39m_exception\n\u001b[0;32m    404\u001b[0m     \u001b[38;5;28;01mfinally\u001b[39;00m:\n\u001b[0;32m    405\u001b[0m         \u001b[38;5;66;03m# Break a reference cycle with the exception in self._exception\u001b[39;00m\n\u001b[0;32m    406\u001b[0m         \u001b[38;5;28mself\u001b[39m \u001b[38;5;241m=\u001b[39m \u001b[38;5;28;01mNone\u001b[39;00m\n",
      "File \u001b[1;32mc:\\Users\\DELL\\anaconda3\\envs\\langchain\\lib\\site-packages\\tenacity\\__init__.py:480\u001b[0m, in \u001b[0;36mRetrying.__call__\u001b[1;34m(self, fn, *args, **kwargs)\u001b[0m\n\u001b[0;32m    478\u001b[0m \u001b[38;5;28;01mif\u001b[39;00m \u001b[38;5;28misinstance\u001b[39m(do, DoAttempt):\n\u001b[0;32m    479\u001b[0m     \u001b[38;5;28;01mtry\u001b[39;00m:\n\u001b[1;32m--> 480\u001b[0m         result \u001b[38;5;241m=\u001b[39m fn(\u001b[38;5;241m*\u001b[39margs, \u001b[38;5;241m*\u001b[39m\u001b[38;5;241m*\u001b[39mkwargs)\n\u001b[0;32m    481\u001b[0m     \u001b[38;5;28;01mexcept\u001b[39;00m \u001b[38;5;167;01mBaseException\u001b[39;00m:  \u001b[38;5;66;03m# noqa: B902\u001b[39;00m\n\u001b[0;32m    482\u001b[0m         retry_state\u001b[38;5;241m.\u001b[39mset_exception(sys\u001b[38;5;241m.\u001b[39mexc_info())  \u001b[38;5;66;03m# type: ignore[arg-type]\u001b[39;00m\n",
      "File \u001b[1;32mc:\\Users\\DELL\\anaconda3\\envs\\langchain\\lib\\site-packages\\langchain_google_genai\\chat_models.py:236\u001b[0m, in \u001b[0;36m_chat_with_retry.<locals>._chat_with_retry\u001b[1;34m(**kwargs)\u001b[0m\n\u001b[0;32m    232\u001b[0m     \u001b[38;5;28;01mif\u001b[39;00m \u001b[38;5;28mhasattr\u001b[39m(e, \u001b[38;5;124m\"\u001b[39m\u001b[38;5;124mretry_after\u001b[39m\u001b[38;5;124m\"\u001b[39m) \u001b[38;5;129;01mand\u001b[39;00m e\u001b[38;5;241m.\u001b[39mretry_after \u001b[38;5;241m<\u001b[39m kwargs\u001b[38;5;241m.\u001b[39mget(\n\u001b[0;32m    233\u001b[0m         \u001b[38;5;124m\"\u001b[39m\u001b[38;5;124mwait_exponential_max\u001b[39m\u001b[38;5;124m\"\u001b[39m, \u001b[38;5;241m60.0\u001b[39m\n\u001b[0;32m    234\u001b[0m     ):\n\u001b[0;32m    235\u001b[0m         time\u001b[38;5;241m.\u001b[39msleep(e\u001b[38;5;241m.\u001b[39mretry_after)\n\u001b[1;32m--> 236\u001b[0m     \u001b[38;5;28;01mraise\u001b[39;00m e\n\u001b[0;32m    237\u001b[0m \u001b[38;5;28;01mexcept\u001b[39;00m \u001b[38;5;167;01mException\u001b[39;00m \u001b[38;5;28;01mas\u001b[39;00m e:\n\u001b[0;32m    238\u001b[0m     \u001b[38;5;28;01mraise\u001b[39;00m e\n",
      "File \u001b[1;32mc:\\Users\\DELL\\anaconda3\\envs\\langchain\\lib\\site-packages\\langchain_google_genai\\chat_models.py:216\u001b[0m, in \u001b[0;36m_chat_with_retry.<locals>._chat_with_retry\u001b[1;34m(**kwargs)\u001b[0m\n\u001b[0;32m    213\u001b[0m \u001b[38;5;129m@retry_decorator\u001b[39m\n\u001b[0;32m    214\u001b[0m \u001b[38;5;28;01mdef\u001b[39;00m\u001b[38;5;250m \u001b[39m\u001b[38;5;21m_chat_with_retry\u001b[39m(\u001b[38;5;241m*\u001b[39m\u001b[38;5;241m*\u001b[39mkwargs: Any) \u001b[38;5;241m-\u001b[39m\u001b[38;5;241m>\u001b[39m Any:\n\u001b[0;32m    215\u001b[0m     \u001b[38;5;28;01mtry\u001b[39;00m:\n\u001b[1;32m--> 216\u001b[0m         \u001b[38;5;28;01mreturn\u001b[39;00m generation_method(\u001b[38;5;241m*\u001b[39m\u001b[38;5;241m*\u001b[39mkwargs)\n\u001b[0;32m    217\u001b[0m     \u001b[38;5;28;01mexcept\u001b[39;00m google\u001b[38;5;241m.\u001b[39mapi_core\u001b[38;5;241m.\u001b[39mexceptions\u001b[38;5;241m.\u001b[39mFailedPrecondition \u001b[38;5;28;01mas\u001b[39;00m exc:\n\u001b[0;32m    218\u001b[0m         \u001b[38;5;28;01mif\u001b[39;00m \u001b[38;5;124m\"\u001b[39m\u001b[38;5;124mlocation is not supported\u001b[39m\u001b[38;5;124m\"\u001b[39m \u001b[38;5;129;01min\u001b[39;00m exc\u001b[38;5;241m.\u001b[39mmessage:\n",
      "File \u001b[1;32mc:\\Users\\DELL\\anaconda3\\envs\\langchain\\lib\\site-packages\\google\\ai\\generativelanguage_v1beta\\services\\generative_service\\client.py:868\u001b[0m, in \u001b[0;36mGenerativeServiceClient.generate_content\u001b[1;34m(self, request, model, contents, retry, timeout, metadata)\u001b[0m\n\u001b[0;32m    865\u001b[0m \u001b[38;5;28mself\u001b[39m\u001b[38;5;241m.\u001b[39m_validate_universe_domain()\n\u001b[0;32m    867\u001b[0m \u001b[38;5;66;03m# Send the request.\u001b[39;00m\n\u001b[1;32m--> 868\u001b[0m response \u001b[38;5;241m=\u001b[39m \u001b[43mrpc\u001b[49m\u001b[43m(\u001b[49m\n\u001b[0;32m    869\u001b[0m \u001b[43m    \u001b[49m\u001b[43mrequest\u001b[49m\u001b[43m,\u001b[49m\n\u001b[0;32m    870\u001b[0m \u001b[43m    \u001b[49m\u001b[43mretry\u001b[49m\u001b[38;5;241;43m=\u001b[39;49m\u001b[43mretry\u001b[49m\u001b[43m,\u001b[49m\n\u001b[0;32m    871\u001b[0m \u001b[43m    \u001b[49m\u001b[43mtimeout\u001b[49m\u001b[38;5;241;43m=\u001b[39;49m\u001b[43mtimeout\u001b[49m\u001b[43m,\u001b[49m\n\u001b[0;32m    872\u001b[0m \u001b[43m    \u001b[49m\u001b[43mmetadata\u001b[49m\u001b[38;5;241;43m=\u001b[39;49m\u001b[43mmetadata\u001b[49m\u001b[43m,\u001b[49m\n\u001b[0;32m    873\u001b[0m \u001b[43m\u001b[49m\u001b[43m)\u001b[49m\n\u001b[0;32m    875\u001b[0m \u001b[38;5;66;03m# Done; return the response.\u001b[39;00m\n\u001b[0;32m    876\u001b[0m \u001b[38;5;28;01mreturn\u001b[39;00m response\n",
      "File \u001b[1;32mc:\\Users\\DELL\\anaconda3\\envs\\langchain\\lib\\site-packages\\google\\api_core\\gapic_v1\\method.py:131\u001b[0m, in \u001b[0;36m_GapicCallable.__call__\u001b[1;34m(self, timeout, retry, compression, *args, **kwargs)\u001b[0m\n\u001b[0;32m    128\u001b[0m \u001b[38;5;28;01mif\u001b[39;00m \u001b[38;5;28mself\u001b[39m\u001b[38;5;241m.\u001b[39m_compression \u001b[38;5;129;01mis\u001b[39;00m \u001b[38;5;129;01mnot\u001b[39;00m \u001b[38;5;28;01mNone\u001b[39;00m:\n\u001b[0;32m    129\u001b[0m     kwargs[\u001b[38;5;124m\"\u001b[39m\u001b[38;5;124mcompression\u001b[39m\u001b[38;5;124m\"\u001b[39m] \u001b[38;5;241m=\u001b[39m compression\n\u001b[1;32m--> 131\u001b[0m \u001b[38;5;28;01mreturn\u001b[39;00m wrapped_func(\u001b[38;5;241m*\u001b[39margs, \u001b[38;5;241m*\u001b[39m\u001b[38;5;241m*\u001b[39mkwargs)\n",
      "File \u001b[1;32mc:\\Users\\DELL\\anaconda3\\envs\\langchain\\lib\\site-packages\\google\\api_core\\retry\\retry_unary.py:294\u001b[0m, in \u001b[0;36mRetry.__call__.<locals>.retry_wrapped_func\u001b[1;34m(*args, **kwargs)\u001b[0m\n\u001b[0;32m    290\u001b[0m target \u001b[38;5;241m=\u001b[39m functools\u001b[38;5;241m.\u001b[39mpartial(func, \u001b[38;5;241m*\u001b[39margs, \u001b[38;5;241m*\u001b[39m\u001b[38;5;241m*\u001b[39mkwargs)\n\u001b[0;32m    291\u001b[0m sleep_generator \u001b[38;5;241m=\u001b[39m exponential_sleep_generator(\n\u001b[0;32m    292\u001b[0m     \u001b[38;5;28mself\u001b[39m\u001b[38;5;241m.\u001b[39m_initial, \u001b[38;5;28mself\u001b[39m\u001b[38;5;241m.\u001b[39m_maximum, multiplier\u001b[38;5;241m=\u001b[39m\u001b[38;5;28mself\u001b[39m\u001b[38;5;241m.\u001b[39m_multiplier\n\u001b[0;32m    293\u001b[0m )\n\u001b[1;32m--> 294\u001b[0m \u001b[38;5;28;01mreturn\u001b[39;00m \u001b[43mretry_target\u001b[49m\u001b[43m(\u001b[49m\n\u001b[0;32m    295\u001b[0m \u001b[43m    \u001b[49m\u001b[43mtarget\u001b[49m\u001b[43m,\u001b[49m\n\u001b[0;32m    296\u001b[0m \u001b[43m    \u001b[49m\u001b[38;5;28;43mself\u001b[39;49m\u001b[38;5;241;43m.\u001b[39;49m\u001b[43m_predicate\u001b[49m\u001b[43m,\u001b[49m\n\u001b[0;32m    297\u001b[0m \u001b[43m    \u001b[49m\u001b[43msleep_generator\u001b[49m\u001b[43m,\u001b[49m\n\u001b[0;32m    298\u001b[0m \u001b[43m    \u001b[49m\u001b[43mtimeout\u001b[49m\u001b[38;5;241;43m=\u001b[39;49m\u001b[38;5;28;43mself\u001b[39;49m\u001b[38;5;241;43m.\u001b[39;49m\u001b[43m_timeout\u001b[49m\u001b[43m,\u001b[49m\n\u001b[0;32m    299\u001b[0m \u001b[43m    \u001b[49m\u001b[43mon_error\u001b[49m\u001b[38;5;241;43m=\u001b[39;49m\u001b[43mon_error\u001b[49m\u001b[43m,\u001b[49m\n\u001b[0;32m    300\u001b[0m \u001b[43m\u001b[49m\u001b[43m)\u001b[49m\n",
      "File \u001b[1;32mc:\\Users\\DELL\\anaconda3\\envs\\langchain\\lib\\site-packages\\google\\api_core\\retry\\retry_unary.py:156\u001b[0m, in \u001b[0;36mretry_target\u001b[1;34m(target, predicate, sleep_generator, timeout, on_error, exception_factory, **kwargs)\u001b[0m\n\u001b[0;32m    152\u001b[0m \u001b[38;5;66;03m# pylint: disable=broad-except\u001b[39;00m\n\u001b[0;32m    153\u001b[0m \u001b[38;5;66;03m# This function explicitly must deal with broad exceptions.\u001b[39;00m\n\u001b[0;32m    154\u001b[0m \u001b[38;5;28;01mexcept\u001b[39;00m \u001b[38;5;167;01mException\u001b[39;00m \u001b[38;5;28;01mas\u001b[39;00m exc:\n\u001b[0;32m    155\u001b[0m     \u001b[38;5;66;03m# defer to shared logic for handling errors\u001b[39;00m\n\u001b[1;32m--> 156\u001b[0m     next_sleep \u001b[38;5;241m=\u001b[39m \u001b[43m_retry_error_helper\u001b[49m\u001b[43m(\u001b[49m\n\u001b[0;32m    157\u001b[0m \u001b[43m        \u001b[49m\u001b[43mexc\u001b[49m\u001b[43m,\u001b[49m\n\u001b[0;32m    158\u001b[0m \u001b[43m        \u001b[49m\u001b[43mdeadline\u001b[49m\u001b[43m,\u001b[49m\n\u001b[0;32m    159\u001b[0m \u001b[43m        \u001b[49m\u001b[43msleep_iter\u001b[49m\u001b[43m,\u001b[49m\n\u001b[0;32m    160\u001b[0m \u001b[43m        \u001b[49m\u001b[43merror_list\u001b[49m\u001b[43m,\u001b[49m\n\u001b[0;32m    161\u001b[0m \u001b[43m        \u001b[49m\u001b[43mpredicate\u001b[49m\u001b[43m,\u001b[49m\n\u001b[0;32m    162\u001b[0m \u001b[43m        \u001b[49m\u001b[43mon_error\u001b[49m\u001b[43m,\u001b[49m\n\u001b[0;32m    163\u001b[0m \u001b[43m        \u001b[49m\u001b[43mexception_factory\u001b[49m\u001b[43m,\u001b[49m\n\u001b[0;32m    164\u001b[0m \u001b[43m        \u001b[49m\u001b[43mtimeout\u001b[49m\u001b[43m,\u001b[49m\n\u001b[0;32m    165\u001b[0m \u001b[43m    \u001b[49m\u001b[43m)\u001b[49m\n\u001b[0;32m    166\u001b[0m     \u001b[38;5;66;03m# if exception not raised, sleep before next attempt\u001b[39;00m\n\u001b[0;32m    167\u001b[0m     time\u001b[38;5;241m.\u001b[39msleep(next_sleep)\n",
      "File \u001b[1;32mc:\\Users\\DELL\\anaconda3\\envs\\langchain\\lib\\site-packages\\google\\api_core\\retry\\retry_base.py:214\u001b[0m, in \u001b[0;36m_retry_error_helper\u001b[1;34m(exc, deadline, sleep_iterator, error_list, predicate_fn, on_error_fn, exc_factory_fn, original_timeout)\u001b[0m\n\u001b[0;32m    208\u001b[0m \u001b[38;5;28;01mif\u001b[39;00m \u001b[38;5;129;01mnot\u001b[39;00m predicate_fn(exc):\n\u001b[0;32m    209\u001b[0m     final_exc, source_exc \u001b[38;5;241m=\u001b[39m exc_factory_fn(\n\u001b[0;32m    210\u001b[0m         error_list,\n\u001b[0;32m    211\u001b[0m         RetryFailureReason\u001b[38;5;241m.\u001b[39mNON_RETRYABLE_ERROR,\n\u001b[0;32m    212\u001b[0m         original_timeout,\n\u001b[0;32m    213\u001b[0m     )\n\u001b[1;32m--> 214\u001b[0m     \u001b[38;5;28;01mraise\u001b[39;00m final_exc \u001b[38;5;28;01mfrom\u001b[39;00m\u001b[38;5;250m \u001b[39m\u001b[38;5;21;01msource_exc\u001b[39;00m\n\u001b[0;32m    215\u001b[0m \u001b[38;5;28;01mif\u001b[39;00m on_error_fn \u001b[38;5;129;01mis\u001b[39;00m \u001b[38;5;129;01mnot\u001b[39;00m \u001b[38;5;28;01mNone\u001b[39;00m:\n\u001b[0;32m    216\u001b[0m     on_error_fn(exc)\n",
      "File \u001b[1;32mc:\\Users\\DELL\\anaconda3\\envs\\langchain\\lib\\site-packages\\google\\api_core\\retry\\retry_unary.py:147\u001b[0m, in \u001b[0;36mretry_target\u001b[1;34m(target, predicate, sleep_generator, timeout, on_error, exception_factory, **kwargs)\u001b[0m\n\u001b[0;32m    145\u001b[0m \u001b[38;5;28;01mwhile\u001b[39;00m \u001b[38;5;28;01mTrue\u001b[39;00m:\n\u001b[0;32m    146\u001b[0m     \u001b[38;5;28;01mtry\u001b[39;00m:\n\u001b[1;32m--> 147\u001b[0m         result \u001b[38;5;241m=\u001b[39m \u001b[43mtarget\u001b[49m\u001b[43m(\u001b[49m\u001b[43m)\u001b[49m\n\u001b[0;32m    148\u001b[0m         \u001b[38;5;28;01mif\u001b[39;00m inspect\u001b[38;5;241m.\u001b[39misawaitable(result):\n\u001b[0;32m    149\u001b[0m             warnings\u001b[38;5;241m.\u001b[39mwarn(_ASYNC_RETRY_WARNING)\n",
      "File \u001b[1;32mc:\\Users\\DELL\\anaconda3\\envs\\langchain\\lib\\site-packages\\google\\api_core\\timeout.py:130\u001b[0m, in \u001b[0;36mTimeToDeadlineTimeout.__call__.<locals>.func_with_timeout\u001b[1;34m(*args, **kwargs)\u001b[0m\n\u001b[0;32m    126\u001b[0m         remaining_timeout \u001b[38;5;241m=\u001b[39m \u001b[38;5;28mself\u001b[39m\u001b[38;5;241m.\u001b[39m_timeout\n\u001b[0;32m    128\u001b[0m     kwargs[\u001b[38;5;124m\"\u001b[39m\u001b[38;5;124mtimeout\u001b[39m\u001b[38;5;124m\"\u001b[39m] \u001b[38;5;241m=\u001b[39m remaining_timeout\n\u001b[1;32m--> 130\u001b[0m \u001b[38;5;28;01mreturn\u001b[39;00m func(\u001b[38;5;241m*\u001b[39margs, \u001b[38;5;241m*\u001b[39m\u001b[38;5;241m*\u001b[39mkwargs)\n",
      "File \u001b[1;32mc:\\Users\\DELL\\anaconda3\\envs\\langchain\\lib\\site-packages\\google\\api_core\\grpc_helpers.py:78\u001b[0m, in \u001b[0;36m_wrap_unary_errors.<locals>.error_remapped_callable\u001b[1;34m(*args, **kwargs)\u001b[0m\n\u001b[0;32m     76\u001b[0m     \u001b[38;5;28;01mreturn\u001b[39;00m callable_(\u001b[38;5;241m*\u001b[39margs, \u001b[38;5;241m*\u001b[39m\u001b[38;5;241m*\u001b[39mkwargs)\n\u001b[0;32m     77\u001b[0m \u001b[38;5;28;01mexcept\u001b[39;00m grpc\u001b[38;5;241m.\u001b[39mRpcError \u001b[38;5;28;01mas\u001b[39;00m exc:\n\u001b[1;32m---> 78\u001b[0m     \u001b[38;5;28;01mraise\u001b[39;00m exceptions\u001b[38;5;241m.\u001b[39mfrom_grpc_error(exc) \u001b[38;5;28;01mfrom\u001b[39;00m\u001b[38;5;250m \u001b[39m\u001b[38;5;21;01mexc\u001b[39;00m\n",
      "\u001b[1;31mResourceExhausted\u001b[0m: 429 You exceeded your current quota, please check your plan and billing details. For more information on this error, head to: https://ai.google.dev/gemini-api/docs/rate-limits. [violations {\n  quota_metric: \"generativelanguage.googleapis.com/generate_content_free_tier_requests\"\n  quota_id: \"GenerateRequestsPerDayPerProjectPerModel-FreeTier\"\n  quota_dimensions {\n    key: \"model\"\n    value: \"gemini-1.5-flash\"\n  }\n  quota_dimensions {\n    key: \"location\"\n    value: \"global\"\n  }\n  quota_value: 50\n}\n, links {\n  description: \"Learn more about Gemini API quotas\"\n  url: \"https://ai.google.dev/gemini-api/docs/rate-limits\"\n}\n, retry_delay {\n  seconds: 3\n}\n]"
     ]
    }
   ],
   "source": [
    "answer = llm.invoke(final_prompt)\n",
    "print(answer.content)"
   ]
  },
  {
   "cell_type": "markdown",
   "id": "aca75cfc",
   "metadata": {},
   "source": [
    "## Building a Chain"
   ]
  },
  {
   "cell_type": "code",
   "execution_count": null,
   "id": "50dc1214",
   "metadata": {},
   "outputs": [],
   "source": [
    "from langchain_core.runnables import RunnableParallel, RunnablePassthrough, RunnableLambda\n",
    "from langchain_core.output_parsers import StrOutputParser"
   ]
  },
  {
   "cell_type": "code",
   "execution_count": null,
   "id": "5da2571d",
   "metadata": {},
   "outputs": [],
   "source": [
    "def format_docs(retrieved_docs):\n",
    "  context_text = \"\\n\\n\".join(doc.page_content for doc in retrieved_docs)\n",
    "  return context_text"
   ]
  },
  {
   "cell_type": "code",
   "execution_count": null,
   "id": "ac5181cd",
   "metadata": {},
   "outputs": [],
   "source": [
    "parallel_chain = RunnableParallel({\n",
    "    'context' : retriever | RunnableLambda(format_docs),\n",
    "    'question' : RunnablePassthrough()\n",
    "})"
   ]
  },
  {
   "cell_type": "code",
   "execution_count": null,
   "id": "fda659cf",
   "metadata": {},
   "outputs": [
    {
     "data": {
      "text/plain": [
       "{'context': 'region. Thus, CNN should be designed in a way that it can capture meaningful features.According to the paper published on Sincnet, the first Convolution layer of the current waveform CNN is the most important as it gets high dimensional inputs. It also gets affected by the Vanishing Gradient.To overcome this in Sincnet, we have parametrized sinc functions to implement band-pass filters.The low and high cutoff frequencies are the only parameters of the filter learned from data. This solution still offers considerable flexibility, but forces the network to focus on high-level tunable parameters with a broad impact on the shape and bandwidth of the resulting filter.In the next section, we will see how Sincnet is designed to work efficiently.Breaking down the Architecture of SincnetWe take a standard CNN which performs time-domain convolutions(Convolution in time domain equals multiplication in the frequency domain) between input waveform and some Finite Impulse Response (FIR) filters as',\n",
       " 'question': 'what is sincnet?'}"
      ]
     },
     "execution_count": 266,
     "metadata": {},
     "output_type": "execute_result"
    }
   ],
   "source": [
    "parallel_chain.invoke('what is sincnet?')"
   ]
  },
  {
   "cell_type": "code",
   "execution_count": null,
   "id": "43c7aa3d",
   "metadata": {},
   "outputs": [],
   "source": [
    "parser = StrOutputParser()"
   ]
  },
  {
   "cell_type": "code",
   "execution_count": null,
   "id": "dd717f4a",
   "metadata": {},
   "outputs": [],
   "source": [
    "main_chain = parallel_chain | prompt | llm | parser"
   ]
  },
  {
   "cell_type": "code",
   "execution_count": null,
   "id": "bbb8a3c2",
   "metadata": {},
   "outputs": [
    {
     "data": {
      "text/plain": [
       "\"Based on the provided text, SincNet is a type of CNN (Convolutional Neural Network) that uses parametrized sinc functions to implement band-pass filters in its first convolutional layer.  This addresses the vanishing gradient problem and allows the network to focus on high-level tunable parameters that broadly impact the filter's shape and bandwidth.\""
      ]
     },
     "execution_count": 269,
     "metadata": {},
     "output_type": "execute_result"
    }
   ],
   "source": [
    "main_chain.invoke('what is sincnet?')"
   ]
  },
  {
   "cell_type": "markdown",
   "id": "b655bff1",
   "metadata": {},
   "source": [
    "# C-RAG"
   ]
  },
  {
   "cell_type": "code",
   "execution_count": null,
   "id": "82b21887",
   "metadata": {},
   "outputs": [],
   "source": [
    "import os\n",
    "os.environ[\"TAVILY_API_KEY\"] = \"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\""
   ]
  },
  {
   "cell_type": "code",
   "execution_count": null,
   "id": "002aca2a",
   "metadata": {},
   "outputs": [],
   "source": [
    "from langchain.text_splitter import RecursiveCharacterTextSplitter\n",
    "from langchain_community.document_loaders import WebBaseLoader\n",
    "from langchain_community.vectorstores import Chroma\n",
    "from langchain_google_genai import ChatGoogleGenerativeAI\n",
    "from langchain_community.document_loaders import PyPDFLoader\n",
    "from langchain import hub\n",
    "from langchain_core.output_parsers import StrOutputParser\n",
    "from langchain_core.prompts import ChatPromptTemplate\n",
    "from langchain_core.pydantic_v1 import BaseModel, Field\n",
    "from typing import List\n",
    "from typing_extensions import TypedDict\n",
    "from langchain.schema import Document\n",
    "from langgraph.graph import END, StateGraph, START"
   ]
  },
  {
   "cell_type": "code",
   "execution_count": null,
   "id": "b56cc6c3",
   "metadata": {},
   "outputs": [],
   "source": [
    "pdf = r\"C:\\Users\\DELL\\Desktop\\youtube chatbot\\final_main.pdf\""
   ]
  },
  {
   "cell_type": "code",
   "execution_count": null,
   "id": "f387f38a",
   "metadata": {},
   "outputs": [],
   "source": [
    "loader = PyPDFLoader(pdf)\n",
    "docs = loader.load()  # already a flat list of Documents\n",
    "\n",
    "text_splitter = RecursiveCharacterTextSplitter.from_tiktoken_encoder(\n",
    "    chunk_size=1000,\n",
    "    chunk_overlap=100\n",
    ")\n",
    "docs_list = text_splitter.split_documents(docs)\n"
   ]
  },
  {
   "cell_type": "code",
   "execution_count": null,
   "id": "0e1ccd4a",
   "metadata": {},
   "outputs": [],
   "source": [
    "texts = [doc.page_content for doc in docs_list]"
   ]
  },
  {
   "cell_type": "code",
   "execution_count": null,
   "id": "7173e7a3",
   "metadata": {},
   "outputs": [
    {
     "data": {
      "text/plain": [
       "[Document(metadata={'producer': 'iLovePDF', 'creator': 'PyPDF', 'creationdate': '', 'moddate': '2025-07-10T06:48:12+00:00', 'source': 'C:\\\\Users\\\\DELL\\\\Desktop\\\\youtube chatbot\\\\final_main.pdf', 'total_pages': 29, 'page': 0, 'page_label': '1'}, page_content='Gandhinagar  University  Admission  Guide   \\nIntroduction   \\nThis  document  provides  comprehensive  information  on  the  academic  programs  \\noffered\\n \\nby\\n \\nGandhinagar\\n \\nUniversity\\n \\nand\\n \\nthe\\n \\nGandhinagar\\n \\nInstitute\\n \\nof\\n \\nSkill\\n \\nDevelopment\\n \\n(GISD).\\n \\nIt\\n \\nincludes\\n \\ndetails\\n \\non\\n \\nprogram\\n \\nduration,\\n \\neligibility,\\n \\nadmission\\n \\nprocess,\\n \\ntuition\\n \\nfees,\\n \\nand\\n \\nintake\\n \\ncapacities.\\n \\nFor\\n \\nthe\\n \\nmost\\n \\ncurrent\\n \\ninformation,\\n \\nplease\\n \\nvisit\\n \\nthe\\n \\nofficial\\n \\nuniversity\\n \\nwebsite\\n \\nor\\n \\ncontact\\n \\nthe\\n \\nadmission\\n \\noffice.\\n \\n \\n1  Engineering  Programs   \\n1.1  Bachelor  of  Technology  (B.Tech)   •  Duration :  4  Years   \\n•  Eligibility :  10+2  with  Physics,  Chemistry,  Mathematics  (PCM)  or  equivalent  \\nfrom\\n \\na\\n \\nrecognized\\n \\nboard,\\n \\nplus\\n \\na\\n \\nvalid\\n \\nGJUCET\\n \\nscore.\\n \\n \\n•  Admission  Process :  Handled  by  the  Admission  Committee  for  Professional  \\nCourses\\n \\n(ACPC).\\n \\n \\n•  Tuition  Fees :  Rs.  31,300  per  semester  (FRC  approved).   \\n•  Specializations  and  Intake :   •  B.Tech  -  Civil  Engineering  -  Intake:  120   \\n•  B.Tech  -  Computer  Engineering  -  Intake:  180   \\n•  B.Tech  -  Electrical  Engineering  -  Intake:  60   \\n•  B.Tech  -  Electronics  and  Communication  Engineering  -  Intake:  60   \\n•  B.Tech  -  Information  Technology  -  Intake:  180   \\n•  B.Tech  -  Mechanical  Engineering  -  Intake:  120   \\n•  B.Tech  -  Computer  Science  and  Engineering  -  Intake:  420   \\n•  B.Tech  -  Computer  Science  and  Engineering  (Cyber  Security)  -  Intake:  60  •  B.Tech  -  Computer  Science  and  Engineering  (Artificial  Intelligence)  -  \\nIntake:\\n \\n120\\n  •  B.Tech  -  Robotics  and  Automation  -  Intake:  60   \\n•\\n \\nB.Tech\\n \\n-\\n \\nEnergy\\n \\nEngineering\\n \\n-\\n \\nIntake:\\n \\n60\\n \\n   1.2  Master  of  Technology  (M.Tech)   •  Duration :  2  Years'),\n",
       " Document(metadata={'producer': 'iLovePDF', 'creator': 'PyPDF', 'creationdate': '', 'moddate': '2025-07-10T06:48:12+00:00', 'source': 'C:\\\\Users\\\\DELL\\\\Desktop\\\\youtube chatbot\\\\final_main.pdf', 'total_pages': 29, 'page': 1, 'page_label': '2'}, page_content='•  Eligibility :  B.E./B.Tech  in  the  respective  branch  or  equivalent  from  a  recognized  \\nuniversity.\\n \\n \\n•  Admission  Process :  Handled  by  the  Admission  Committee  for  Professional  \\nCourses\\n \\n(ACPC).\\n \\n \\n•  Tuition  Fees :  Rs.  42,500  per  semester  (FRC  approved).   \\n•  Specializations  and  Intake :   \\n–  Mechanical  Engineering  (Thermal  Engineering):  9  seats   –  Mechanical  Engineering  (CAD/CAM):  9  seats   –  Computer  Engineering  (Software  Engineering):  18  seats   –  Computer  Science  &  Engineering  (Cyber  Security):  18  seats   –  Computer  Science  &  Engineering  (Artificial  Intelligence  and  Machine  Learn  \\ning):\\n \\n18\\n \\nseats\\n \\n –  Civil  Engineering  (Environmental  Engineering):  18  seats   –  Civil  Engineering  (Structural  Engineering):  18  seats   –  Civil  Engineering  (Construction  Engineering  and  Management):  18  seats  –  \\nElectronics\\n \\nand\\n \\nCommunication\\n \\nTechnology\\n \\n(VLSI\\n \\nSystem\\n \\nDesign):\\n \\n18\\n \\nseats\\n \\n–\\n \\nEnergy\\n \\nEngineering:\\n \\n18\\n \\nseats\\n \\n \\n1.3  Diploma  in  Engineering   •  Duration :  3  Years   \\n•  Eligibility :  10th  or  equivalent  from  a  recognized  board.   \\n•  Admission  Process :  Handled  by  Gandhinagar  University,  based  on  \\nmerit.\\n \\n \\n•  Tuition  Fees :  Rs.  15,000  per  semester.   \\n•  Specializations  and  Intake :   \\n–  Civil  Engineering:  60  seats   –  Computer  Engineering:  60  seats   –  Electrical  Engineering:  60  seats   –  Electronics  and  Communication  Engineering:  60  seats   –  Information  Technology:  60  seats   –  Mechanical  Engineering:  60  seats   –  Computer  Science  and  Engineering:  60  seats   –  Artificial  Intelligence  and  Machine  Learning:  60  seats   –  Cyber  Forensics  and  Information  Security:  60  seats'),\n",
       " Document(metadata={'producer': 'iLovePDF', 'creator': 'PyPDF', 'creationdate': '', 'moddate': '2025-07-10T06:48:12+00:00', 'source': 'C:\\\\Users\\\\DELL\\\\Desktop\\\\youtube chatbot\\\\final_main.pdf', 'total_pages': 29, 'page': 2, 'page_label': '3'}, page_content='2  Business  Administration  Programs   \\n2.1  Bachelor  of  Business  Administration  (BBA)   •  Duration :  3  Years   \\n•  Eligibility :  10+2  or  equivalent  from  a  recognized  board  with  English  and  Accoun  \\ntancy.\\n \\nStudents\\n \\nwithout\\n \\nAccountancy\\n \\nmust\\n \\ncomplete\\n \\na\\n \\nbridge\\n \\ncourse\\n \\n(Rs.\\n \\n2,000)\\n \\nbefore\\n \\nthe\\n \\nend\\n \\nof\\n \\nthe\\n \\nfirst\\n \\nsemester.\\n \\n \\n•  Admission  Process :  Handled  by  Gandhinagar  University  Admission  \\nCommittee,\\n \\nbased\\n \\non\\n \\nmerit.\\n \\n \\n•  Tuition  Fees :  Rs.  35,000  per  semester.   \\n•  Total  Intake :  700  seats   \\n•  Specializations  (Final  Year) :   \\n–  Accounting  and  Auditing   –  Banking,  Financial  Services,  and  Insurance   –  Statistics   \\n2.2  Bachelor  of  Business  Administration  (Honours)  (BBA  Hons.)  •  \\nDuration\\n:\\n \\n4\\n \\nYears\\n \\n \\n•  Eligibility :  10+2  or  equivalent  from  a  recognized  board.   \\n•  Admission  Process :  Handled  by  Gandhinagar  University,  based  on  \\nmerit.\\n \\n•\\n \\nTuition\\n \\nFees\\n:\\n \\nRs.\\n \\n35,000\\n \\nper\\n \\nsemester.\\n \\n \\n•  Total  Intake :  240  seats   \\n•  Specialization :  Finance   \\n2.3  Master  of  Business  Administration  (MBA)   •  Duration :  2  Years   \\n•  Eligibility :  Any  graduation  with  a  valid  CMAT/MAT/XAT/CAT  score  or  equiv  \\nalent\\n \\nas\\n \\ndecided\\n \\nby\\n \\nGU/IA/PCI.\\n \\nStudents\\n \\nwithout\\n \\nentrance\\n \\nexams\\n \\nmay\\n \\nalso\\n \\napply.\\n \\n \\n•  Admission  Process :  Handled  by  the  Admission  Committee  for  Professional  \\nCourses\\n \\n(ACPC).\\n \\n \\n•  Tuition  Fees :  Rs.  41,470  per  semester.   \\n•  Total  Intake :  180  seats   \\n•  Specializations :'),\n",
       " Document(metadata={'producer': 'iLovePDF', 'creator': 'PyPDF', 'creationdate': '', 'moddate': '2025-07-10T06:48:12+00:00', 'source': 'C:\\\\Users\\\\DELL\\\\Desktop\\\\youtube chatbot\\\\final_main.pdf', 'total_pages': 29, 'page': 3, 'page_label': '4'}, page_content='–  Information  Technology:  30  seats   –  Marketing:  30  seats   –  Human  Resource:  30  seats   –  Finance:  30  seats   –  Hospital  &  Healthcare  Management:  20  seats   –  Aviation  Management:  20  seats   –  Event  Management:  20  seats   \\n3  Science  Programs   \\n3.1  Bachelor  of  Science  (B.Sc.)   •  Duration :  4  Years   \\n•  Eligibility :  10+2  with  PCM/B  or  equivalent  from  a  recognized  board.   \\n•  Admission  Process :  Handled  by  Gandhinagar  University,  based  on  \\nmerit.\\n \\n \\n•  Tuition  Fees :  Rs.  20,000  per  semester.   •  Specializations  and  Intake :   \\n–  Mathematics:  60  seats  \\n–  Botany:  60  seats   –  Chemistry:  60  seats   –  Physics:  60  seats   –  Microbiology:  120  seats   –  Biotechnology:  120  seats   –  Environmental  Science:  60  seats   –  Medical  Lab  Technology:  60  seats   –  Forensic  Chemistry:  60  seats   –  Food  Nutrition  and  Dietetics:  60  seats   –  Information  Technology  (Hons.):  240  seats   –  Information  Technology  (Blockchain  Technology):  60  seats   –  Information  Technology  (Data  Analytics):  60  seats   –  Information  Technology  (Game  Designing  and  Development):  60  \\nseats\\n \\n \\n–  Information  Technology  (Cloud  Automation):  60  seats   –  Computer  Science  (Hons.):  120  seats   –  Data  Science  (Hons.):  120  seats'),\n",
       " Document(metadata={'producer': 'iLovePDF', 'creator': 'PyPDF', 'creationdate': '', 'moddate': '2025-07-10T06:48:12+00:00', 'source': 'C:\\\\Users\\\\DELL\\\\Desktop\\\\youtube chatbot\\\\final_main.pdf', 'total_pages': 29, 'page': 4, 'page_label': '5'}, page_content='3.2  Master  of  Science  (M.Sc.)   •  Duration :  2  Years   \\n•  Eligibility :  B.Sc.  or  equivalent  in  the  relevant  field  from  a  recognized  university.  \\n•\\n \\nAdmission\\n \\nProcess\\n:\\n \\nHandled\\n \\nby\\n \\nGandhinagar\\n \\nUniversity,\\n \\nbased\\n \\non\\n \\nmerit.\\n \\n \\n•  Tuition  Fees :  Rs.  25,000  per  semester.   \\n•  Specializations  and  Intake :   \\n–  Mathematics:  30  seats   –  Chemistry:  30  seats   –  Physics:  30  seats   –  Microbiology:  30  seats   –  Biotechnology:  30  seats   –  Environmental  Science:  30  seats   –  Industrial  Chemistry:  30  seats   –  Pharmaceutical  Science:  30  seats   –  Information  Technology  (Cyber  Security  and  Digital  Forensics):  30  seats  \\n–\\n \\nInformation\\n \\nTechnology\\n \\n(Animation,\\n \\nVFX,\\n \\nand\\n \\nGame\\n \\nDesign):\\n \\n30\\n \\nseats\\n \\n –  Information  Technology  (Software  and  Mobile  App  Development):  30  \\nseats\\n \\n –  Information  Technology  (Data  Analytics):  30  seats   –  Information  Technology  (Cloud  Automation):  30  seats   –  M.Sc  Valuation  -  Plant  &  Machinery  -  Intake:  60  –  M.Sc  Valuation  -  Real  Estate  Valuation  -  Intake:  60  –  Information  Technology:  30  seats   \\n3.3  Integrated  Master  of  Science  (M.Sc.  IT)   •  Duration :  5  Years   \\n•  Eligibility :  10+2  in  any  stream  or  equivalent  from  a  recognized  board.  •  \\nAdmission\\n \\nProcess\\n:\\n \\nHandled\\n \\nby\\n \\nGandhinagar\\n \\nUniversity,\\n \\nbased\\n \\non\\n \\nmerit.\\n \\n•\\n \\nTuition\\n \\nFees\\n:\\n \\nRs.\\n \\n20,000\\n \\nper\\n \\nsemester.\\n \\n \\n•  Specializations  and  Intake :   \\n–  Artificial  Intelligence  &  Machine  Learning:  30  seats   –  Big  Data  Science:  30  seats   –  DevOps  Technology:  30  seats   –  Cyber  Security  and  Digital  Forensics:  30  seats'),\n",
       " Document(metadata={'producer': 'iLovePDF', 'creator': 'PyPDF', 'creationdate': '', 'moddate': '2025-07-10T06:48:12+00:00', 'source': 'C:\\\\Users\\\\DELL\\\\Desktop\\\\youtube chatbot\\\\final_main.pdf', 'total_pages': 29, 'page': 5, 'page_label': '6'}, page_content='–  Animation,  VFX,  and  Game  Design:  30  seats   –  IT  IMS  and  Cloud  Management:  30  seats   –  Software  and  Mobile  App  Development:  30  seats   –  General  IT:  30  seats    \\n4  Computer  Science  Programs   \\n4.1  Bachelor  of  Science  (Computer  Science  &  Applications)  •  \\nDuration\\n:\\n \\n4\\n \\nYears\\n \\n \\n•  Eligibility :  10+2  in  any  stream  or  equivalent  from  a  recognized  board.  •  \\nAdmission\\n \\nProcess\\n:\\n \\nHandled\\n \\nby\\n \\nGandhinagar\\n \\nUniversity,\\n \\nbased\\n \\non\\n \\nmerit.\\n \\n•\\n \\nTuition\\n \\nFees\\n:\\n \\nRs.\\n \\n17,500\\n \\nper\\n \\nsemester.\\n \\n \\n•  Specializations  and  Intake :   \\n–  Information  Technology:  60  seats   –  Computer  Science:  80  seats   –  Data  Science:  80  seats   \\n4.2  Bachelor  of  Computer  Applications  (BCA)   •  Duration :  3  Years   \\n•  Eligibility :  10+2  in  any  stream  or  equivalent  from  a  recognized  board.  •  \\nAdmission\\n \\nProcess\\n:\\n \\nHandled\\n \\nby\\n \\nGandhinagar\\n \\nUniversity,\\n \\nbased\\n \\non\\n \\nmerit.\\n \\n•\\n \\nTuition\\n \\nFees\\n:\\n \\nRs.\\n \\n17,500\\n \\nper\\n \\nsemester.\\n \\n \\n•  Total  Intake :  60  seats   \\n4.3  Bachelor  of  Computer  Applications  (Honours)  (BCA  Hons.)  •  \\nDuration\\n:\\n \\n4\\n \\nYears\\n \\n \\n•  Eligibility :  10+2  in  any  stream  or  equivalent  from  a  recognized  board.  •  \\nAdmission\\n \\nProcess\\n:\\n \\nHandled\\n \\nby\\n \\nGandhinagar\\n \\nUniversity,\\n \\nbased\\n \\non\\n \\nmerit.\\n \\n•\\n \\nTuition\\n \\nFees\\n:\\n \\nRs.\\n \\n17,500\\n \\nper\\n \\nsemester.\\n \\n \\n•  Total  Intake :  240  seats   \\n4.4  Master  of  Computer  Applications  (MCA)   •  Duration :  2  Years   \\n•  Eligibility :  BCA  or  equivalent  from  a  recognized  university.'),\n",
       " Document(metadata={'producer': 'iLovePDF', 'creator': 'PyPDF', 'creationdate': '', 'moddate': '2025-07-10T06:48:12+00:00', 'source': 'C:\\\\Users\\\\DELL\\\\Desktop\\\\youtube chatbot\\\\final_main.pdf', 'total_pages': 29, 'page': 6, 'page_label': '7'}, page_content='•  Admission  Process :  Handled  by  Gandhinagar  University,  based  on  \\nmerit.\\n \\n \\n•  Tuition  Fees :  Rs.  25,000  per  semester.   \\n•  Total  Intake :  30  seats  \\n  4.5  Post  Graduate  Diploma  in  Computer  Applications  (PGDCA)  •  \\nDuration\\n:\\n \\n1\\n \\nYear\\n \\n \\n•  Eligibility :  Graduation  or  equivalent  from  a  recognized  university.   \\n•  Admission  Process :  Handled  by  Gandhinagar  University,  based  on  \\nmerit.\\n \\n \\n•  Tuition  Fees :  Rs.  20,000  per  semester.   \\n•  Total  Intake :  30  seats   \\n5  Medical  and  Nursing  Programs   \\n5.1  Diploma  in  Medical  Laboratory  Technician  (DMLT)   •  Duration :  2  Years   \\n•  Eligibility :  10+2  with  45%  aggregate  and  PCM/B  as  compulsory  subjects.   \\n•  Admission  Process :  Handled  by  Gandhinagar  University  Admission  \\nCommittee.\\n \\n \\n•  Tuition  Fees :  Rs.  20,000  per  semester.   \\n•  Total  Intake :  60  seats   \\n5.2  Post  Graduate  Diploma  in  Medical  Laboratory  Technology  (PGDMLT)   \\n     •  Duration :  1  Year   \\n•  Eligibility :  B.Sc.  in  Microbiology,  Chemistry,  Biochemistry,  Biotechnology,  or  Life  \\nScience\\n \\nwith\\n \\n45%\\n \\naggregate.\\n \\n \\n•  Admission  Process :  Handled  by  Gandhinagar  University  Admission  \\nCommittee.\\n \\n \\n•  Tuition  Fees :  Rs.  20,000  per  semester.'),\n",
       " Document(metadata={'producer': 'iLovePDF', 'creator': 'PyPDF', 'creationdate': '', 'moddate': '2025-07-10T06:48:12+00:00', 'source': 'C:\\\\Users\\\\DELL\\\\Desktop\\\\youtube chatbot\\\\final_main.pdf', 'total_pages': 29, 'page': 7, 'page_label': '8'}, page_content='•  Total  Intake :  60  seats   \\n5.3  Auxiliary  Nursing  Midwifery  (ANM)   •  Duration :  2  Years   \\n•  Eligibility :  10+2  with  50%  aggregate  in  any  stream  (Arts/Science/Maths).  Age  \\nlimit:\\n \\nUp\\n \\nto\\n \\n35\\n \\nyears.\\n \\n \\n•  Admission  Process :  Handled  by  Gandhinagar  University  Admission  \\nCommittee.\\n \\n \\n•  Tuition  Fees :  Rs.  40,000  per  semester.   \\n•  Total  Intake :  20  seats    5.4  General  Nursing  and  Midwifery  (GNM)   •  Duration :  3  Years   \\n•  Eligibility :  10+2  with  50%  aggregate  in  any  stream.   \\n•  Admission  Process :  Handled  by  Gandhinagar  University  Admission  \\nCommittee.\\n \\n \\n•  Tuition  Fees :  Rs.  40,000  per  semester.   \\n•  Total  Intake :  50  seats   \\n5.5  Bachelor  of  Science  (Nursing)   •  Duration :  4  Years   \\n•  Eligibility :  10+2  with  Biology  (PCB)  and  English;  minimum  45%  for  General  \\nCategory,\\n \\n40%\\n \\nfor\\n \\nSC/ST/SEBC.\\n \\nAge\\n \\nlimit:\\n \\nUp\\n \\nto\\n \\n35\\n \\nyears.\\n \\n \\n•  Admission  Process :  Handled  by  ACPC  and  Gandhinagar  University.  \\n•\\n \\nTuition\\n \\nFees\\n:\\n \\nRs.\\n \\n80,000\\n \\nper\\n \\nyear.\\n \\n \\n•  Total  Intake :  60  seats   \\n•  Medium :  English   \\n5.6  Post  Basic  B.Sc.  Nursing   •  Duration :  2  Years   \\n•  Eligibility :  GNM  and  registered  nurse  status.   \\n•  Admission  Process :  Handled  by  Gandhinagar  University,  based  on'),\n",
       " Document(metadata={'producer': 'iLovePDF', 'creator': 'PyPDF', 'creationdate': '', 'moddate': '2025-07-10T06:48:12+00:00', 'source': 'C:\\\\Users\\\\DELL\\\\Desktop\\\\youtube chatbot\\\\final_main.pdf', 'total_pages': 29, 'page': 8, 'page_label': '9'}, page_content='merit.   \\n•  Tuition  Fees :  Rs.  80,000  per  year.   \\n•  Total  Intake :  20  seats   \\n5.7  Diploma  in  Operation  Theatre  Assistant  (OTA)   •  Duration :  2  Years   \\n•  Eligibility :  10+2  with  PCM/B  or  equivalent.   \\n•  Admission  Process :  Handled  by  Gandhinagar  University  Admission  \\nCommittee.\\n \\n \\n•  Tuition  Fees :  Rs.  20,000  per  semester.   \\n•  Total  Intake :  60  seats    5.8  Diploma  in  Patient  Care  Assistant  (PCA)   •  Duration :  2  Years   \\n•  Eligibility :  10+2  or  equivalent.   \\n•  Admission  Process :  Handled  by  Gandhinagar  University  Admission  \\nCommittee.\\n \\n \\n•  Tuition  Fees :  Rs.  20,000  per  semester.   \\n•  Total  Intake :  60  seats   \\n6  Pharmacy  Programs   \\n6.1  Bachelor  of  Pharmacy   •  Duration :  4  Years   \\n•  Eligibility :  10+2  with  PCM/B  and  a  valid  entrance  exam  score  (as  per  university  \\nguidelines).\\n \\n \\n•  Admission  Process :  Handled  by  ACPC.   \\n•  Tuition  Fees :  Rs.  50,000  per  semester.   \\n•  Total  Intake :  100  seats   \\n6.2  Diploma  in  Pharmacy   •  Duration :  2  Years'),\n",
       " Document(metadata={'producer': 'iLovePDF', 'creator': 'PyPDF', 'creationdate': '', 'moddate': '2025-07-10T06:48:12+00:00', 'source': 'C:\\\\Users\\\\DELL\\\\Desktop\\\\youtube chatbot\\\\final_main.pdf', 'total_pages': 29, 'page': 9, 'page_label': '10'}, page_content='•  Eligibility :  10+2  with  PCM/B  or  equivalent.   \\n•  Admission  Process :  Handled  by  Gandhinagar  University  Admission  \\nCommittee.\\n \\n \\n•  Tuition  Fees :  Rs.  25,000  per  semester.   \\n•  Total  Intake :  60  seats   \\n7  Commerce  Programs   \\n7.1  Bachelor  of  Commerce  (B.Com.)   •  Duration :  3  Years   \\n•  Eligibility :  10+2  or  equivalent  from  a  recognized  board.   \\n•  Admission  Process :  Handled  by  Gandhinagar  University,  based  on  \\nmerit.\\n \\n \\n•  Tuition  Fees :  Rs.  15,000  per  semester.   \\n•  Total  Intake :  300  seats    7.2  Bachelor  of  Commerce  (Honours)  (B.Com.  Hons.)        •  Duration :  4  Years   \\n•  Eligibility :  10+2  or  equivalent  from  a  recognized  board.   \\n•  Admission  Process :  Handled  by  Gandhinagar  University,  based  on  \\nmerit.\\n \\n \\n•  Tuition  Fees :  Rs.  15,000  per  semester.   \\n•  Total  Intake :  30  seats   \\n•  Specialization :  Accounting  and  Auditing   \\n7.3  Master  of  Commerce  (M.Com.)   •  Duration :  2  Years   \\n•  Eligibility :  B.Com.  or  equivalent  from  a  recognized  university.  •  \\nAdmission\\n \\nProcess\\n:\\n \\nHandled\\n \\nby\\n \\nGandhinagar\\n \\nUniversity,\\n \\nbased\\n \\non\\n \\nmerit.\\n \\n•\\n \\nTuition\\n \\nFees\\n:\\n \\nRs.\\n \\n20,000\\n \\nper\\n \\nsemester.\\n \\n \\n•  Total  Intake :  60  seats'),\n",
       " Document(metadata={'producer': 'iLovePDF', 'creator': 'PyPDF', 'creationdate': '', 'moddate': '2025-07-10T06:48:12+00:00', 'source': 'C:\\\\Users\\\\DELL\\\\Desktop\\\\youtube chatbot\\\\final_main.pdf', 'total_pages': 29, 'page': 10, 'page_label': '11'}, page_content='•  Specializations :  Statistics  and  Finance   \\n8  Law  Programs   \\n8.1  Bachelor  of  Law  (LL.B.)   •  Duration :  3  Years   \\n•  Eligibility :  Graduation  or  equivalent  from  a  recognized  university.   \\n•  Admission  Process :  Handled  by  Gandhinagar  University,  based  on  \\nmerit.\\n \\n \\n•  Tuition  Fees :  Rs.  30,000  per  semester.   \\n•  Total  Intake :  60  seats   \\n8.2  Bachelor  of  Arts  &  Law  (B.A.,  LL.B.)   •  Duration :  5  Years   \\n•  Eligibility :  10+2  or  equivalent  from  a  recognized  board.   \\n•  Admission  Process :  Handled  by  Gandhinagar  University,  based  on  \\nmerit.\\n \\n \\n•  Tuition  Fees :  Rs.  30,000  per  semester.   \\n•  Total  Intake :  60  seats    8.3  Bachelor  of  Business  Administration  &  Law  (BBA,  LL.B.)  •  \\nDuration\\n:\\n \\n5\\n \\nYears\\n \\n \\n•  Eligibility :  10+2  or  equivalent  from  a  recognized  board.   \\n•  Admission  Process :  Handled  by  Gandhinagar  University,  based  on  \\nmerit.\\n \\n \\n•  Tuition  Fees :  Rs.  30,000  per  semester.   \\n•  Total  Intake :  60  seats   \\n8.4  Master  of  Law  (LL.M.)   •  Duration :  1  Year   \\n•  Eligibility :  LL.B.  or  equivalent  from  a  recognized  university.  •  Admission'),\n",
       " Document(metadata={'producer': 'iLovePDF', 'creator': 'PyPDF', 'creationdate': '', 'moddate': '2025-07-10T06:48:12+00:00', 'source': 'C:\\\\Users\\\\DELL\\\\Desktop\\\\youtube chatbot\\\\final_main.pdf', 'total_pages': 29, 'page': 11, 'page_label': '12'}, page_content='Process :  Handled  by  Gandhinagar  University,  based  on  merit.  •  Tuition  \\nFees\\n:\\n \\nRs.\\n \\n35,000\\n \\nper\\n \\nsemester.\\n \\n \\n•  Total  Intake :  30  seats   \\n8.5  Diploma  in  Law   •  Duration :  1  Year   \\n•  Eligibility :  Graduation  or  equivalent  from  a  recognized  university.   \\n•  Admission  Process :  Handled  by  Gandhinagar  University,  based  on  \\nmerit.\\n \\n \\n•  Tuition  Fees :  Rs.  35,000  per  semester.   \\n•  Specializations  and  Intake :   \\n–  Labour  Laws  &  Practice  (DLP):  30  seats   –  Taxation  Laws  &  Practice  (TLP):  30  seats   –  Intellectual  Property  Rights  (DIPR):  30  seats   \\n9  Arts  Programs   \\n9.1  Bachelor  of  Arts  (B.A.)   •  Duration :  3  Years   \\n•  Eligibility :  10+2  or  equivalent  from  a  recognized  board.   \\n•  Admission  Process :  Handled  by  Gandhinagar  University,  based  on  \\nmerit.\\n \\n•\\n \\nTuition\\n \\nFees\\n:\\n \\nRs.\\n \\n9,000\\n \\nper\\n \\nsemester.\\n \\n \\n•  Total  Intake :  360  seats   \\n•  Specializations :   –  Gujarati:  60  seats   –  English:  60  seats   –  Hindi:  60  seats   –  Political  Science:  60  seats   –  Psychology:  60  seats   –  Economics:  60  seats   –  Sociology:  60  seats   –  Public  Administration:  60  seats   –  Journalism  &  Mass  Communication:  60  seats   –  Indian  Knowledge  System:  60  seats'),\n",
       " Document(metadata={'producer': 'iLovePDF', 'creator': 'PyPDF', 'creationdate': '', 'moddate': '2025-07-10T06:48:12+00:00', 'source': 'C:\\\\Users\\\\DELL\\\\Desktop\\\\youtube chatbot\\\\final_main.pdf', 'total_pages': 29, 'page': 12, 'page_label': '13'}, page_content='9.2  Bachelor  of  Arts  (Honours)  (B.A.  Hons.)   •  Duration :  4  Years   \\n•  Eligibility :  10+2  or  equivalent  from  a  recognized  board.   \\n•  Admission  Process :  Handled  by  Gandhinagar  University,  based  on  \\nmerit.\\n \\n•\\n \\nTuition\\n \\nFees\\n:\\n \\nRs.\\n \\n9,000\\n \\nper\\n \\nsemester.\\n \\n \\n•  Total  Intake :  180  seats   \\n•  Specializations :   \\n–  Gujarati:  30  seats   –  English:  30  seats   –  Hindi:  30  seats   –  Political  Science:  30  seats   –  Psychology:  30  seats  –  Political  Science  -  Intake:  60   –  Sociology  -  Intake:  60   –  Public  Administration  -  Intake:  60   –  Journalism  &  Mass  Communication  -  Intake:  60   –  Indian  Knowledge  System  -  Intake:  60   –  Economics:  30  seats   \\n9.3  Master  of  Arts  (M.A.)   •  Duration :  2  Years   \\n•  Eligibility :  B.A.  or  equivalent  from  a  recognized  university.  •  Admission  \\nProcess\\n:\\n \\nHandled\\n \\nby\\n \\nGandhinagar\\n \\nUniversity,\\n \\nbased\\n \\non\\n \\nmerit.\\n \\n•\\n \\nTuition\\n \\nFees\\n:\\n \\nRs.\\n \\n10,000\\n \\nper\\n \\nsemester.\\n \\n \\n•  Total  Intake :  180  seats   \\n•  Specializations :   \\n–  Gujarati:  30  seats   –  English:  30  seats   –  Hindi:  30  seats   –  Political  Science:  30  seats   –  Psychology:  30  seats   –  Economics:  30  seats   –  Sociology:  30  seats'),\n",
       " Document(metadata={'producer': 'iLovePDF', 'creator': 'PyPDF', 'creationdate': '', 'moddate': '2025-07-10T06:48:12+00:00', 'source': 'C:\\\\Users\\\\DELL\\\\Desktop\\\\youtube chatbot\\\\final_main.pdf', 'total_pages': 29, 'page': 13, 'page_label': '14'}, page_content='–  Public  Administration:  30  seats   –  Journalism  &  Mass  Communication:  30  seats   –  Indian  Knowledge  System:  30  seats   \\n9.4  Bachelor  of  Social  Work  (BSW)   •  Duration :  4  Years   \\n•  Eligibility :  10+2  or  equivalent  from  a  recognized  board.   \\n•  Admission  Process :  Handled  by  Gandhinagar  University,  based  on  \\nmerit.\\n \\n•\\n \\nTuition\\n \\nFees\\n:\\n \\nRs.\\n \\n15,000\\n \\nper\\n \\nsemester.\\n \\n \\n•  Total  Intake :  60  seats   \\n9.5  Master  of  Social  Work  (MSW)   •  Duration :  2  Years   \\n•  Eligibility :  BSW  or  equivalent  from  a  recognized  university.  •  Admission  \\nProcess\\n:\\n \\nHandled\\n \\nby\\n \\nGandhinagar\\n \\nUniversity,\\n \\nbased\\n \\non\\n \\nmerit.\\n \\n•\\n \\nTuition\\n \\nFees\\n:\\n \\nRs.\\n \\n20,000\\n \\nper\\n \\nsemester.\\n \\n \\n•  Total  Intake :  30  seats   \\n10  Library  and  Information  Science  Programs  \\n10.1\\n \\nBachelor\\n \\nof\\n \\nLibrary\\n \\nand\\n \\nInformation\\n \\nScience\\n \\n(BLISc.)\\n \\n•\\n \\nDuration\\n:\\n \\n1\\n \\nYear\\n \\n \\n•  Eligibility :  Graduation  or  equivalent  from  a  recognized  university.  •  \\nAdmission\\n \\nProcess\\n:\\n \\nHandled\\n \\nby\\n \\nGandhinagar\\n \\nUniversity,\\n \\nbased\\n \\non\\n \\nmerit.\\n \\n•\\n \\nTuition\\n \\nFees\\n:\\n \\nRs.\\n \\n15,000\\n \\nper\\n \\nsemester.\\n \\n \\n•  Total  Intake :  30  seats    10.2  Master  of  Library  and  Information  Science  (MLISc.)  •  \\nDuration\\n:\\n \\n1\\n \\nYear\\n \\n \\n•  Eligibility :  BLISc.  or  equivalent  from  a  recognized  university.   \\n•  Admission  Process :  Handled  by  Gandhinagar  University,  based  on  \\nmerit.\\n \\n•\\n \\nTuition\\n \\nFees\\n:\\n \\nRs.\\n \\n15,000\\n \\nper\\n \\nsemester.\\n \\n \\n•  Total  Intake :  30  seats'),\n",
       " Document(metadata={'producer': 'iLovePDF', 'creator': 'PyPDF', 'creationdate': '', 'moddate': '2025-07-10T06:48:12+00:00', 'source': 'C:\\\\Users\\\\DELL\\\\Desktop\\\\youtube chatbot\\\\final_main.pdf', 'total_pages': 29, 'page': 14, 'page_label': '15'}, page_content='10.3  Integrated  Master  of  Library  and  Information  Science  (MLISc.)  •  \\nDuration\\n:\\n \\n2\\n \\nYears\\n \\n \\n•  Eligibility :  Graduation  or  equivalent  from  a  recognized  university.  •  \\nAdmission\\n \\nProcess\\n:\\n \\nHandled\\n \\nby\\n \\nGandhinagar\\n \\nUniversity,\\n \\nbased\\n \\non\\n \\nmerit.\\n \\n•\\n \\nTuition\\n \\nFees\\n:\\n \\nRs.\\n \\n15,000\\n \\nper\\n \\nsemester.\\n \\n \\n•  Total  Intake :  30  seats   \\n11  Valuation  Programs   \\n11.1  Master  of  Valuation  (M.Val.)   •  Duration :  2  Years   \\n•  Eligibility :  Graduation  (B.Com.,  B.Sc.,  B.E.,  B.Tech.,  B.Arch.,  B.Planning)  with  \\npreference\\n \\nfor\\n \\nMathematics,\\n \\nStatistics,\\n \\nor\\n \\nEconomics.\\n \\n \\n•  Admission  Process :  Handled  by  Gandhinagar  University,  based  on  \\nmerit.\\n \\n•\\n \\nTuition\\n \\nFees\\n:\\n \\nRs.\\n \\n50,000\\n \\nper\\n \\nsemester.\\n \\n \\n•  Specializations  and  Intake :   \\n–  Real  Estate  Valuation:  60  seats   –  Plant  &  Machinery  Valuation:  60  seats   \\n12  Vocational  and  Skill  Development  Programs  \\n12.1\\n \\nBachelor\\n \\nof\\n \\nVocational\\n \\n(B.Voc.)\\n \\n \\n•  Duration :  3  Years   \\n•  Eligibility :  10+2  or  equivalent  from  a  recognized  board.   \\n•  Admission  Process :  Handled  by  Gandhinagar  University,  based  on  \\nmerit.\\n \\n \\n•  Tuition  Fees :  Rs.  15,000  per  semester.   \\n•  Specializations  and  Intake :   \\n–  Information  Technology:  60  seats   –  Journalism  and  Mass  Communication:  60  seats   –  International  Sports:  60  seats   –  Digital  Marketing:  60  seats   –  Artificial  Intelligence:  60  seats'),\n",
       " Document(metadata={'producer': 'iLovePDF', 'creator': 'PyPDF', 'creationdate': '', 'moddate': '2025-07-10T06:48:12+00:00', 'source': 'C:\\\\Users\\\\DELL\\\\Desktop\\\\youtube chatbot\\\\final_main.pdf', 'total_pages': 29, 'page': 15, 'page_label': '16'}, page_content='–  Airport  &  Aviation  Management:  60  seats   \\n12.2  Diploma  in  Vocational  (D.Voc.)   •  Duration :  3  Years   \\n•  Eligibility :  10th  or  equivalent  from  a  recognized  board.   \\n•  Admission  Process :  Handled  by  Gandhinagar  University,  based  on  \\nmerit.\\n \\n \\n•  Tuition  Fees :  Rs.  15,000  per  semester.   \\n•  Total  Intake :  Information  Technology:  180  seats   \\n12.3  Diploma  in  Fashion  Design   •  Duration :  3  Years   \\n•  Eligibility :  10+2  or  equivalent  from  a  recognized  board.   \\n•  Admission  Process :  Handled  by  Gandhinagar  University,  based  on  \\nmerit.\\n \\n •  Tuition  Fees :  Rs.  20,000  per  semester.   \\n•  Total  Intake :  180  seats   \\n12.4  Certificate  and  Diploma  Skill  Programs   •  Duration :  1  Years   \\n•  Eligibility :  10th  or  equivalent  for  certificate  courses;  10+2  for  diploma  courses.  \\n•\\n \\nAdmission\\n \\nProcess\\n:\\n \\nHandled\\n \\nby\\n \\nGandhinagar\\n \\nUniversity,\\n \\nbased\\n \\non\\n \\nmerit.\\n \\n•\\n \\nTuition\\n \\nFees\\n:\\n \\nRs.\\n \\n2,000–12,000\\n \\nper\\n \\nprogram\\n \\n(depending\\n \\non\\n \\nthe\\n \\ncourse).\\n \\n•\\n \\nPrograms\\n \\nand\\n \\nIntake\\n:\\n \\n \\n–  Food  Nutrition  and  Dietetics  (Certificate):  60  seats   –  Dialysis  Technician  (Certificate):  60  seats   –  Patient  Care  Assistant  (Certificate):  60  seats   –  Medical  Laboratory  Technician  (Certificate):  60  seats   –  General  Duty  Assistant  (Certificate):  60  seats   –  Naturopathy  and  Yoga  (Certificate):  60  seats   –  Naturopathy  (Certificate):  60  seats   –  Therapeutic  Yoga  (Certificate):  60  seats   –  Naturopathy  Therapy  Training  (Certificate):  60  seats'),\n",
       " Document(metadata={'producer': 'iLovePDF', 'creator': 'PyPDF', 'creationdate': '', 'moddate': '2025-07-10T06:48:12+00:00', 'source': 'C:\\\\Users\\\\DELL\\\\Desktop\\\\youtube chatbot\\\\final_main.pdf', 'total_pages': 29, 'page': 16, 'page_label': '17'}, page_content='–  Electro-Homeopathy  System  of  Medicine  (Certificate):  60  seats   –  Critical  Care  Medicine  (Certificate):  60  seats   –  ICU  Procedures  (Certificate):  60  seats   –  ECG,  Echo  &  TMT  Technology  (Certificate):  60  seats   –  X-Ray  Technician  (Certificate):  60  seats   –  Cabin  Crew  &  Hospitality  Management  (Certificate):  60  seats   –  Ground  Staff  &  Travel  Management  (Certificate):  60  seats   –  Ethical  Hacking  (Certificate):  60  seats   –  Fundamentals  of  Cyber  Security  (Certificate):  60  seats   –  Basics  of  Cyber  Security  (Certificate):  60  seats   –  Advanced  Cyber  Security  (Certificate):  60  seats   –  Aviation  &  Travel  Management  (Diploma):  60  seats   –  Advanced  Diploma  in  Aviation  &  Travel  Management:  60  seats   \\n•  Note :  Offline  courses  have  a  batch  size  of  20  students.   \\n13  Ph.D.  Programs   \\n•  Duration :  Minimum  3  Years   \\n•  Eligibility :  Masters  degree  in  the  relevant  field  from  a  recognized  university.   \\n•  Admission  Process :  Handled  by  Gandhinagar  University,  based  on  merit  and  \\nentrance\\n \\nexam.\\n \\n \\n•  Tuition  Fees :  As  per  university  guidelines.   \\n•  Specializations :   \\n–  Management   –  Technology   –  Sciences   –  Commerce   –  Law   –  Arts   –  Computer  Science   –  Valuation   –  Library  Science   –  Computer  Applications   –  Microbiology   –  Biotechnology   –  Chemistry   –  Mathematics'),\n",
       " Document(metadata={'producer': 'iLovePDF', 'creator': 'PyPDF', 'creationdate': '', 'moddate': '2025-07-10T06:48:12+00:00', 'source': 'C:\\\\Users\\\\DELL\\\\Desktop\\\\youtube chatbot\\\\final_main.pdf', 'total_pages': 29, 'page': 17, 'page_label': '18'}, page_content='–  Physics   \\n•  Note :  Intake  varies  by  specialization;  contact  the  university  for  details.   \\n14  Important  Notes  for  Applicants   \\n14.1  Admission  Committees   •  ACPC  (Admission  Committee  for  Professional  Courses) :  Handles  admis  \\nsions\\n \\nfor\\n \\nEngineering,\\n \\nPharmacy,\\n \\nMBA,\\n \\nand\\n \\ncertain\\n \\nother\\n \\nprofessional\\n \\ncourses.\\n \\n \\n•  Gandhinagar  University  Admission  Committee :  Handles  admissions  for  most  \\nundergraduate\\n \\nand\\n \\npostgraduate\\n \\nprograms,\\n \\nprimarily\\n \\nbased\\n \\non\\n \\nmerit.\\n \\n \\n14.2  Fee  Structure   •  All  fees  are  per  semester  unless  otherwise  specified.   \\n•  Additional  fees  may  apply  (e.g.,  BBA  Accountancy  bridge  course:  Rs.  \\n2,000).\\n \\n•\\n \\nFees\\n \\nare\\n \\nsubject\\n \\nto\\n \\nchange\\n \\nas\\n \\nper\\n \\nuniversity\\n \\npolicy.\\n \\n \\n14.3  General  Eligibility  Notes   •  All  programs  require  completion  from  a  recognized  board/university.   \\n•  Specific  percentage  requirements  and  subject  prerequisites  (e.g.,  PCM,  PCB)  \\nvary\\n \\nby\\n \\nprogram.\\n \\n \\n•  Age  limits  apply  to  certain  programs,  particularly  nursing  courses.   \\n14.4  Application  Process   •  Most  programs  are  merit-based,  with  some  requiring  entrance  exams  (e.g.,  \\nGJUCET,\\n \\nCMAT).\\n \\n \\n•  Documentation  must  adhere  to  university  guidelines.   \\n•  Application  deadlines  are  announced  on  the  official  university  website.   \\nFor  further  details,  visit  https://www.gandhinagaruni.ac.in/  or  contact  the  ad  \\nmission\\n \\noffice.'),\n",
       " Document(metadata={'producer': 'iLovePDF', 'creator': 'PyPDF', 'creationdate': '', 'moddate': '2025-07-10T06:48:12+00:00', 'source': 'C:\\\\Users\\\\DELL\\\\Desktop\\\\youtube chatbot\\\\final_main.pdf', 'total_pages': 29, 'page': 18, 'page_label': '19'}, page_content=\"GANDHINAGAR  UNIVERSITY  \\nPLACEMENT\\n \\nINFORMATION\\n \\nCompany  Placement  Process  \\nCompanies  are  invited  to  participate  in  campus  placements  through  personal  interaction,  \\nemails,\\n \\nphone\\n \\ncalls,\\n \\nand\\n \\nfaxes.\\n \\nThe\\n \\nplacement\\n \\nprocess\\n \\nfollows\\n \\na\\n \\nstructured\\n \\napproach\\n \\nwith\\n \\nspecific\\n \\nsteps.\\n \\nCompanies  showing  interest  are  sent  a  Job  Announcement  Form  as  the  first  step.  \\nCompanies\\n \\nthen\\n \\nfill\\n \\nand\\n \\nreturn\\n \\nthe\\n \\nJob\\n \\nAnnouncement\\n \\nForm\\n \\nwith\\n \\ndetails\\n \\nincluding\\n \\nposition\\n \\nname,\\n \\nnumber\\n \\nof\\n \\nopenings,\\n \\nrequired\\n \\nskills,\\n \\ncompensation\\n \\npackage,\\n \\ntraining\\n \\nprobation\\n \\nduration,\\n \\ncampus\\n \\nvisit\\n \\nconfirmation,\\n \\npreferred\\n \\ndates,\\n \\nand\\n \\nrecruitment\\n \\nprocedure.\\n \\nThe  Placement  Cell  categorizes  companies  as  A  or  B  based  on  established  criteria.  \\nPre-placement\\n \\ntalks\\n \\nare\\n \\nconducted\\n \\nwith\\n \\ncompany\\n \\npresentations.\\n \\nThe\\n \\nfinal\\n \\nrecruitment\\n \\nprocess\\n \\nconcludes\\n \\nwith\\n \\noffer\\n \\nletters\\n \\nbeing\\n \\nsent\\n \\nto\\n \\nthe\\n \\nPlacement\\n \\nOffice.\\n \\nStudent  Placement  Policy  \\nStudents  must  register  by  signing  the  Expression  of  Interest  for  placements  form.  Students  \\nare\\n \\nrequired\\n \\nto\\n \\nsubmit\\n \\nan\\n \\nexcel\\n \\ndata\\n \\nsheet\\n \\nand\\n \\nsoft\\n \\ncopy\\n \\nresume\\n \\nin\\n \\nWord\\n \\n2007\\n \\nformat.\\n \\nStudents  must  carry  identity  card  and  3  hard  copy  resumes  during  placement  activities.  \\nDress\\n \\ncode\\n \\nrequires\\n \\nformals\\n \\nand\\n \\nstudents\\n \\ncannot\\n \\nhave\\n \\ndirect\\n \\ninteraction\\n \\nwith\\n \\ncompany\\n \\nexecutives.\\n \\nCompanies  shortlist  candidates  based  on  their  criteria.  Shortlisted  names  are  displayed  on  \\nplacement\\n \\nnotice\\n \\nboard,\\n \\nemail,\\n \\nand\\n \\ngitplacement\\n \\nblog.\\n \\nStudents  have  mandatory  attendance  requirements  and  if  shortlisted,  must  attend  the  next  \\nround.\\n \\nStudents\\n \\ncan\\n \\nparticipate\\n \\nuntil\\n \\nreceiving\\n \\nan\\n \\noffer\\n \\nletter.\\n \\nStudents\\n \\nmust\\n \\nsurrender\\n \\noffer\\n \\nif\\n \\nnot\\n \\njoining\\n \\nand\\n \\nface\\n \\ndebarment\\n \\npenalty\\n \\nfor\\n \\npolicy\\n \\nviolations.\\n \\nOff  campus  placement  activities  require  prior  consent  and  violations  result  in  debarment  and  \\ncompany\\n \\nnotification.\\n \\nMisconduct\\n \\nleads\\n \\nto\\n \\ndebarment\\n \\nand\\n \\ndisciplinary\\n \\naction.\\n \\nThe\\n \\nDirector's\\n \\ndecision\\n \\nis\\n \\nfinal\\n \\nauthority\\n \\nin\\n \\nall\\n \\nplacement\\n \\nmatters.\\n \\nPlacement  Facilities  \\nThe  main  placement  facility  is  a  centrally  Air-conditioned  Placement  Plaza  that  allows  huge  \\ncampus\\n \\nplacements\\n \\nin\\n \\none\\n \\nday\\n \\nand\\n \\nis\\n \\ntime\\n \\nand\\n \\nenergy\\n \\nefficient.\"),\n",
       " Document(metadata={'producer': 'iLovePDF', 'creator': 'PyPDF', 'creationdate': '', 'moddate': '2025-07-10T06:48:12+00:00', 'source': 'C:\\\\Users\\\\DELL\\\\Desktop\\\\youtube chatbot\\\\final_main.pdf', 'total_pages': 29, 'page': 19, 'page_label': '20'}, page_content='The  infrastructure  includes  wifi  enabled  connectivity  at  40  MBPS  speed  through  Leased  Line  \\nInternet\\n \\nusing\\n \\nR/F\\n \\ntechnology\\n \\nwith\\n \\nunlimited\\n \\ndownloading\\n \\nand\\n \\nuploading\\n \\ncapabilities.\\n \\nSeminar  halls  include  one  large  hall  with  300  capacity,  one  medium  hall  with  100  capacity,  \\nand\\n \\n3\\n \\nmini\\n \\nhalls\\n \\nwith\\n \\n35\\n \\ncapacity\\n \\neach.\\n \\nInterview  facilities  consist  of  4  Personal  Interview  Rooms  that  are  fully  air  conditioned  and  \\naccommodate\\n \\n3\\n \\npanel\\n \\nmembers\\n \\nplus\\n \\n4\\n \\ncandidates\\n \\neach.\\n \\nGroup  discussion  facilities  include  2  rooms  with  capacity  for  3  panel  members  plus  4  \\ncandidates\\n \\neach\\n \\nthat\\n \\nare\\n \\nfully\\n \\nair\\n \\nconditioned.\\n \\nComputer  facilities  comprise  6  computer  labs  with  30  computers  per  lab  offering  24x7  \\navailability\\n \\nand\\n \\ninternet\\n \\nfacility.\\n \\nProcess  Flow  \\nThe  placement  process  follows  a  sequence  starting  with  invitation  to  companies,  followed  by  \\nsubmission\\n \\nof\\n \\njob\\n \\nannouncement\\n \\nform,\\n \\nthen\\n \\nconfirmation\\n \\nnegotiation\\n \\nwith\\n \\nplacement\\n \\ncell,\\n \\npre\\n \\nplacement\\n \\ntalks,\\n \\nand\\n \\nconcluding\\n \\nwith\\n \\nfinal\\n \\nrecruitment\\n \\nprocess.\\n \\nCorporate  Mentors  \\nThe  university  has  established  relationships  with  various  corporate  mentors  including  Tata  \\nConsultancy\\n \\nServices,\\n \\nL&T\\n \\nInfotech,\\n \\nInfosys,\\n \\nIBM,\\n \\neInfochips,\\n \\nFerromatik\\n \\nMilacron,\\n \\nISPAT,\\n \\nMaruti\\n \\nSuzuki,\\n \\nPolycab\\n \\nWires\\n \\n&\\n \\nCables,\\n \\nChartered\\n \\nSpeed,\\n \\nCipla,\\n \\nClaris,\\n \\nHidden\\n \\nBrains,\\n \\nHi-Tech\\n \\nOutsourcing\\n \\nServices,\\n \\nOBO\\n \\nBettermann,\\n \\nTatvaSoft,\\n \\nZaptech,\\n \\nElsner\\n \\nTechnologies\\n \\nPvt\\n \\nLtd,\\n \\nNetizen,\\n \\nand\\n \\nBharti\\n \\nAXA\\n \\nGeneral\\n \\nInsurance.'),\n",
       " Document(metadata={'producer': 'iLovePDF', 'creator': 'PyPDF', 'creationdate': '', 'moddate': '2025-07-10T06:48:12+00:00', 'source': 'C:\\\\Users\\\\DELL\\\\Desktop\\\\youtube chatbot\\\\final_main.pdf', 'total_pages': 29, 'page': 20, 'page_label': '21'}, page_content='Gandhinagar  University  -  About  Us  \\nLeadership  and  Vision  \\nPresident  -  Shri  Hareshbhai  Rohera  \\nVision  Statement:  \"THE  BASIC  PRINCIPLE  OF  TRANSFORMING  SOCIETY  IS  BY  \\nTRANSFORMING\\n \\nEDUCATION.\"\\n \\nPresident\\'s  Message:  Welcome  to  the  Gandhinagar  University.  It  is  a  privilege  to  lead  such  \\nan\\n \\noutstanding\\n \\ninstitution,\\n \\npreviously\\n \\nknown\\n \\nas\\n \\nGandhinagar\\n \\nInstitute\\n \\nof\\n \\nTechnology\\n \\nfor\\n \\nthe\\n \\nlast\\n \\n15\\n \\nyears\\n \\nof\\n \\nits\\n \\ninceptions.\\n \\nIt\\n \\nhas\\n \\nbeen\\n \\nawarded\\n \\nas\\n \\nthe\\n \\nprominent\\n \\nuniversity\\n \\nfor\\n \\nfuturistic\\n \\neducation.\\n \\nMy\\n \\nhearts\\n \\nfill\\n \\npride\\n \\nand\\n \\npleasure\\n \\nas\\n \\nI\\n \\nperceive\\n \\nthe\\n \\nprogress\\n \\nbeing\\n \\nmade\\n \\nat\\n \\nGandhinagar\\n \\nUniversity.\\n \\nThe\\n \\nseed\\n \\nof\\n \\nan\\n \\nidea\\n \\nsown\\n \\nin\\n \\n2006\\n \\nhas\\n \\nvery\\n \\nfast\\n \\ncome\\n \\nto\\n \\nfruition,\\n \\nand\\n \\nthe\\n \\nuniversity\\n \\nis\\n \\ngrowing\\n \\ninto\\n \\na\\n \\nstrong\\n \\nsapling.\\n \\nMay\\n \\nthe\\n \\nsapling\\n \\ngrow\\n \\ninto\\n \\na\\n \\nsturdy\\n \\ntree\\n \\nand\\n \\nspread\\n \\nits\\n \\nbranches!\\n \\nWe  are  aware  that  India  has  one  of  the  largest,  diverse,  and  dynamic  education  systems  in  \\nthe\\n \\nworld.\\n \\nGandhinagar\\n \\nUniversity\\n \\nalways\\n \\nplays\\n \\na\\n \\nkey\\n \\nrole\\n \\nin\\n \\nsecuring\\n \\nsustainably\\n \\nsocio-cultural\\n \\nand\\n \\neconomic\\n \\ndevelopment\\n \\nof\\n \\nstudents.\\n \\nThis\\n \\nuniversity\\n \\nhas\\n \\nwell\\n \\nqualified\\n \\nand\\n \\nexperienced\\n \\nfaculty\\n \\nmembers\\n \\nand\\n \\na\\n \\nwell-equipped\\n \\nlibrary\\n \\nand\\n \\nmany\\n \\nair-conditioned\\n \\nspacious\\n \\nclass\\n \\nrooms\\n \\nfor\\n \\nteaching\\n \\nand\\n \\nlearning.\\n \\nThe\\n \\nmanagement\\n \\nof\\n \\nthe\\n \\nuniversity\\n \\nhas\\n \\nmade\\n \\nsure\\n \\nthat\\n \\nthis\\n \\ngrowing\\n \\nuniversity\\n \\nhas\\n \\nall\\n \\nthe\\n \\nrequired\\n \\ninfrastructural\\n \\nfacilities.\\n \\nI  encourage  you  to  visit  our  campus  and  learn  more  about  the  opportunities  available  at  the  \\nUniversity.\\n \\nTomorrow\\n \\nbelongs\\n \\nto\\n \\nthose\\n \\nwho\\n \\nprepare\\n \\ntoday.\\n \\nWe,\\n \\nat\\n \\nGandhinagar\\n \\nUniversity,\\n \\nare\\n \\nthus\\n \\nbusy\\n \\nto\\n \\ncreate\\n \\na\\n \\npath.\\n \\nI\\n \\ninvite\\n \\nyou\\n \\nto\\n \\ntread\\n \\nalong,\\n \\nto\\n \\nmake\\n \\nyour\\n \\njourney\\n \\na\\n \\nphenomenal\\n \\nsuccess.\\n \\nVice  President  -  Ms.  Vinita  Rohera  \\nVision  Statement:  \"TOGETHER,  WE  ARE  A  FORCE  FOR  THE  FUTURE\"  \\nVice  President\\'s  Message:  Warm  greetings  from  the  office  of  the  Vice  President  of  \\nGandhinagar\\n \\nUniversity,\\n \\na\\n \\nfuturistic\\n \\nuniversity\\n \\nof\\n \\nstudent\\n \\ncentric\\n \\nculture\\n \\nand\\n \\nsharpened\\n \\nfocus\\n \\non\\n \\ndeveloping\\n \\nindustry\\n \\nready\\n \\nand\\n \\nemployable\\n \\nstudents\\n \\nwith\\n \\nall\\n \\nround\\n \\ndevelopment.\\n \\nEducation  is  the  key  to  unlock  the  golden  door  of  freedom.  It  is  highly  imperative  that  our  \\nyouth\\n \\nare\\n \\nproperly\\n \\ntrained\\n \\nand\\n \\nmotivated\\n \\nto\\n \\nachieve\\n \\ngreat\\n \\nheights\\n \\nand\\n \\nachievements.\\n \\nWe\\n \\nhave\\n \\nenvisioned\\n \\nin\\n \\nshaping\\n \\nGandhinagar\\n \\nUniversity\\n \\nas\\n \\na\\n \\ncentre\\n \\nof\\n \\nexcellence\\n \\nin\\n \\nthe\\n \\nfields\\n \\nof\\n \\nlearning,\\n \\ninnovations,\\n \\ntechnology,\\n \\nsciences,\\n \\nhumanities\\n \\nand\\n \\nmanagement.\\n \\nGandhinagar  University  excels  in  providing  holistic  education  in  line  with  the  current  and  \\nfuture\\n \\ndemands\\n \\nin\\n \\nlife.\\n \\nWe\\n \\nwill\\n \\nrelentlessly\\n \\npursue\\n \\nall\\n \\nopportunities\\n \\nof\\n \\nstudent\\n \\nprogression\\n \\nas\\n \\nthey\\n \\nlearn\\n \\nand\\n \\nadvance\\n \\ntogether.'),\n",
       " Document(metadata={'producer': 'iLovePDF', 'creator': 'PyPDF', 'creationdate': '', 'moddate': '2025-07-10T06:48:12+00:00', 'source': 'C:\\\\Users\\\\DELL\\\\Desktop\\\\youtube chatbot\\\\final_main.pdf', 'total_pages': 29, 'page': 21, 'page_label': '22'}, page_content='I  am  optimistically  excited  about  the  future  prospects  of  what  we  will  achieve  together  in  the  \\ncoming\\n \\nyears.\\n \\nVice  Chancellor  -  Prof.  Kamalesh  V.N.  \\nInspirational  Quote:  \"Live  as  if  you  were  to  die  tomorrow.  Learn  as  if  you  were  to  live  \\nforever\"\\n \\n-\\n \\nMahatma\\n \\nGandhi\\n \\nVice  Chancellor\\'s  Message:  At  the  outset  it  is  my  proud  privilege  and  immense  pleasure  to  \\nlead\\n \\nthe\\n \\nmost\\n \\nprestigious\\n \\nand\\n \\nesteemed\\n \\nGandhinagar\\n \\nUniversity\\n \\nas\\n \\nthe\\n \\nVice\\n \\nChancellor.\\n \\nI\\n \\ndevote\\n \\nmyself\\n \\nto\\n \\nthe\\n \\nservice\\n \\nof\\n \\ndeveloping\\n \\nthis\\n \\nvenerated\\n \\nuniversity\\n \\nto\\n \\nthe\\n \\nGlobal\\n \\nstandards\\n \\nand\\n \\nserve\\n \\nmy\\n \\ntreasured\\n \\nstudents,\\n \\nalumni,\\n \\nand\\n \\nthe\\n \\ndedicated\\n \\nstaff.\\n \\nEducation  and  technology  are  the  engines  that  thrive  on  the  progress  and  prospects  of  any  \\nnation.\\n \\nIn\\n \\nfact,\\n \\nit\\n \\nis\\n \\na\\n \\nmajor\\n \\nparameter\\n \\nto\\n \\nquantify\\n \\nthe\\n \\ngrowth\\n \\nand\\n \\ndevelopment\\n \\nof\\n \\na\\n \\nnation.\\n \\nPrincipally,\\n \\nscience,\\n \\nengineering\\n \\n&\\n \\ntechnology\\n \\nlead\\n \\nin\\n \\ndesigning,\\n \\ndeveloping,\\n \\nand\\n \\nresearching\\n \\nmarketable\\n \\nproducts\\n \\nwhich\\n \\nconsequently\\n \\nproduce\\n \\nwealth.\\n \\nIn\\n \\ncontrast\\n \\nhumanities,\\n \\nliberal\\n \\narts,\\n \\nlaw,\\n \\nand\\n \\nHealth\\n \\nSciences\\n \\nare\\n \\ninvolved\\n \\nin\\n \\nthe\\n \\nwellness\\n \\nof\\n \\nsociety.\\n \\nEngineering\\n \\nis\\n \\na\\n \\nproblem-solving\\n \\nprofession.\\n \\nProblem\\n \\nsolving\\n \\nrequires\\n \\nin-depth\\n \\nknowledge\\n \\nin\\n \\na\\n \\nparticular\\n \\nfield\\n \\nwith\\n \\na\\n \\nmultidisciplinary\\n \\napproach.\\n \\nThe\\n \\nTechnology,\\n \\nimpact\\n \\non\\n \\nsociety\\n \\nis\\n \\ntoo\\n \\ngreat,\\n \\nso\\n \\nthat\\n \\nengineers\\n \\nand\\n \\nscientists\\n \\nmust\\n \\nconvince\\n \\nthe\\n \\nsociety\\n \\nby\\n \\narticulating\\n \\nwhat\\n \\ntechnology\\n \\nis\\n \\ngoing\\n \\nto\\n \\ndeliver,\\n \\nwhich\\n \\nrequires\\n \\ngood\\n \\ncommunication\\n \\nskills.\\n \\nHigher  Education  Framework  Components:  The  transitive  phase  of  your  higher  education  \\npackages\\n \\nshall\\n \\ncomprise\\n \\nof\\n \\nthe\\n \\nfollowing:\\n \\n●  An  in-depth  knowledge  in  the  specialised  field  ●  Vast  technology  explorations  ●  Entrepreneurship  (important  to  generate  wealth)  ●  Communication  skills  \\nAdditional  Paradigm  Components:  However,  one  needs  to  rethink  the  paradigm  of  higher  \\neducation\\n \\nin\\n \\nthis\\n \\ncompetitive\\n \\nworld\\n \\nby\\n \\nadding\\n \\nsignificant\\n \\nfive\\n \\nother\\n \\ncomponents\\n \\nsuch\\n \\nas\\n \\nConvention,\\n \\nInnovation,\\n \\nIndustrialization,\\n \\nGlobalization\\n \\nand\\n \\nEthics.\\n \\nUniversity  Commitment:  Gandhinagar  University  is  committed  to  offering  impeccable  \\nacademic\\n \\nstandards\\n \\nwith\\n \\na\\n \\nglobal\\n \\nperspective.\\n \\nOur\\n \\ninnovative\\n \\nand\\n \\ninclusive\\n \\nteaching\\n \\nmethodologies\\n \\nare\\n \\nimplemented\\n \\nin\\n \\nan\\n \\nexcellent\\n \\nenvironment.\\n \\nCommitted\\n \\nto\\n \\nexcellence\\n \\nin\\n \\nteaching,\\n \\nresearch\\n \\nand\\n \\nservice,\\n \\nthe\\n \\nUniversity\\n \\naims\\n \\nto\\n \\nserve\\n \\nthe\\n \\nhigher\\n \\neducation\\n \\nneeds\\n \\nof\\n \\nIndia\\n \\nand\\n \\nthe\\n \\nworld\\n \\nbeyond.\\n \\nCurriculum  Philosophy:  The  curriculum  is  developed  keeping  in  view  the  global  standards  \\nbut\\n \\nnot\\n \\ncompromising\\n \\nwith\\n \\nthe\\n \\nhigher\\n \\neducation\\n \\nframework\\n \\nand\\n \\nNEP\\n \\n2020.\\n \\nThe\\n \\ncurriculum\\n \\nis\\n \\nstudent\\n \\ncentric.\\n \\nStudents\\n \\nwill\\n \\nbe\\n \\ninvolved\\n \\nin\\n \\nall\\n \\nthe\\n \\nactivities\\n \\nof\\n \\nthe\\n \\nuniversity.\\n \\nWe\\n \\nlook\\n \\nforward\\n \\nto\\n \\nteaching\\n \\ncontents\\n \\nbeyond\\n \\nsyllabus\\n \\nin\\n \\nall\\n \\nthe\\n \\nmodes.\\n \\nThe\\n \\ncurriculum\\n \\nhas\\n \\nbeen\\n \\ndesigned\\n \\nwith\\n \\nindustry-specific\\n \\ngoals\\n \\nby\\n \\nincorporating\\n \\nupdated\\n \\nknowledge.\\n \\nOur\\n \\ncurriculum\\n \\nis\\n \\nexceptional\\n \\nand\\n \\ncontemporary,\\n \\na\\n \\nresult\\n \\nof\\n \\nbrainstorming\\n \\nefforts\\n \\nof\\n \\ngreat\\n \\nthink-tanks.\\n \\nWe\\n \\nsincerely\\n \\nbelieve\\n \\nthat\\n \\nit\\n \\nwill\\n \\nmeet\\n \\nthe\\n \\naspirations\\n \\nof\\n \\nall\\n \\nstakeholders.'),\n",
       " Document(metadata={'producer': 'iLovePDF', 'creator': 'PyPDF', 'creationdate': '', 'moddate': '2025-07-10T06:48:12+00:00', 'source': 'C:\\\\Users\\\\DELL\\\\Desktop\\\\youtube chatbot\\\\final_main.pdf', 'total_pages': 29, 'page': 22, 'page_label': '23'}, page_content='Governance  Structure  \\nTrustee  Governing  Body  of  PLATINUM  FOUNDATION  \\nBoard  Members:  \\n●  Shri  Hareshbhai  Rohera  ●  Shri  Deepakbhai  Ravani  ●  Shri  Pravinbhai  Shah  ●  Ms.  Vinita  Rohera  ●  Smt  Varshaben  M.  Pandhi  \\nOffice  Bearers  &  Deans  \\nVice  Chancellor:  Dr.  Kamalesh  V.  N  \\nOfficer  on  Special  Duty  (OSD):  Dr.  Gaurav  Bhimawat  \\nI/C  Deputy  Registrar  (Administrative):  Prof.  Nirav  Joshi  \\nAdministrative  Officer:  Mr.  Dhaval  Shah  \\nI/C  Controller  Of  Examinations:  Dr.  Nimesh  Gajjar  \\nSystem  Administrator:  Mr.  Hiren  Trivedi  \\nDean  Arts  &  Science:  Prof.  (Dr.)  Nirupama  Patel  \\nAcademic  Resources  \\nResource  Centre  (Library)  \\nOverview:  Library  serves  as  a  portal  to  the  most  recent  material  in  the  humanities,  social  \\nsciences,\\n \\nengineering,\\n \\nand\\n \\nother\\n \\nfields\\n \\nof\\n \\nstudy.\\n \\nThe\\n \\nlibrary\\n \\noffers\\n \\ninformation\\n \\nservices\\n \\nto\\n \\nsupport\\n \\nteaching,\\n \\nlearning,\\n \\nresearch,\\n \\nand\\n \\noutreach\\n \\nactivities\\n \\nof\\n \\nthe\\n \\nuniversity\\n \\nby\\n \\nbuilding\\n \\nultra-modern\\n \\nfacilities\\n \\nand\\n \\nservices.\\n \\nPutting\\n \\nusers\\n \\nfirst,\\n \\nthe\\n \\nLibrary\\n \\nhas\\n \\nbeen\\n \\nactively\\n \\ninvolved\\n \\nin\\n \\ndeveloping\\n \\nand\\n \\ndelivering\\n \\ninformation\\n \\nservices\\n \\nbased\\n \\non\\n \\nuser\\n \\nneeds.\\n \\nKey  Features:  \\n●  Library  Catalogue  ●  Suggest  A  Book  service  ●  Library  Hours:  9.00  am  to  3.30  pm  (Monday  –  Saturday)  \\nCollection:  The  library  contains  collection  of  books,  journals,  and  magazines  in  print  and  \\ndigital\\n \\nformat\\n \\nthat\\n \\nspans\\n \\nthe\\n \\nmajority\\n \\nof\\n \\nthe\\n \\nsubjects.\\n \\nThe\\n \\nlibrary\\n \\nhas\\n \\nrack\\n \\nup\\n \\ncollections\\n \\nin\\n \\nevery\\n \\narea\\n \\nof\\n \\ninterest\\n \\nto\\n \\nthe\\n \\ncampus\\n \\ncommunity\\n \\nand\\n \\nindividuals\\n \\nboth\\n \\ndirectly\\n \\nand\\n \\nindirectly\\n \\nconnected\\n \\nto\\n \\nthe\\n \\nInstitute.'),\n",
       " Document(metadata={'producer': 'iLovePDF', 'creator': 'PyPDF', 'creationdate': '', 'moddate': '2025-07-10T06:48:12+00:00', 'source': 'C:\\\\Users\\\\DELL\\\\Desktop\\\\youtube chatbot\\\\final_main.pdf', 'total_pages': 29, 'page': 23, 'page_label': '24'}, page_content='Digital  Resources:  The  library  subscribes  to  a  core  collection  of  e-journals,  databases,  \\ne-books,\\n \\nand\\n \\nother\\n \\nresources\\n \\nto\\n \\nassist\\n \\nresearch\\n \\nactivity.\\n \\nInfrastructure:  The  library  has  built  a  first-rate  infrastructure  facility  with  all  the  necessary  \\ntechnological\\n \\ntools\\n \\nand\\n \\nsoftware.\\n \\nAccess:  Both  on  and  off  campus,  library  services  are  fully  automated  and  available.  \\nCampus  Infrastructure  \\nAcademic  Infrastructure  \\nFacilities  Overview:  The  institute  offers  the  best  of  academic  and  physical  infrastructure  to  \\nits\\n \\nstudents\\n \\nwith\\n \\ncomprehensive\\n \\nfacilities\\n \\ndesigned\\n \\nto\\n \\nsupport\\n \\nmodern\\n \\neducation\\n \\nand\\n \\nresearch.\\n \\nClassroom  Facilities:  \\n●  45  Classrooms  ●  6  Departmental  Seminar  Rooms  ●  11  Tutorial  Rooms  ●  Computer  Centre  ●  Library  ●  Seminar  Hall  of  about  250  capacity  for  conducting  seminars,  workshops  and  training  \\nprograms\\n \\nTeaching  Aids:  The  Institute  possesses  all  the  necessary  teaching  aids  like  multimedia  \\nprojector,\\n \\nOHP\\n \\netc.\\n \\nfor\\n \\ninteractive\\n \\nlearning.\\n \\nThe\\n \\ncampus\\n \\nhas\\n \\na\\n \\nserene\\n \\nacademic\\n \\nambiance\\n \\nthat\\n \\nmotivates\\n \\nstudents\\n \\nto\\n \\nfocus\\n \\non\\n \\ndevelopment\\n \\nand\\n \\nall\\n \\nround\\n \\ngrowth.\\n \\nCampus  Location  and  Environment  \\nCampus  Description:  The  lush  green  campus  of  GIT  is  located  on  the  outskirts  of  \\nAhmedabad/Gandhinagar\\n \\nnear\\n \\nVadsar\\n \\nAir\\n \\nforce\\n \\nbase,\\n \\nabout\\n \\n13\\n \\nkms\\n \\nfrom\\n \\nGota\\n \\ncross\\n \\nroad\\n \\non\\n \\nSarkhej-Gandhinagar\\n \\nHighway,\\n \\nin\\n \\ncomplete\\n \\nharmony\\n \\nwith\\n \\nnature.\\n \\nBeing\\n \\naway\\n \\nfrom\\n \\nthe\\n \\ncity,\\n \\nthe\\n \\npicturesque\\n \\nlocation\\n \\nprovides\\n \\na\\n \\nrefreshing\\n \\nenvironment\\n \\nin\\n \\nwhich\\n \\nstudents\\n \\ncan\\n \\npursue\\n \\ntheir\\n \\nstudies\\n \\npeacefully\\n \\nand\\n \\nundisturbed.\\n \\nIt\\n \\nis\\n \\na\\n \\nplace\\n \\nwhere\\n \\ntranquility\\n \\nacquires\\n \\na\\n \\nnew\\n \\ndimension\\n \\nand\\n \\nwhere\\n \\nmodern\\n \\narchitecture\\n \\nblends\\n \\nwith\\n \\ntraditional\\n \\nvalues\\n \\nto\\n \\nheighten\\n \\nthe\\n \\nspirit\\n \\nof\\n \\ncontinuous\\n \\nlearning.\\n \\nStudent  Life  and  Amenities  \\nHostel  Facilities  \\nAccommodation  Overview:  Full-fledged  hostel  facility  for  boys  and  girls  students  is  \\navailable.\\n \\nIt\\n \\nprovides\\n \\ngood\\n \\nand\\n \\nsafe\\n \\nfacilities\\n \\nof\\n \\nlodging\\n \\nand\\n \\nboarding\\n \\nto\\n \\ncater\\n \\nto\\n \\nthe\\n \\nneeds\\n \\nof\\n \\noutstation\\n \\nstudents.'),\n",
       " Document(metadata={'producer': 'iLovePDF', 'creator': 'PyPDF', 'creationdate': '', 'moddate': '2025-07-10T06:48:12+00:00', 'source': 'C:\\\\Users\\\\DELL\\\\Desktop\\\\youtube chatbot\\\\final_main.pdf', 'total_pages': 29, 'page': 24, 'page_label': '25'}, page_content='Hostel  Features:  \\n●  Full-fledged  facilities  with  Garden  ●  Gymnasium  ●  Well-furnished  air  conditioned/non  air  conditioned  rooms  ●  Efficient  and  qualified  custodian  monitoring  student  wellbeing  ●  Internet  facilities  ●  Individual  beds  and  wardrobes  ●  Attached  bathrooms  ●  Study  tables  and  chairs  ●  Morning  breakfast  and  dinners  \\nSafety  and  Supervision:  The  students  are  monitored  with  their  wellbeing  by  an  efficient  and  \\nqualified\\n \\ncustodian.\\n \\nThe\\n \\nnewly\\n \\nconstructed\\n \\nhostel\\n \\nprovides\\n \\ncomprehensive\\n \\namenities\\n \\nfor\\n \\ncomfortable\\n \\nstudent\\n \\nliving.\\n \\nComputing  Facilities  \\nTechnology  Infrastructure:  The  computing  facilities  at  the  campus  include  modern  \\ncomputer\\n \\nlaboratories\\n \\nwith\\n \\nlatest\\n \\nconfiguration\\n \\ncomputers,\\n \\nmodern\\n \\nsoftware\\n \\nand\\n \\nhigh\\n \\nspeed\\n \\nservers.\\n \\nThe\\n \\nnetwork\\n \\nconnects\\n \\nevery\\n \\ncorner\\n \\nof\\n \\nthe\\n \\ninstitute\\n \\nhaving\\n \\n24*7\\n \\ninternet\\n \\nconnectivity.\\n \\nLanguage  Laboratories:  Language  laboratories  are  equipped  with  the  latest  software  to  aid  \\nmodern\\n \\nlanguage\\n \\nteaching.\\n \\nConnectivity:  24*7  internet  connectivity  is  available  throughout  the  campus  with  high-speed  \\nnetwork\\n \\ninfrastructure.\\n \\nTransportation  Services  \\nBus  Services:  The  institute  has  fleet  of  buses  plying  in  all  the  areas  of  Ahmedabad  and  \\nGandhinagar\\n \\nfor\\n \\nstudents,\\n \\nfaculty\\n \\nand\\n \\nstaff\\n \\nmembers.\\n \\nPublic  Transportation:  Apart  from  these  facilities,  the  AMTS  service  is  also  available  from  \\nmajor\\n \\nparts\\n \\nof\\n \\nthe\\n \\ncity.\\n \\nAccessibility:  Comprehensive  transportation  solutions  ensure  easy  access  to  the  campus  \\nfrom\\n \\nvarious\\n \\nparts\\n \\nof\\n \\nAhmedabad\\n \\nand\\n \\nGandhinagar.\\n \\nAdditional  Campus  Amenities  \\nOpen  Air  Theatre  \\nFacility  Description:  The  open  air  theatre  at  GIT  is  spacious  enough  to  accommodate  \\naround\\n \\n2000\\n \\nstudents\\n \\ncomfortably.\\n \\nCapacity:  2000  students  \\nPurpose:  Cultural  events,  gatherings,  and  large-scale  university  functions'),\n",
       " Document(metadata={'producer': 'iLovePDF', 'creator': 'PyPDF', 'creationdate': '', 'moddate': '2025-07-10T06:48:12+00:00', 'source': 'C:\\\\Users\\\\DELL\\\\Desktop\\\\youtube chatbot\\\\final_main.pdf', 'total_pages': 29, 'page': 25, 'page_label': '26'}, page_content='Banking  Services  \\nATM  Facility:  State  Bank  of  India  ATM  is  operative  in  the  campus.  \\nBanking  Partner:  State  Bank  of  India  \\nConvenience:  On-campus  banking  services  for  students,  faculty,  and  staff  \\nUniversity  Heritage  and  Growth  \\nHistorical  Background  \\nFoundation:  Originally  established  as  Gandhinagar  Institute  of  Technology  in  2006  \\nEvolution:  Transformed  into  Gandhinagar  University  after  15  years  of  successful  operation  \\nRecognition:  Awarded  as  the  prominent  university  for  futuristic  education  \\nGrowth  Philosophy:  The  seed  of  an  idea  sown  in  2006  has  very  fast  come  to  fruition,  and  \\nthe\\n \\nuniversity\\n \\nis\\n \\ngrowing\\n \\ninto\\n \\na\\n \\nstrong\\n \\nsapling\\n \\nEducational  Philosophy  \\nMission:  Transforming  society  through  transforming  education  \\nFocus  Areas:  \\n●  Student-centric  culture  ●  Industry-ready  and  employable  students  ●  All-round  development  ●  Global  standards  with  local  values  \\nAcademic  Excellence:  \\n●  Well  qualified  and  experienced  faculty  members  ●  Well-equipped  library  ●  Air-conditioned  spacious  classrooms  ●  Modern  teaching  methodologies  \\nFuture  Vision  \\nDevelopment  Goals:  \\n●  Achieving  global  standards  ●  Serving  students,  alumni,  and  dedicated  staff  ●  Centre  of  excellence  in  learning,  innovations,  technology,  sciences,  humanities  and  \\nmanagement\\n ●  Meeting  higher  education  needs  of  India  and  the  world  beyond'),\n",
       " Document(metadata={'producer': 'iLovePDF', 'creator': 'PyPDF', 'creationdate': '', 'moddate': '2025-07-10T06:48:12+00:00', 'source': 'C:\\\\Users\\\\DELL\\\\Desktop\\\\youtube chatbot\\\\final_main.pdf', 'total_pages': 29, 'page': 26, 'page_label': '27'}, page_content='Educational  Impact:  \\n●  Socio-cultural  and  economic  development  of  students  ●  Holistic  education  aligned  with  current  and  future  demands  ●  Industry-specific  curriculum  with  updated  knowledge  ●  NEP  2020  compliance  with  global  perspective  \\n \\nGandhinagar  University  stands  as  a  beacon  of  educational  excellence,  combining  traditional  \\nvalues\\n \\nwith\\n \\nmodern\\n \\ninnovation\\n \\nto\\n \\ncreate\\n \\nindustry-ready\\n \\ngraduates\\n \\nwho\\n \\ncontribute\\n \\nmeaningfully\\n \\nto\\n \\nsociety.'),\n",
       " Document(metadata={'producer': 'iLovePDF', 'creator': 'PyPDF', 'creationdate': '', 'moddate': '2025-07-10T06:48:12+00:00', 'source': 'C:\\\\Users\\\\DELL\\\\Desktop\\\\youtube chatbot\\\\final_main.pdf', 'total_pages': 29, 'page': 27, 'page_label': '28'}, page_content='GANDHINAGAR  UNIVERSITY  CONTACT  \\nINFORMATION\\n \\nUniversity  Information  \\nGandhinagar  University  is  located  at  University  Campus,  Khatraj-Kalol  Road,  Moti  Bhoyan,  \\nKalol,\\n \\nGandhinagar,\\n \\nIndia,\\n \\npostal\\n \\ncode\\n \\n382721.\\n \\nThe\\n \\nuniversity\\n \\ncan\\n \\nbe\\n \\ncontacted\\n \\nat\\n \\nphone\\n \\nnumbers\\n \\n+91\\n \\n99044\\n \\n05900\\n \\nand\\n \\n+91\\n \\n99044\\n \\n05901.\\n \\nThe\\n \\nregistrar\\n \\nemail\\n \\nis\\n \\nregistrar@gandhinagaruni.ac.in.\\n \\nUniversity  Officials  \\nProf.  Nirav  Joshi  serves  as  Deputy  Registrar  (Administrative)  and  can  be  contacted  at  \\ndradmin@gandhinagaruni.ac.in\\n \\nwith\\n \\nemergency\\n \\ncontact\\n \\nnumber\\n \\n7069088191.\\n \\nDr.  Umang  Patel  holds  the  position  of  Deputy  Controller  of  Examination  and  can  be  reached  \\nat\\n \\ndycoe@gandhinagaruni.ac.in\\n \\nwith\\n \\nemergency\\n \\ncontact\\n \\nnumber\\n \\n9099063012.\\n \\nThe  Dean  of  Engineering  and  Technology  can  be  contacted  at  \\ndean.engg@gandhinagaruni.ac.in.\\n \\nThe  Dean  of  Management  and  Commerce  can  be  reached  at  \\ndean.mgmt@gandhinagaruni.ac.in\\n \\nwith\\n \\nemergency\\n \\ncontact\\n \\nnumber\\n \\n7069088192.\\n \\nMr.  Snehal  Barot  is  the  Training  and  Placement  Officer  and  can  be  contacted  at  \\nplacement@git.org.in\\n \\nwith\\n \\nemergency\\n \\ncontact\\n \\nnumber\\n \\n7069088197.\\n \\nMr.  Dhaval  Shah  serves  as  Officer  (Administration)  and  can  be  reached  at  \\ndhaval.shah@git.org.in\\n \\nwith\\n \\nemergency\\n \\ncontact\\n \\nnumber\\n \\n7069088199.\\n \\nInstitute  Contact  Information  \\nGandhinagar  Institute  of  Technology  (GIT)  has  Prof.  Nirav  Joshi  as  contact  person  and  can  \\nbe\\n \\nreached\\n \\nat\\n \\n7069088191.\\n \\nGandhinagar  Institute  of  Management  (GIM)  can  be  contacted  at  7069088192.  \\nGandhinagar  Institute  of  Science  (GIS)  has  Dr.  Gautam  Patel  as  contact  person  and  can  be  \\nreached\\n \\nat\\n \\n7069088193.\\n \\nGandhinagar  Institute  of  Commerce  (GIC)  has  Dr.  Prashant  Pandya  as  contact  person  and  \\ncan\\n \\nbe\\n \\ncontacted\\n \\nat\\n \\n7069088194.'),\n",
       " Document(metadata={'producer': 'iLovePDF', 'creator': 'PyPDF', 'creationdate': '', 'moddate': '2025-07-10T06:48:12+00:00', 'source': 'C:\\\\Users\\\\DELL\\\\Desktop\\\\youtube chatbot\\\\final_main.pdf', 'total_pages': 29, 'page': 28, 'page_label': '29'}, page_content='Gandhinagar  Institute  of  Computer  Science  and  Application  (GICSA)  can  be  reached  at  \\n7069088195.\\n \\nGandhinagar  Institute  of  Skill  Development  (GISD)  has  Dr.  Nimesh  Gajjar  as  contact  person  \\nand\\n \\ncan\\n \\nbe\\n \\ncontacted\\n \\nat\\n \\n7069088196.\\n \\nGandhinagar  Institute  of  Valuation  Studies  (GIVS)  has  Mr.  Dwarik  Dave  as  contact  person  \\nand\\n \\ncan\\n \\nbe\\n \\nreached\\n \\nat\\n \\n7069088113.\\n \\nGandhinagar  Institute  of  Research  &  Development  (GIRD)  can  be  contacted  at  7069088114.  \\nGandhinagar  Institute  of  Law  (GIL)  is  part  of  the  university  institutes.  \\nGandhinagar  Institute  of  Liberal  Studies  (GILS)  has  Dr.  Nirupama  Patel  as  contact  person  \\nand\\n \\ncan\\n \\nbe\\n \\nreached\\n \\nat\\n \\n7069088200.\\n \\nGandhinagar  Institute  of  Design  (GID)  can  be  contacted  at  7069088116.  \\nGandhinagar  Institute  of  Pharmacy  (GIP)  has  Dr.  Kaushik  Kanada  as  contact  person  and  \\ncan\\n \\nbe\\n \\nreached\\n \\nat\\n \\n7069088117.\\n \\nGandhinagar  Institute  of  Nursing  (GIN)  has  Mr.  Chetan  Gupta  as  contact  person  and  can  be  \\ncontacted\\n \\nat\\n \\n7069069476.\\n \\nOffice  of  International  Relations  (OIR)  can  be  reached  at  7069088198.')]"
      ]
     },
     "execution_count": 275,
     "metadata": {},
     "output_type": "execute_result"
    }
   ],
   "source": [
    "docs"
   ]
  },
  {
   "cell_type": "code",
   "execution_count": null,
   "id": "f4a0563d",
   "metadata": {},
   "outputs": [],
   "source": [
    "splits = text_splitter.split_documents(docs)\n",
    "vector_store = FAISS.from_documents(splits, embedding)\n",
    "retriever = vector_store.as_retriever()"
   ]
  },
  {
   "cell_type": "code",
   "execution_count": null,
   "id": "4cf799d1",
   "metadata": {},
   "outputs": [
    {
     "data": {
      "text/plain": [
       "{0: '0575dc94-6375-4779-a0b4-1904fdbf29b1',\n",
       " 1: 'a379f700-09ff-438d-9519-b70de0cee9b7',\n",
       " 2: '6ee5dbe2-a494-45a8-9add-b165021091d1',\n",
       " 3: 'bf8b5b2f-310f-4d75-85af-a0d24eb534f0',\n",
       " 4: '4698a2cc-2b4f-4a5a-8cb9-624c5e73e8aa',\n",
       " 5: 'ebbbe36a-8610-409b-b7d7-1d449563a030',\n",
       " 6: '3040f3c3-6174-4bd3-a8e4-00aab6284335',\n",
       " 7: '99323fbd-faa9-42b8-ba97-295cc5dc5a36',\n",
       " 8: 'fb9a3fcc-4ba0-4b83-a510-9b254976d113',\n",
       " 9: '3651e60f-77f1-439d-99a3-4c23de6e2d27',\n",
       " 10: 'ece0dace-9916-439a-bbd5-c7d07de8a96b',\n",
       " 11: '3d9f734d-ef71-4cab-8155-e27e44c92141',\n",
       " 12: '75d159ee-2210-4e8a-8f64-4174cd9ad04d',\n",
       " 13: '9ec7bfef-3e77-416f-8bcd-a49624bfd90c',\n",
       " 14: 'fae2aff1-3405-4bf0-8326-096b0c81777a',\n",
       " 15: 'dca091bc-e7d9-4ce3-9bd3-55ebf1488896',\n",
       " 16: '8dc1afe8-11f4-4ba1-ae36-3f2bc3107316',\n",
       " 17: '6b054248-8716-492c-acb5-fc4379763b93',\n",
       " 18: '07e0deb7-9754-4817-be6d-2760e80ba224',\n",
       " 19: '34557918-4297-48a1-9fb7-53c36b52abf3',\n",
       " 20: 'd8e8f4f2-205a-414a-bb28-f9a682bbb06d',\n",
       " 21: '6a8b2c63-af9d-4608-bc0c-66ca4b57aaf8',\n",
       " 22: 'b6323e2a-2352-408e-bd39-6be140106e3e',\n",
       " 23: 'c2546b60-da0b-4210-affe-255f187dfa6c',\n",
       " 24: '77dd5a22-20cf-469c-b554-7c5ec92435e4',\n",
       " 25: '0cbab0a1-ba4c-4125-8056-0e4375191a6f',\n",
       " 26: '67debd6d-a50c-4994-a8f0-a02d6ec61191',\n",
       " 27: 'ca3bd8b0-53a0-4d37-99a2-3939cd2685cc',\n",
       " 28: '02526536-49c8-4092-86f5-4c65688b729c',\n",
       " 29: '4f4ac4b7-c590-49d3-bf3c-d9dd5c0c7f77',\n",
       " 30: 'f311c374-eda3-4ce0-a65a-83b22a5267ea',\n",
       " 31: 'd5724046-6892-4337-b24b-c7382780174d'}"
      ]
     },
     "execution_count": 277,
     "metadata": {},
     "output_type": "execute_result"
    }
   ],
   "source": [
    "vector_store.index_to_docstore_id"
   ]
  },
  {
   "cell_type": "code",
   "execution_count": null,
   "id": "04f90093",
   "metadata": {},
   "outputs": [
    {
     "data": {
      "text/plain": [
       "[]"
      ]
     },
     "execution_count": 278,
     "metadata": {},
     "output_type": "execute_result"
    }
   ],
   "source": [
    "vector_store.get_by_ids(['00b91e18-b557-45fe-8728-48fa917e4d62'])"
   ]
  },
  {
   "cell_type": "code",
   "execution_count": 329,
   "id": "c530a1b1",
   "metadata": {},
   "outputs": [
    {
     "name": "stderr",
     "output_type": "stream",
     "text": [
      "c:\\Users\\DELL\\anaconda3\\envs\\langchain\\lib\\site-packages\\langsmith\\client.py:272: LangSmithMissingAPIKeyWarning: API key must be provided when using hosted LangSmith API\n",
      "  warnings.warn(\n"
     ]
    },
    {
     "name": "stdout",
     "output_type": "stream",
     "text": [
      "You are an assistant for question-answering tasks. Use the following pieces of retrieved context to answer the question. If you don't know the answer, just say that you don't know. Use three sentences maximum and keep the answer concise.\n",
      "Question: {question} \n",
      "Context: {context} \n",
      "Answer:\n"
     ]
    }
   ],
   "source": [
    "rag_prompt = hub.pull(\"rlm/rag-prompt\")\n",
    "\n",
    "# Chain\n",
    "rag_chain = prompt | llm | StrOutputParser()\n",
    "print(rag_prompt.messages[0].prompt.template)"
   ]
  },
  {
   "cell_type": "code",
   "execution_count": 330,
   "id": "8991c89e",
   "metadata": {},
   "outputs": [],
   "source": [
    "class Evaluator(BaseModel):\n",
    "    \"\"\" Classify retrieved documents based on its relevance to the question.\"\"\"\n",
    "    binary_score: str = Field(\n",
    "        description=\"Documents are relevant to the question, 'yes' or 'no' \"\n",
    "    )\n",
    "\n",
    "\n",
    "evaluator_llm = ChatGoogleGenerativeAI(model=\"gemini-1.5-flash\")\n",
    "output_llm_evaluator = evaluator_llm.with_structured_output(Evaluator)\n",
    "\n",
    "system = \"\"\"You are tasked with evaluating the relevance of a retrieved document to a user's question. \\n If the document contains keywords or semantic content related to the question, mark it as relevant. \\n Output a binary score: 'yes' if the document is relevant, or 'no' if it is not\"\"\"\n",
    "retrieval_evaluator_prompt = ChatPromptTemplate.from_messages(\n",
    "    [\n",
    "        (\"system\", system),\n",
    "        (\"human\", \"Retrieved document: \\\\n\\\\n {document} \\\\n\\\\n User question: {question}\"),\n",
    "    ]\n",
    ")\n",
    "\n",
    "retrieval_grader = retrieval_evaluator_prompt | output_llm_evaluator"
   ]
  },
  {
   "cell_type": "code",
   "execution_count": 331,
   "id": "f7fab623",
   "metadata": {},
   "outputs": [],
   "source": [
    "question_rewriter_llm = ChatGoogleGenerativeAI(model=\"gemini-1.5-flash\")\n",
    "\n",
    "system = \"\"\"You are a question rewriter who improves input questions to make them more effective for web search. \\n Analyze the question and focus on the underlying semantic intent to craft a better version.\"\"\"\n",
    "re_write_prompt = ChatPromptTemplate.from_messages(\n",
    "    [\n",
    "        (\"system\",system),\n",
    "        (\"human\", \"Here is the initial question: {question} \\n\\n Formulate an improved question\"),\n",
    "    ]\n",
    ")\n",
    "question_rewriter = re_write_prompt | question_rewriter_llm | StrOutputParser()"
   ]
  },
  {
   "cell_type": "code",
   "execution_count": 332,
   "id": "1e5b810f",
   "metadata": {},
   "outputs": [],
   "source": [
    "from langchain_community.tools.tavily_search import TavilySearchResults\n",
    "\n",
    "web_search_tool = TavilySearchResults(k=1)"
   ]
  },
  {
   "cell_type": "code",
   "execution_count": 333,
   "id": "e930c424",
   "metadata": {},
   "outputs": [],
   "source": [
    "class GraphState(TypedDict):\n",
    "    \"\"\"State of the graph.\"\"\"\n",
    "    question: str\n",
    "    generation: str\n",
    "    web_search: str\n",
    "    documents: List[Document]"
   ]
  },
  {
   "cell_type": "code",
   "execution_count": 334,
   "id": "e9d44e0c",
   "metadata": {},
   "outputs": [],
   "source": [
    "def retrieve(state):\n",
    "    question = state[\"question\"]\n",
    "    # Retrieval\n",
    "    documents = retriever.get_relevant_documents(question)\n",
    "    return {\"documents\": documents, \"question\": question}"
   ]
  },
  {
   "cell_type": "code",
   "execution_count": 336,
   "id": "73830c1e",
   "metadata": {},
   "outputs": [],
   "source": [
    "def generate(state):\n",
    "    question = state[\"question\"]\n",
    "    documents = state[\"documents\"]\n",
    "    # Generation\n",
    "    generation = rag_chain.invoke({\"context\":documents, \"question\": question})\n",
    "    return {\"documents\": documents, \"question\": question, \"generation\": generation}"
   ]
  },
  {
   "cell_type": "code",
   "execution_count": 337,
   "id": "fa89636f",
   "metadata": {},
   "outputs": [],
   "source": [
    "def evaluate_documents(state):\n",
    "    question = state[\"question\"]\n",
    "    documents_all = state[\"documents\"]\n",
    "\n",
    "    docs_filtered = []\n",
    "    web_search = \"No\"\n",
    "\n",
    "    for d in documents_all:\n",
    "        score = retrieval_grader.invoke(\n",
    "            {\"question\": question, \"document\": d.page_content}\n",
    "        )\n",
    "        grade = score.binary_score\n",
    "        if grade == \"yes\":\n",
    "            docs_filtered.append(d)\n",
    "        else:\n",
    "            continue\n",
    "\n",
    "    if len(docs_filtered) / len(documents_all) <= 0.7:\n",
    "        web_search = \"Yes\"\n",
    "    return {\"documents\": docs_filtered, \"question\": question, \"web_search\": web_search}\n"
   ]
  },
  {
   "cell_type": "code",
   "execution_count": 338,
   "id": "2578e67f",
   "metadata": {},
   "outputs": [],
   "source": [
    "def transform_query(state):\n",
    "    question = state[\"question\"]\n",
    "    documents_all = state[\"documents\"]\n",
    "    # Re-write question\n",
    "    transform_question = question_rewriter.invoke({\"question\":question})\n",
    "    return {\"documents\": documents_all, \"question\": transform_question, \"web_search\": \"No\"}"
   ]
  },
  {
   "cell_type": "code",
   "execution_count": 339,
   "id": "ec28ec9f",
   "metadata": {},
   "outputs": [],
   "source": [
    "def web_search(state):\n",
    "    question = state[\"question\"]\n",
    "    documents_all = state[\"documents\"]\n",
    "    # # Web search\n",
    "    # docs = web_search_tool.invoke({\"query\": question})\n",
    "    \n",
    "    # #Fetch results from web\n",
    "    # web_results = \"\\n\".join([d[\"content\"] for d in docs])\n",
    "    # web_document = Document(page_content=web_results)\n",
    "        \n",
    "    #     # Append the results from the web to the documents\n",
    "    # if documents_all is None:\n",
    "    #     documents_all = []\n",
    "    # documents_all.append(web_document)\n",
    "\n",
    "    # #append the results from the web to the documents\n",
    "    # documents_all.append(web_results)\n",
    "    # return {\"documents\": documents_all, \"question\": question}\n",
    "\n",
    "    try:\n",
    "        docs = web_search_tool.invoke({\"query\": question})\n",
    "        print(f\"Web search results: {docs}\")\n",
    "\n",
    "        #create individual Document objects for each result\n",
    "        web_documents = []\n",
    "        for i, doc in enumerate(docs):\n",
    "            # Ensure we extract only string content\n",
    "            content = \"\"\n",
    "            if isinstance(doc,dict):\n",
    "                content = doc.get(\"content\", \"\")\n",
    "            else:\n",
    "                content = str(doc)\n",
    "\n",
    "            # create a proper Document object with string\n",
    "            if content.strip():\n",
    "                web_doc = Document(\n",
    "                    page_content=content,\n",
    "                    metadata={\"source\": f\"web_search_result_{i+1}\"}\n",
    "                )\n",
    "                web_documents.append(web_doc)\n",
    "\n",
    "        if documents_all is None:\n",
    "            documents_all = []\n",
    "\n",
    "        documents_all.extend(web_documents)\n",
    "        print(f\"Documents after web search: {documents_all}\")\n",
    "\n",
    "    except Exception as e:\n",
    "        print(f\"Error during web search: {e}\")\n",
    "        if documents_all is None:\n",
    "            documents_all = []\n",
    "\n",
    "    return {\"documents\": documents_all, \"question\": question}"
   ]
  },
  {
   "cell_type": "code",
   "execution_count": 340,
   "id": "a7e35f53",
   "metadata": {},
   "outputs": [],
   "source": [
    "def decide_next_step(state):\n",
    "    web_search = state[\"web_search\"]\n",
    "    if web_search == \"Yes\":\n",
    "        return \"transform_query\"\n",
    "    else:\n",
    "        return \"generate\""
   ]
  },
  {
   "cell_type": "markdown",
   "id": "acb34c7e",
   "metadata": {},
   "source": [
    "![Alt Text](c-rag.png)"
   ]
  },
  {
   "cell_type": "code",
   "execution_count": 341,
   "id": "5d336b48",
   "metadata": {},
   "outputs": [
    {
     "data": {
      "image/png": "[encoded data removed]",
      "text/plain": [
       "<langgraph.graph.state.CompiledStateGraph object at 0x00000203ABDF8D90>"
      ]
     },
     "execution_count": 341,
     "metadata": {},
     "output_type": "execute_result"
    }
   ],
   "source": [
    "workflow = StateGraph(GraphState)\n",
    "\n",
    "# Define the nodes\n",
    "workflow.add_node(\"retrieve\", retrieve) # retrieve\n",
    "workflow.add_node(\"grade_documents\", evaluate_documents) # evaluate documents\n",
    "workflow.add_node(\"generate\", generate) # generate answer\n",
    "workflow.add_node(\"transform_query\", transform_query) # transform_query\n",
    "workflow.add_node(\"web_search_node\", web_search) # web search\n",
    "\n",
    "# Adding the Edges\n",
    "workflow.add_edge(START, \"retrieve\")\n",
    "workflow.add_edge(\"retrieve\", \"grade_documents\")\n",
    "workflow.add_conditional_edges(\n",
    "    \"grade_documents\",\n",
    "    decide_next_step,\n",
    "    {\n",
    "        \"transform_query\": \"transform_query\",\n",
    "        \"generate\": \"generate\"\n",
    "    }\n",
    ")\n",
    "workflow.add_edge(\"transform_query\", \"web_search_node\")\n",
    "workflow.add_edge(\"web_search_node\", \"generate\")\n",
    "workflow.add_edge(\"generate\", END)\n",
    "\n",
    "#Compile\n",
    "workflow.compile()"
   ]
  },
  {
   "cell_type": "code",
   "execution_count": 342,
   "id": "9efca9c2",
   "metadata": {},
   "outputs": [],
   "source": [
    "app = workflow.compile()"
   ]
  },
  {
   "cell_type": "code",
   "execution_count": 343,
   "id": "82734b18",
   "metadata": {},
   "outputs": [],
   "source": [
    "from pprint import pprint\n",
    "# inputs = {\"question\": \"What is the difference between Flat white and cappuccino?\"}\n",
    "# for output in app.stream(inputs):\n",
    "#     for key, value in output.items():\n",
    "#         # Node\n",
    "#         pprint(f\"Node '{key}':\")\n",
    "#         # Optional: print full state at each node\n",
    "#         pprint(value, indent=2, width=80, depth=None)\n",
    "#     pprint(\"\\\\n---\\\\n\")\n",
    "# # Final generation\n",
    "# pprint(value[\"generation\"])\n",
    "def run_rag_workflow(question: str):\n",
    "    \"\"\"Run the RAG workflow with the given question.\"\"\"\n",
    "    inputs = {\"question\": question}\n",
    "    \n",
    "    try:\n",
    "        for output in app.stream(inputs):\n",
    "            for key, value in output.items():\n",
    "                print(f\"Node '{key}':\")\n",
    "                # Print relevant parts of the state\n",
    "                if key == \"retrieve\":\n",
    "                    print(f\"  Retrieved {len(value.get('documents', []))} documents\")\n",
    "                elif key == \"grade_documents\":\n",
    "                    print(f\"  Filtered to {len(value.get('documents', []))} relevant documents\")\n",
    "                    print(f\"  Web search needed: {value.get('web_search', 'No')}\")\n",
    "                elif key == \"transform_query\":\n",
    "                    print(f\"  Transformed question: {value.get('question', '')}\")\n",
    "                elif key == \"web_search_node\":\n",
    "                    print(f\"  Added web search results, total documents: {len(value.get('documents', []))}\")\n",
    "                elif key == \"generate\":\n",
    "                    print(f\"  Generated response\")\n",
    "                print(\"---\")\n",
    "        \n",
    "        # Return the final generation\n",
    "        return value.get(\"generation\", \"No generation found\")\n",
    "        \n",
    "    except Exception as e:\n",
    "        print(f\"Error in workflow execution: {e}\")\n",
    "        return None"
   ]
  },
  {
   "cell_type": "code",
   "execution_count": 344,
   "id": "3dab4ac1",
   "metadata": {},
   "outputs": [
    {
     "name": "stdout",
     "output_type": "stream",
     "text": [
      "Node 'retrieve':\n",
      "  Retrieved 1 documents\n",
      "---\n",
      "Node 'grade_documents':\n",
      "  Filtered to 0 relevant documents\n",
      "  Web search needed: Yes\n",
      "---\n"
     ]
    },
    {
     "name": "stderr",
     "output_type": "stream",
     "text": [
      "Retrying langchain_google_genai.chat_models._chat_with_retry.<locals>._chat_with_retry in 2.0 seconds as it raised ResourceExhausted: 429 You exceeded your current quota, please check your plan and billing details. For more information on this error, head to: https://ai.google.dev/gemini-api/docs/rate-limits. [violations {\n",
      "  quota_metric: \"generativelanguage.googleapis.com/generate_content_free_tier_requests\"\n",
      "  quota_id: \"GenerateRequestsPerDayPerProjectPerModel-FreeTier\"\n",
      "  quota_dimensions {\n",
      "    key: \"model\"\n",
      "    value: \"gemini-1.5-flash\"\n",
      "  }\n",
      "  quota_dimensions {\n",
      "    key: \"location\"\n",
      "    value: \"global\"\n",
      "  }\n",
      "  quota_value: 50\n",
      "}\n",
      ", links {\n",
      "  description: \"Learn more about Gemini API quotas\"\n",
      "  url: \"https://ai.google.dev/gemini-api/docs/rate-limits\"\n",
      "}\n",
      ", retry_delay {\n",
      "  seconds: 32\n",
      "}\n",
      "].\n",
      "Retrying langchain_google_genai.chat_models._chat_with_retry.<locals>._chat_with_retry in 4.0 seconds as it raised ResourceExhausted: 429 You exceeded your current quota, please check your plan and billing details. For more information on this error, head to: https://ai.google.dev/gemini-api/docs/rate-limits. [violations {\n",
      "  quota_metric: \"generativelanguage.googleapis.com/generate_content_free_tier_requests\"\n",
      "  quota_id: \"GenerateRequestsPerDayPerProjectPerModel-FreeTier\"\n",
      "  quota_dimensions {\n",
      "    key: \"model\"\n",
      "    value: \"gemini-1.5-flash\"\n",
      "  }\n",
      "  quota_dimensions {\n",
      "    key: \"location\"\n",
      "    value: \"global\"\n",
      "  }\n",
      "  quota_value: 50\n",
      "}\n",
      ", links {\n",
      "  description: \"Learn more about Gemini API quotas\"\n",
      "  url: \"https://ai.google.dev/gemini-api/docs/rate-limits\"\n",
      "}\n",
      ", retry_delay {\n",
      "  seconds: 30\n",
      "}\n",
      "].\n"
     ]
    },
    {
     "name": "stdout",
     "output_type": "stream",
     "text": [
      "Node 'transform_query':\n",
      "  Transformed question: Flat white vs. cappuccino: What are the key differences in milk texture, coffee strength, and presentation?\n",
      "---\n",
      "Web search results: [{'title': 'Flat White vs Cappuccino: The Differences | Nescafé | UK & IE', 'url': 'https://www.nescafe.com/gb/coffee-culture/knowledge/flat-white-vs-cappuccino', 'content': 'A flat white is a much creamier drink thanks to the amount of steamed milk, and also contains a higher amount of caffeine, as it contains two shots of espresso. Whereas the cappuccino is only made with one shot of espresso, with steamed milk, and then topped with milk foam. This gives the cappuccino a more distinct flavour. [...] However, the milk that is in each drink is prepared differently from each other. This affects the texture and creaminess of the drink. Flat whites are made with a thin layer of milk foam but contain most of their steamed milk within the drink. Whereas Cappuccinos, focus primarily on foamed milk on top of the drink, rather than having it all in the coffee itself. [...] Due to the higher milk content in a flat white, they tend to dilute the coffee flavour a little more, making them taste a little bit sweeter. This makes the cappuccino the stronger-tasting drink of the two. The difference in flavour between the two is due to the addition of milk foam. This is because the milk foam tends to absorb some of the flavours.', 'score': 0.8763069}, {'title': 'Flat White vs Cappuccino: Differences in Caffeine, Foam & ...', 'url': 'https://1zpresso.coffee/flat-white-vs-cappuccino/', 'content': 'Flat White vs Cappuccino comparison table: espresso base, milk texture, foam, flavor, roast, size, and caffeine.\\n\\nNote: Caffeine content can vary depending on several factors, including the type of beans used (e.g., Arabica vs. Robusta), roast level, and shot volume. Flat whites typically use a double shot of espresso, while cappuccinos often use a single shot. Consequently, flat whites tend to have higher caffeine content, even though the cup sizes are similar. [...] Milk texture and strength.  \\nFlat white: smooth microfoam + bold espresso.  \\nCappuccino: dry foam + lighter texture.\\n\\nReferences:\\n\\nWikipedia: Microfoam\\n\\nWikipedia: Coffee culture in Australia\\n\\nWikipedia: Cappuccino\\n\\nPerfect Daily Grind: What Should Your Cappuccino Milk Temperature Be?\\n\\nScience Direct: Effect of milk homogenisation and foaming temperature on properties and microstructure of foams from pasteurised whole milk\\n\\n## Product Update Notification [...] Wondering about the real difference between a flat white and a cappuccino? You’re not alone. While both are espresso-based drinks with milk, they differ in caffeine strength, milk foam texture, and overall flavor. In this guide, we’ll compare flat white vs cappuccino — and even latte — so you can choose the perfect coffee every time.\\n\\n#### Table of Contents\\n\\n## Why Everyone Confuses Flat White, Latte, and Cappuccino\\n\\n### Similar Ingredients, Different Experiences', 'score': 0.8719229}, {'title': 'Flat White vs Cappuccino: Every Difference You Need To Know', 'url': 'https://coffeebros.com/blogs/coffee/flat-white-vs-cappuccino-every-difference-you-need-to-know?srsltid=AfmBOoomZL-kIbw8t9bcnLpAPuVZYly26zW9cE0eDb3PVapAUcTJ6Nj-', 'content': \"Flat whites have more milk to dilute the espresso, so they tend to taste a bit toned down. Cappuccinos don't have as much steamed milk though, which makes them taste a bit stronger… and when we say stronger, we really mean “considered the perfect balance of coffee and milk by most of the world”.\\n\\n### Do You Like Thick, Fluffy Microfoam? [...] Pro Tip: Go to Italy and watch locals drink cappuccinos. It takes them about 3 seconds to finish one… and those drinks are HOT.\\n\\n### The Taste And Texture Of A Cappuccino\\n\\nBecause cappuccinos are one-third foam, there's less liquid milk to cut the intensity of the espresso. In fact, it's a 1:1 ratio of coffee to steamed milk in a cappuccino, compared to a 1:3 ratio in a flat white… which means the cappuccino is noticeably stronger.\\n\\nAnd the texture is very different too! [...] Flat whites have just a small hint of microfoam on their surface, but they're really designed to be a milky drink. Cappuccinos, on the other hand, are all about the foam. A great specialty coffee cappuccino's foam will be thick, fluffy, dense, and creamy.\\n\\n## What About Making Flat Whites And Cappuccinos At Home?\\n\\nBoth drinks are pretty easy to make at home. You really just need a coffee grinder, an espresso machine, and some practice when it comes to pulling shots and steaming milk.\", 'score': 0.850382}, {'title': 'Flat White vs Cappuccino: Every Difference You Need To Know', 'url': 'https://coffeebros.com/blogs/coffee/flat-white-vs-cappuccino-every-difference-you-need-to-know?srsltid=AfmBOoqOf8XaWUwoU5I-_liZQ9TLbU-TRlyDpNkfjHqzd3KjR2KXO-X1', 'content': \"Flat whites have more milk to dilute the espresso, so they tend to taste a bit toned down. Cappuccinos don't have as much steamed milk though, which makes them taste a bit stronger… and when we say stronger, we really mean “considered the perfect balance of coffee and milk by most of the world”.\\n\\n### Do You Like Thick, Fluffy Microfoam? [...] Pro Tip: Go to Italy and watch locals drink cappuccinos. It takes them about 3 seconds to finish one… and those drinks are HOT.\\n\\n### The Taste And Texture Of A Cappuccino\\n\\nBecause cappuccinos are one-third foam, there's less liquid milk to cut the intensity of the espresso. In fact, it's a 1:1 ratio of coffee to steamed milk in a cappuccino, compared to a 1:3 ratio in a flat white… which means the cappuccino is noticeably stronger.\\n\\nAnd the texture is very different too! [...] Flat whites have just a small hint of microfoam on their surface, but they're really designed to be a milky drink. Cappuccinos, on the other hand, are all about the foam. A great specialty coffee cappuccino's foam will be thick, fluffy, dense, and creamy.\\n\\n## What About Making Flat Whites And Cappuccinos At Home?\\n\\nBoth drinks are pretty easy to make at home. You really just need a coffee grinder, an espresso machine, and some practice when it comes to pulling shots and steaming milk.\", 'score': 0.850382}, {'title': 'Flat White vs Cappuccino: Every Difference You Need To ...', 'url': 'https://coffeebros.com/blogs/coffee/flat-white-vs-cappuccino-every-difference-you-need-to-know?srsltid=AfmBOoqPJuhJeguyMOTRKoXuobZrSn2guPhByKfaxvrAHlRdacR_6o6D', 'content': \"Flat whites have more milk to dilute the espresso, so they tend to taste a bit toned down. Cappuccinos don't have as much steamed milk though, which makes them taste a bit stronger… and when we say stronger, we really mean “considered the perfect balance of coffee and milk by most of the world”.\\n\\n### Do You Like Thick, Fluffy Microfoam? [...] Pro Tip: Go to Italy and watch locals drink cappuccinos. It takes them about 3 seconds to finish one… and those drinks are HOT.\\n\\n### The Taste And Texture Of A Cappuccino\\n\\nBecause cappuccinos are one-third foam, there's less liquid milk to cut the intensity of the espresso. In fact, it's a 1:1 ratio of coffee to steamed milk in a cappuccino, compared to a 1:3 ratio in a flat white… which means the cappuccino is noticeably stronger.\\n\\nAnd the texture is very different too! [...] Flat whites have just a small hint of microfoam on their surface, but they're really designed to be a milky drink. Cappuccinos, on the other hand, are all about the foam. A great specialty coffee cappuccino's foam will be thick, fluffy, dense, and creamy.\\n\\n## What About Making Flat Whites And Cappuccinos At Home?\\n\\nBoth drinks are pretty easy to make at home. You really just need a coffee grinder, an espresso machine, and some practice when it comes to pulling shots and steaming milk.\", 'score': 0.846159}]\n",
      "Documents after web search: [Document(metadata={'source': 'web_search_result_1'}, page_content='A flat white is a much creamier drink thanks to the amount of steamed milk, and also contains a higher amount of caffeine, as it contains two shots of espresso. Whereas the cappuccino is only made with one shot of espresso, with steamed milk, and then topped with milk foam. This gives the cappuccino a more distinct flavour. [...] However, the milk that is in each drink is prepared differently from each other. This affects the texture and creaminess of the drink. Flat whites are made with a thin layer of milk foam but contain most of their steamed milk within the drink. Whereas Cappuccinos, focus primarily on foamed milk on top of the drink, rather than having it all in the coffee itself. [...] Due to the higher milk content in a flat white, they tend to dilute the coffee flavour a little more, making them taste a little bit sweeter. This makes the cappuccino the stronger-tasting drink of the two. The difference in flavour between the two is due to the addition of milk foam. This is because the milk foam tends to absorb some of the flavours.'), Document(metadata={'source': 'web_search_result_2'}, page_content='Flat White vs Cappuccino comparison table: espresso base, milk texture, foam, flavor, roast, size, and caffeine.\\n\\nNote: Caffeine content can vary depending on several factors, including the type of beans used (e.g., Arabica vs. Robusta), roast level, and shot volume. Flat whites typically use a double shot of espresso, while cappuccinos often use a single shot. Consequently, flat whites tend to have higher caffeine content, even though the cup sizes are similar. [...] Milk texture and strength.  \\nFlat white: smooth microfoam + bold espresso.  \\nCappuccino: dry foam + lighter texture.\\n\\nReferences:\\n\\nWikipedia: Microfoam\\n\\nWikipedia: Coffee culture in Australia\\n\\nWikipedia: Cappuccino\\n\\nPerfect Daily Grind: What Should Your Cappuccino Milk Temperature Be?\\n\\nScience Direct: Effect of milk homogenisation and foaming temperature on properties and microstructure of foams from pasteurised whole milk\\n\\n## Product Update Notification [...] Wondering about the real difference between a flat white and a cappuccino? You’re not alone. While both are espresso-based drinks with milk, they differ in caffeine strength, milk foam texture, and overall flavor. In this guide, we’ll compare flat white vs cappuccino — and even latte — so you can choose the perfect coffee every time.\\n\\n#### Table of Contents\\n\\n## Why Everyone Confuses Flat White, Latte, and Cappuccino\\n\\n### Similar Ingredients, Different Experiences'), Document(metadata={'source': 'web_search_result_3'}, page_content=\"Flat whites have more milk to dilute the espresso, so they tend to taste a bit toned down. Cappuccinos don't have as much steamed milk though, which makes them taste a bit stronger… and when we say stronger, we really mean “considered the perfect balance of coffee and milk by most of the world”.\\n\\n### Do You Like Thick, Fluffy Microfoam? [...] Pro Tip: Go to Italy and watch locals drink cappuccinos. It takes them about 3 seconds to finish one… and those drinks are HOT.\\n\\n### The Taste And Texture Of A Cappuccino\\n\\nBecause cappuccinos are one-third foam, there's less liquid milk to cut the intensity of the espresso. In fact, it's a 1:1 ratio of coffee to steamed milk in a cappuccino, compared to a 1:3 ratio in a flat white… which means the cappuccino is noticeably stronger.\\n\\nAnd the texture is very different too! [...] Flat whites have just a small hint of microfoam on their surface, but they're really designed to be a milky drink. Cappuccinos, on the other hand, are all about the foam. A great specialty coffee cappuccino's foam will be thick, fluffy, dense, and creamy.\\n\\n## What About Making Flat Whites And Cappuccinos At Home?\\n\\nBoth drinks are pretty easy to make at home. You really just need a coffee grinder, an espresso machine, and some practice when it comes to pulling shots and steaming milk.\"), Document(metadata={'source': 'web_search_result_4'}, page_content=\"Flat whites have more milk to dilute the espresso, so they tend to taste a bit toned down. Cappuccinos don't have as much steamed milk though, which makes them taste a bit stronger… and when we say stronger, we really mean “considered the perfect balance of coffee and milk by most of the world”.\\n\\n### Do You Like Thick, Fluffy Microfoam? [...] Pro Tip: Go to Italy and watch locals drink cappuccinos. It takes them about 3 seconds to finish one… and those drinks are HOT.\\n\\n### The Taste And Texture Of A Cappuccino\\n\\nBecause cappuccinos are one-third foam, there's less liquid milk to cut the intensity of the espresso. In fact, it's a 1:1 ratio of coffee to steamed milk in a cappuccino, compared to a 1:3 ratio in a flat white… which means the cappuccino is noticeably stronger.\\n\\nAnd the texture is very different too! [...] Flat whites have just a small hint of microfoam on their surface, but they're really designed to be a milky drink. Cappuccinos, on the other hand, are all about the foam. A great specialty coffee cappuccino's foam will be thick, fluffy, dense, and creamy.\\n\\n## What About Making Flat Whites And Cappuccinos At Home?\\n\\nBoth drinks are pretty easy to make at home. You really just need a coffee grinder, an espresso machine, and some practice when it comes to pulling shots and steaming milk.\"), Document(metadata={'source': 'web_search_result_5'}, page_content=\"Flat whites have more milk to dilute the espresso, so they tend to taste a bit toned down. Cappuccinos don't have as much steamed milk though, which makes them taste a bit stronger… and when we say stronger, we really mean “considered the perfect balance of coffee and milk by most of the world”.\\n\\n### Do You Like Thick, Fluffy Microfoam? [...] Pro Tip: Go to Italy and watch locals drink cappuccinos. It takes them about 3 seconds to finish one… and those drinks are HOT.\\n\\n### The Taste And Texture Of A Cappuccino\\n\\nBecause cappuccinos are one-third foam, there's less liquid milk to cut the intensity of the espresso. In fact, it's a 1:1 ratio of coffee to steamed milk in a cappuccino, compared to a 1:3 ratio in a flat white… which means the cappuccino is noticeably stronger.\\n\\nAnd the texture is very different too! [...] Flat whites have just a small hint of microfoam on their surface, but they're really designed to be a milky drink. Cappuccinos, on the other hand, are all about the foam. A great specialty coffee cappuccino's foam will be thick, fluffy, dense, and creamy.\\n\\n## What About Making Flat Whites And Cappuccinos At Home?\\n\\nBoth drinks are pretty easy to make at home. You really just need a coffee grinder, an espresso machine, and some practice when it comes to pulling shots and steaming milk.\")]\n",
      "Node 'web_search_node':\n",
      "  Added web search results, total documents: 5\n",
      "---\n"
     ]
    },
    {
     "name": "stderr",
     "output_type": "stream",
     "text": [
      "Retrying langchain_google_genai.chat_models._chat_with_retry.<locals>._chat_with_retry in 2.0 seconds as it raised ResourceExhausted: 429 You exceeded your current quota, please check your plan and billing details. For more information on this error, head to: https://ai.google.dev/gemini-api/docs/rate-limits. [violations {\n",
      "  quota_metric: \"generativelanguage.googleapis.com/generate_content_free_tier_requests\"\n",
      "  quota_id: \"GenerateRequestsPerDayPerProjectPerModel-FreeTier\"\n",
      "  quota_dimensions {\n",
      "    key: \"model\"\n",
      "    value: \"gemini-1.5-flash\"\n",
      "  }\n",
      "  quota_dimensions {\n",
      "    key: \"location\"\n",
      "    value: \"global\"\n",
      "  }\n",
      "  quota_value: 50\n",
      "}\n",
      ", links {\n",
      "  description: \"Learn more about Gemini API quotas\"\n",
      "  url: \"https://ai.google.dev/gemini-api/docs/rate-limits\"\n",
      "}\n",
      ", retry_delay {\n",
      "  seconds: 22\n",
      "}\n",
      "].\n",
      "Retrying langchain_google_genai.chat_models._chat_with_retry.<locals>._chat_with_retry in 4.0 seconds as it raised ResourceExhausted: 429 You exceeded your current quota, please check your plan and billing details. For more information on this error, head to: https://ai.google.dev/gemini-api/docs/rate-limits. [violations {\n",
      "  quota_metric: \"generativelanguage.googleapis.com/generate_content_free_tier_requests\"\n",
      "  quota_id: \"GenerateRequestsPerDayPerProjectPerModel-FreeTier\"\n",
      "  quota_dimensions {\n",
      "    key: \"model\"\n",
      "    value: \"gemini-1.5-flash\"\n",
      "  }\n",
      "  quota_dimensions {\n",
      "    key: \"location\"\n",
      "    value: \"global\"\n",
      "  }\n",
      "  quota_value: 50\n",
      "}\n",
      ", links {\n",
      "  description: \"Learn more about Gemini API quotas\"\n",
      "  url: \"https://ai.google.dev/gemini-api/docs/rate-limits\"\n",
      "}\n",
      ", retry_delay {\n",
      "  seconds: 20\n",
      "}\n",
      "].\n",
      "Retrying langchain_google_genai.chat_models._chat_with_retry.<locals>._chat_with_retry in 8.0 seconds as it raised ResourceExhausted: 429 You exceeded your current quota, please check your plan and billing details. For more information on this error, head to: https://ai.google.dev/gemini-api/docs/rate-limits. [violations {\n",
      "  quota_metric: \"generativelanguage.googleapis.com/generate_content_free_tier_requests\"\n",
      "  quota_id: \"GenerateRequestsPerDayPerProjectPerModel-FreeTier\"\n",
      "  quota_dimensions {\n",
      "    key: \"model\"\n",
      "    value: \"gemini-1.5-flash\"\n",
      "  }\n",
      "  quota_dimensions {\n",
      "    key: \"location\"\n",
      "    value: \"global\"\n",
      "  }\n",
      "  quota_value: 50\n",
      "}\n",
      ", links {\n",
      "  description: \"Learn more about Gemini API quotas\"\n",
      "  url: \"https://ai.google.dev/gemini-api/docs/rate-limits\"\n",
      "}\n",
      ", retry_delay {\n",
      "  seconds: 15\n",
      "}\n",
      "].\n",
      "Retrying langchain_google_genai.chat_models._chat_with_retry.<locals>._chat_with_retry in 16.0 seconds as it raised ResourceExhausted: 429 You exceeded your current quota, please check your plan and billing details. For more information on this error, head to: https://ai.google.dev/gemini-api/docs/rate-limits. [violations {\n",
      "  quota_metric: \"generativelanguage.googleapis.com/generate_content_free_tier_requests\"\n",
      "  quota_id: \"GenerateRequestsPerDayPerProjectPerModel-FreeTier\"\n",
      "  quota_dimensions {\n",
      "    key: \"model\"\n",
      "    value: \"gemini-1.5-flash\"\n",
      "  }\n",
      "  quota_dimensions {\n",
      "    key: \"location\"\n",
      "    value: \"global\"\n",
      "  }\n",
      "  quota_value: 50\n",
      "}\n",
      ", links {\n",
      "  description: \"Learn more about Gemini API quotas\"\n",
      "  url: \"https://ai.google.dev/gemini-api/docs/rate-limits\"\n",
      "}\n",
      ", retry_delay {\n",
      "  seconds: 6\n",
      "}\n",
      "].\n",
      "Retrying langchain_google_genai.chat_models._chat_with_retry.<locals>._chat_with_retry in 32.0 seconds as it raised ResourceExhausted: 429 You exceeded your current quota, please check your plan and billing details. For more information on this error, head to: https://ai.google.dev/gemini-api/docs/rate-limits. [violations {\n",
      "  quota_metric: \"generativelanguage.googleapis.com/generate_content_free_tier_requests\"\n",
      "  quota_id: \"GenerateRequestsPerDayPerProjectPerModel-FreeTier\"\n",
      "  quota_dimensions {\n",
      "    key: \"model\"\n",
      "    value: \"gemini-1.5-flash\"\n",
      "  }\n",
      "  quota_dimensions {\n",
      "    key: \"location\"\n",
      "    value: \"global\"\n",
      "  }\n",
      "  quota_value: 50\n",
      "}\n",
      ", links {\n",
      "  description: \"Learn more about Gemini API quotas\"\n",
      "  url: \"https://ai.google.dev/gemini-api/docs/rate-limits\"\n",
      "}\n",
      ", retry_delay {\n",
      "  seconds: 50\n",
      "}\n",
      "].\n"
     ]
    },
    {
     "name": "stdout",
     "output_type": "stream",
     "text": [
      "Error in workflow execution: 429 You exceeded your current quota, please check your plan and billing details. For more information on this error, head to: https://ai.google.dev/gemini-api/docs/rate-limits. [violations {\n",
      "  quota_metric: \"generativelanguage.googleapis.com/generate_content_free_tier_requests\"\n",
      "  quota_id: \"GenerateRequestsPerDayPerProjectPerModel-FreeTier\"\n",
      "  quota_dimensions {\n",
      "    key: \"model\"\n",
      "    value: \"gemini-1.5-flash\"\n",
      "  }\n",
      "  quota_dimensions {\n",
      "    key: \"location\"\n",
      "    value: \"global\"\n",
      "  }\n",
      "  quota_value: 50\n",
      "}\n",
      ", links {\n",
      "  description: \"Learn more about Gemini API quotas\"\n",
      "  url: \"https://ai.google.dev/gemini-api/docs/rate-limits\"\n",
      "}\n",
      ", retry_delay {\n",
      "  seconds: 17\n",
      "}\n",
      "]\n"
     ]
    }
   ],
   "source": [
    "if __name__ == \"__main__\":\n",
    "    question = \"What is the difference between Flat white and cappuccino?\"\n",
    "    result = run_rag_workflow(question)\n",
    "    \n",
    "    if result:\n",
    "        print(\"\\nFinal Answer:\")\n",
    "        print(result)"
   ]
  },
  {
   "cell_type": "code",
   "execution_count": null,
   "id": "6d1a6cfd",
   "metadata": {},
   "outputs": [],
   "source": []
  }
 ],
 "metadata": {
  "kernelspec": {
   "display_name": "langchain",
   "language": "python",
   "name": "python3"
  },
  "language_info": {
   "codemirror_mode": {
    "name": "ipython",
    "version": 3
   },
   "file_extension": ".py",
   "mimetype": "text/x-python",
   "name": "python",
   "nbconvert_exporter": "python",
   "pygments_lexer": "ipython3",
   "version": "3.10.18"
  }
 },
 "nbformat": 4,
 "nbformat_minor": 5
}
